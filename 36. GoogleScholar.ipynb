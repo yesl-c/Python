{
 "cells": [
  {
   "cell_type": "markdown",
   "metadata": {},
   "source": [
    "### 구글 논문 검색 자동화\n",
    "* 제목\n",
    "* 논문 링크\n",
    "* 논문 요약 정보\n",
    "* 저자 및 연도\n",
    "* 인용 횟수 정보 "
   ]
  },
  {
   "cell_type": "code",
   "execution_count": 2,
   "metadata": {},
   "outputs": [],
   "source": [
    "from bs4 import BeautifulSoup\n",
    "from selenium import webdriver\n",
    "import os"
   ]
  },
  {
   "cell_type": "code",
   "execution_count": 3,
   "metadata": {},
   "outputs": [],
   "source": [
    "driver = webdriver.Chrome('chromedriver')"
   ]
  },
  {
   "cell_type": "code",
   "execution_count": 4,
   "metadata": {},
   "outputs": [],
   "source": [
    "url = 'https://scholar.google.co.kr/schhp?hl=ko'\n",
    "driver.get(url)"
   ]
  },
  {
   "cell_type": "markdown",
   "metadata": {},
   "source": [
    "#### 논문 검색"
   ]
  },
  {
   "cell_type": "code",
   "execution_count": 5,
   "metadata": {},
   "outputs": [],
   "source": [
    "search = driver.find_element_by_xpath('//*[@id=\"gs_hdr_tsi\"]')\n",
    "search_btn = driver.find_element_by_xpath('//*[@id=\"gs_hdr_tsb\"]')"
   ]
  },
  {
   "cell_type": "code",
   "execution_count": 6,
   "metadata": {},
   "outputs": [],
   "source": [
    "search.clear()   # 검색창에 입력된 글자가 있으면 지워줌\n",
    "search.send_keys('machine learning')   # 검색 키워드 입력\n",
    "search_btn.click()   # 검색 버튼 클릭"
   ]
  },
  {
   "cell_type": "markdown",
   "metadata": {},
   "source": [
    "#### 제목 가져오기"
   ]
  },
  {
   "cell_type": "code",
   "execution_count": 7,
   "metadata": {},
   "outputs": [
    {
     "data": {
      "text/plain": [
       "<a data-clk=\"hl=ko&amp;sa=T&amp;ct=res&amp;cd=0&amp;d=6164665760994927917&amp;ei=2ybPXq_2M9W4ygSTspGIAQ\" data-clk-atid=\"LaUdC9lKjVUJ\" href=\"https://books.google.co.kr/books?hl=ko&amp;lr=&amp;id=tZnSDwAAQBAJ&amp;oi=fnd&amp;pg=PR7&amp;dq=machine+learning&amp;ots=F2_PbW4tvf&amp;sig=o58vBjUcGudKBfDOVef4ud7icog\" id=\"LaUdC9lKjVUJ\">Introduction to <b>machine learning</b></a>"
      ]
     },
     "execution_count": 7,
     "metadata": {},
     "output_type": "execute_result"
    }
   ],
   "source": [
    "page = driver.page_source\n",
    "soup = BeautifulSoup(page,'lxml')\n",
    "all_dat = soup.find('div',class_='gs_ri').find('a')\n",
    "all_dat"
   ]
  },
  {
   "cell_type": "code",
   "execution_count": 8,
   "metadata": {},
   "outputs": [
    {
     "data": {
      "text/plain": [
       "'Introduction to machine learning'"
      ]
     },
     "execution_count": 8,
     "metadata": {},
     "output_type": "execute_result"
    }
   ],
   "source": [
    "all_dat.text"
   ]
  },
  {
   "cell_type": "code",
   "execution_count": 14,
   "metadata": {},
   "outputs": [
    {
     "data": {
      "text/plain": [
       "'KP Murphy'"
      ]
     },
     "execution_count": 14,
     "metadata": {},
     "output_type": "execute_result"
    }
   ],
   "source": [
    "all_dat = soup.find_all('div',class_='gs_ri')[1].find('a')\n",
    "all_dat.text   # 정보를 제대로 가져오지 못함"
   ]
  },
  {
   "cell_type": "code",
   "execution_count": 22,
   "metadata": {},
   "outputs": [
    {
     "data": {
      "text/plain": [
       "'Genetic algorithms and machine learning'"
      ]
     },
     "execution_count": 22,
     "metadata": {},
     "output_type": "execute_result"
    }
   ],
   "source": [
    "all_dat = soup.find('div',id='gs_res_ccl_mid').find_all('div',class_='gs_r gs_or gs_scl')\n",
    "all_dat[5].find('div',class_='gs_ri').find('a').text"
   ]
  },
  {
   "cell_type": "code",
   "execution_count": 23,
   "metadata": {},
   "outputs": [],
   "source": [
    "keyword = 'gan'"
   ]
  },
  {
   "cell_type": "code",
   "execution_count": 24,
   "metadata": {},
   "outputs": [
    {
     "name": "stdout",
     "output_type": "stream",
     "text": [
      "<title>gan - Google 학술 검색</title>\n",
      "10 10 10 10 10\n",
      "<title>gan - Google 학술 검색</title>\n",
      "20 20 20 20 20\n",
      "<title>gan - Google 학술 검색</title>\n",
      "30 30 30 30 30\n",
      "<title>gan - Google 학술 검색</title>\n",
      "40 40 40 40 40\n",
      "<title>gan - Google 학술 검색</title>\n",
      "50 50 50 50 50\n",
      "<title>gan - Google 학술 검색</title>\n",
      "60 60 60 60 60\n",
      "<title>gan - Google 학술 검색</title>\n",
      "70 70 70 70 70\n",
      "<title>gan - Google 학술 검색</title>\n",
      "80 80 80 80 80\n",
      "<title>gan - Google 학술 검색</title>\n",
      "90 90 90 90 90\n",
      "<title>gan - Google 학술 검색</title>\n",
      "100 100 100 100 100\n",
      "정보 수집 완료\n"
     ]
    }
   ],
   "source": [
    "import time \n",
    "\n",
    "title = []\n",
    "des = []\n",
    "title_url = []\n",
    "ref_cnt = []\n",
    "author_year = []\n",
    "\n",
    "time_lay = [2,3,4,5,6,7]\n",
    "cnt = 0\n",
    "for i in range(0, 100, 10):\n",
    "    cnt =  cnt + 1\n",
    "    url1 = 'https://scholar.google.co.kr/scholar?start='+ str(i) + '&q=' + keyword + '&hl=ko&as_sdt=0,5'\n",
    "    driver.get(url1)\n",
    "    page = driver.page_source\n",
    "    soup = BeautifulSoup(page, 'lxml')\n",
    "    print( soup.title )\n",
    "    \n",
    "    all_dat = soup.find('div', id='gs_res_ccl_mid').find_all(\"div\", class_='gs_r gs_or gs_scl')\n",
    "    for item in all_dat:\n",
    "        # 제목\n",
    "        temp1 = item.find(\"div\", class_='gs_ri').find('a')\n",
    "        if temp1 is not None:\n",
    "            tmp_txt = temp1.text\n",
    "            title.append(tmp_txt)\n",
    "        else:\n",
    "            title.append(\"\")\n",
    "          \n",
    "        # 요약 정보\n",
    "        t2 = item.find('div', class_=\"gs_rs\")\n",
    "        if t2 is not None:\n",
    "            temp2 = item.find('div', class_=\"gs_rs\").text\n",
    "            des.append(temp2)\n",
    "        else:\n",
    "            des.append(\"\")\n",
    "            \n",
    "        # 논문 링크 가져오기\n",
    "        t3 = item.find(\"div\", class_='gs_ri').find('a')\n",
    "        if t3 is not None:\n",
    "            temp3 = item.find(\"div\", class_='gs_ri').find('a')['href']\n",
    "            title_url.append(temp3)\n",
    "        else:\n",
    "            title_url.append(\"\")\n",
    "            \n",
    "        # 저자 및 연도\n",
    "        t4 = item.find(\"div\", class_='gs_a')\n",
    "        if t4 is not None:\n",
    "            tmp_txt = t4.text\n",
    "            author_year.append(tmp_txt)\n",
    "        else:\n",
    "            author_year.append(\"\")\n",
    "\n",
    "    # 인용횟수 정보 가져오기\n",
    "    # //*[@id=\"gs_res_ccl_mid\"]/div[2]/div[2]/div[3]/a[3]\n",
    "    des_all = driver.find_elements_by_partial_link_text(\"인용\")\n",
    "    for item in des_all:\n",
    "        # 링크\n",
    "        temp1 = item.text\n",
    "        # print(temp1)\n",
    "        ref_cnt.append(temp1)\n",
    "\n",
    "    print(len(title), len(des), len(title_url), len(ref_cnt), len(author_year) )\n",
    "    time.sleep(time_lay[cnt%6])\n",
    "    \n",
    "print(\"정보 수집 완료\")"
   ]
  },
  {
   "cell_type": "code",
   "execution_count": 25,
   "metadata": {},
   "outputs": [],
   "source": [
    "import pandas as pd\n",
    "\n",
    "dat = { \"title\":title, \"description\":des, \"인용횟수\":ref_cnt, \"논문링크\":title_url, \"저자및년도\":author_year }\n",
    "excel_dat = pd.DataFrame(dat)\n",
    "\n",
    "excel_dat.to_excel(\"data.xlsx\", index=False)"
   ]
  },
  {
   "cell_type": "code",
   "execution_count": null,
   "metadata": {},
   "outputs": [],
   "source": []
  },
  {
   "cell_type": "code",
   "execution_count": null,
   "metadata": {},
   "outputs": [],
   "source": []
  },
  {
   "cell_type": "code",
   "execution_count": null,
   "metadata": {},
   "outputs": [],
   "source": []
  },
  {
   "cell_type": "code",
   "execution_count": null,
   "metadata": {},
   "outputs": [],
   "source": []
  }
 ],
 "metadata": {
  "kernelspec": {
   "display_name": "Python 3",
   "language": "python",
   "name": "python3"
  },
  "language_info": {
   "codemirror_mode": {
    "name": "ipython",
    "version": 3
   },
   "file_extension": ".py",
   "mimetype": "text/x-python",
   "name": "python",
   "nbconvert_exporter": "python",
   "pygments_lexer": "ipython3",
   "version": "3.7.1"
  }
 },
 "nbformat": 4,
 "nbformat_minor": 2
}
