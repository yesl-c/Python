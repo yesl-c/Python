{
 "cells": [
  {
   "cell_type": "code",
   "execution_count": 1,
   "metadata": {},
   "outputs": [],
   "source": [
    "from sklearn.model_selection import train_test_split\n",
    "from sklearn.datasets import load_breast_cancer\n",
    "\n",
    "import matplotlib.pyplot as plt\n",
    "import numpy as np"
   ]
  },
  {
   "cell_type": "code",
   "execution_count": 2,
   "metadata": {},
   "outputs": [],
   "source": [
    "def plot_feature_imp_cancer_up(model, feature_num, feature_names):\n",
    "  n_features = feature_num    # feature(변수의 개수)\n",
    "  imp = model.feature_importances_     # feature의 중요도 \n",
    "  plt.barh(range(n_features) , imp, align='center')  # 그래프(가로 막대 그래프)\n",
    "  plt.yticks(np.arange(n_features), feature_names)  #y축의 축의 값\n",
    "  plt.xlabel(\"feature importance\")   # x축 레이블(제목)\n",
    "  plt.ylabel(\"feature\")              # y축 제목\n",
    "  plt.ylim(-1, n_features)           # y축의 범위 지정 "
   ]
  },
  {
   "cell_type": "code",
   "execution_count": 3,
   "metadata": {},
   "outputs": [],
   "source": [
    "from sklearn.ensemble import GradientBoostingClassifier"
   ]
  },
  {
   "cell_type": "code",
   "execution_count": 4,
   "metadata": {},
   "outputs": [],
   "source": [
    "cancer = load_breast_cancer()"
   ]
  },
  {
   "cell_type": "markdown",
   "metadata": {},
   "source": [
    "### 01. X, y로 데이터 나누기"
   ]
  },
  {
   "cell_type": "code",
   "execution_count": 9,
   "metadata": {},
   "outputs": [],
   "source": [
    "X = cancer.data\n",
    "y = cancer.target\n",
    "\n",
    "X_train, X_test, y_train, y_test = train_test_split(X, y, random_state=0)"
   ]
  },
  {
   "cell_type": "markdown",
   "metadata": {},
   "source": [
    "### 02. GradientBoostingClassifier 모델 만들기"
   ]
  },
  {
   "cell_type": "code",
   "execution_count": 6,
   "metadata": {},
   "outputs": [],
   "source": [
    "model = GradientBoostingClassifier(random_state=0)"
   ]
  },
  {
   "cell_type": "markdown",
   "metadata": {},
   "source": [
    "### 03. 학습"
   ]
  },
  {
   "cell_type": "code",
   "execution_count": 7,
   "metadata": {},
   "outputs": [
    {
     "data": {
      "text/plain": [
       "GradientBoostingClassifier(criterion='friedman_mse', init=None,\n",
       "              learning_rate=0.1, loss='deviance', max_depth=3,\n",
       "              max_features=None, max_leaf_nodes=None,\n",
       "              min_impurity_decrease=0.0, min_impurity_split=None,\n",
       "              min_samples_leaf=1, min_samples_split=2,\n",
       "              min_weight_fraction_leaf=0.0, n_estimators=100,\n",
       "              n_iter_no_change=None, presort='auto', random_state=0,\n",
       "              subsample=1.0, tol=0.0001, validation_fraction=0.1,\n",
       "              verbose=0, warm_start=False)"
      ]
     },
     "execution_count": 7,
     "metadata": {},
     "output_type": "execute_result"
    }
   ],
   "source": [
    "model.fit(X_train, y_train)"
   ]
  },
  {
   "cell_type": "markdown",
   "metadata": {},
   "source": [
    "### 04. 정확도 확인 model.score()"
   ]
  },
  {
   "cell_type": "code",
   "execution_count": 8,
   "metadata": {},
   "outputs": [
    {
     "name": "stdout",
     "output_type": "stream",
     "text": [
      "1.0\n",
      "0.958041958041958\n"
     ]
    }
   ],
   "source": [
    "print(model.score(X_train, y_train))\n",
    "print(model.score(X_test, y_test))"
   ]
  },
  {
   "cell_type": "code",
   "execution_count": 11,
   "metadata": {},
   "outputs": [
    {
     "data": {
      "text/plain": [
       "<bound method BaseGradientBoosting.fit of GradientBoostingClassifier(criterion='friedman_mse', init=None,\n",
       "              learning_rate=0.1, loss='deviance', max_depth=3,\n",
       "              max_features=None, max_leaf_nodes=None,\n",
       "              min_impurity_decrease=0.0, min_impurity_split=None,\n",
       "              min_samples_leaf=1, min_samples_split=2,\n",
       "              min_weight_fraction_leaf=0.0, n_estimators=100,\n",
       "              n_iter_no_change=None, presort='auto', random_state=0,\n",
       "              subsample=1.0, tol=0.0001, validation_fraction=0.1,\n",
       "              verbose=0, warm_start=False)>"
      ]
     },
     "execution_count": 11,
     "metadata": {},
     "output_type": "execute_result"
    }
   ],
   "source": [
    "model.fit   # 기본적으로 트리의 깊이는 3, 트리의 갯수는 100개"
   ]
  },
  {
   "cell_type": "markdown",
   "metadata": {},
   "source": [
    "### max_depth (트리의 깊이) 조정"
   ]
  },
  {
   "cell_type": "code",
   "execution_count": 10,
   "metadata": {},
   "outputs": [
    {
     "name": "stdout",
     "output_type": "stream",
     "text": [
      "tree depth : 1\n",
      "0.9906103286384976\n",
      "0.972027972027972\n",
      "tree depth : 2\n",
      "1.0\n",
      "0.972027972027972\n",
      "tree depth : 3\n",
      "1.0\n",
      "0.958041958041958\n",
      "tree depth : 4\n",
      "1.0\n",
      "0.958041958041958\n",
      "tree depth : 5\n",
      "1.0\n",
      "0.9020979020979021\n",
      "tree depth : 6\n",
      "1.0\n",
      "0.9440559440559441\n"
     ]
    }
   ],
   "source": [
    "for i in range(1,7):\n",
    "    gbrt = GradientBoostingClassifier(random_state=0, max_depth=i)\n",
    "    gbrt.fit(X_train, y_train)\n",
    "    \n",
    "    print('tree depth : {}' .format(i))\n",
    "    print(gbrt.score(X_train, y_train))\n",
    "    print(gbrt.score(X_test, y_test))"
   ]
  },
  {
   "cell_type": "markdown",
   "metadata": {},
   "source": [
    "### learning_rate (트리의 학습율) 조정"
   ]
  },
  {
   "cell_type": "code",
   "execution_count": 12,
   "metadata": {},
   "outputs": [
    {
     "name": "stdout",
     "output_type": "stream",
     "text": [
      "learning rate : 0.001\n",
      "0.6267605633802817\n",
      "0.6293706293706294\n",
      "learning rate : 0.005\n",
      "0.9577464788732394\n",
      "0.951048951048951\n",
      "learning rate : 0.007\n",
      "0.9765258215962441\n",
      "0.958041958041958\n",
      "learning rate : 0.01\n",
      "0.9741784037558685\n",
      "0.965034965034965\n",
      "learning rate : 0.05\n",
      "0.9953051643192489\n",
      "0.958041958041958\n",
      "learning rate : 0.07\n",
      "1.0\n",
      "0.965034965034965\n",
      "learning rate : 0.09\n",
      "1.0\n",
      "0.972027972027972\n"
     ]
    }
   ],
   "source": [
    "l_rate = [0.001, 0.005, 0.007, 0.01, 0.05, 0.07, 0.09]\n",
    "\n",
    "for i in l_rate:\n",
    "    gbrt = GradientBoostingClassifier(random_state=0, max_depth=2, learning_rate=i)\n",
    "    gbrt.fit(X_train, y_train)\n",
    "    \n",
    "    print('learning rate : {}' .format(i))\n",
    "    print(gbrt.score(X_train, y_train))\n",
    "    print(gbrt.score(X_test, y_test))"
   ]
  },
  {
   "cell_type": "markdown",
   "metadata": {},
   "source": [
    "### depth=2, learning rate=0.09 일 때 BEST"
   ]
  },
  {
   "cell_type": "code",
   "execution_count": 13,
   "metadata": {},
   "outputs": [
    {
     "name": "stdout",
     "output_type": "stream",
     "text": [
      "1.0\n",
      "0.972027972027972\n"
     ]
    }
   ],
   "source": [
    "gbrt = GradientBoostingClassifier(random_state=0, max_depth=2, learning_rate=0.09)\n",
    "gbrt.fit(X_train, y_train)\n",
    "\n",
    "print(gbrt.score(X_train, y_train))\n",
    "print(gbrt.score(X_test, y_test))"
   ]
  },
  {
   "cell_type": "markdown",
   "metadata": {},
   "source": [
    "### 변수의 중요도"
   ]
  },
  {
   "cell_type": "code",
   "execution_count": 16,
   "metadata": {},
   "outputs": [
    {
     "data": {
      "image/png": "[encoded data removed]",
      "text/plain": [
       "<Figure size 432x288 with 1 Axes>"
      ]
     },
     "metadata": {
      "needs_background": "light"
     },
     "output_type": "display_data"
    }
   ],
   "source": [
    "feature_n = X.shape[1]\n",
    "feature_names = cancer.feature_names\n",
    "plot_feature_imp_cancer_up(model, feature_n, feature_names)"
   ]
  },
  {
   "cell_type": "code",
   "execution_count": null,
   "metadata": {},
   "outputs": [],
   "source": []
  }
 ],
 "metadata": {
  "kernelspec": {
   "display_name": "Python 3",
   "language": "python",
   "name": "python3"
  },
  "language_info": {
   "codemirror_mode": {
    "name": "ipython",
    "version": 3
   },
   "file_extension": ".py",
   "mimetype": "text/x-python",
   "name": "python",
   "nbconvert_exporter": "python",
   "pygments_lexer": "ipython3",
   "version": "3.7.1"
  }
 },
 "nbformat": 4,
 "nbformat_minor": 2
}
