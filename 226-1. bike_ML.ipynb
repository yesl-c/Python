{
  "nbformat": 4,
  "nbformat_minor": 0,
  "metadata": {
    "colab": {
      "name": "bike_ML.ipynb",
      "provenance": []
    },
    "kernelspec": {
      "name": "python3",
      "display_name": "Python 3"
    }
  },
  "cells": [
    {
      "cell_type": "code",
      "metadata": {
        "id": "_UXgfjqlH3Bc",
        "colab_type": "code",
        "colab": {}
      },
      "source": [
        "import xgboost as xgb"
      ],
      "execution_count": 0,
      "outputs": []
    },
    {
      "cell_type": "code",
      "metadata": {
        "id": "uzYHw1qCIAGV",
        "colab_type": "code",
        "colab": {}
      },
      "source": [
        "import pandas as pd"
      ],
      "execution_count": 0,
      "outputs": []
    },
    {
      "cell_type": "markdown",
      "metadata": {
        "id": "fbpxlKvgJRj5",
        "colab_type": "text"
      },
      "source": [
        "### **1-1 데이터 준비하기**"
      ]
    },
    {
      "cell_type": "code",
      "metadata": {
        "id": "d4Ly6Nf3IVeC",
        "colab_type": "code",
        "colab": {}
      },
      "source": [
        "train = pd.read_csv('train.csv', parse_dates=['datetime'])\n",
        "test = pd.read_csv(\"test.csv\", parse_dates=['datetime'])"
      ],
      "execution_count": 0,
      "outputs": []
    },
    {
      "cell_type": "code",
      "metadata": {
        "id": "asCeRsatIfrr",
        "colab_type": "code",
        "colab": {
          "base_uri": "https://localhost:8080/",
          "height": 53
        },
        "outputId": "a7a801fa-3574-4869-fb39-1b182e8cb49b"
      },
      "source": [
        "print(train.shape)\n",
        "print(test.shape)"
      ],
      "execution_count": 4,
      "outputs": [
        {
          "output_type": "stream",
          "text": [
            "(10886, 12)\n",
            "(6493, 9)\n"
          ],
          "name": "stdout"
        }
      ]
    },
    {
      "cell_type": "code",
      "metadata": {
        "id": "cwsvgr5yIxUt",
        "colab_type": "code",
        "colab": {
          "base_uri": "https://localhost:8080/",
          "height": 305
        },
        "outputId": "de8a1ca4-8d2e-49c4-ef63-52edc1a10fee"
      },
      "source": [
        "print(train.head())\n",
        "print(test.head())"
      ],
      "execution_count": 5,
      "outputs": [
        {
          "output_type": "stream",
          "text": [
            "             datetime  season  holiday  ...  casual  registered  count\n",
            "0 2011-01-01 00:00:00       1        0  ...       3          13     16\n",
            "1 2011-01-01 01:00:00       1        0  ...       8          32     40\n",
            "2 2011-01-01 02:00:00       1        0  ...       5          27     32\n",
            "3 2011-01-01 03:00:00       1        0  ...       3          10     13\n",
            "4 2011-01-01 04:00:00       1        0  ...       0           1      1\n",
            "\n",
            "[5 rows x 12 columns]\n",
            "             datetime  season  holiday  ...   atemp  humidity  windspeed\n",
            "0 2011-01-20 00:00:00       1        0  ...  11.365        56    26.0027\n",
            "1 2011-01-20 01:00:00       1        0  ...  13.635        56     0.0000\n",
            "2 2011-01-20 02:00:00       1        0  ...  13.635        56     0.0000\n",
            "3 2011-01-20 03:00:00       1        0  ...  12.880        56    11.0014\n",
            "4 2011-01-20 04:00:00       1        0  ...  12.880        56    11.0014\n",
            "\n",
            "[5 rows x 9 columns]\n"
          ],
          "name": "stdout"
        }
      ]
    },
    {
      "cell_type": "code",
      "metadata": {
        "id": "jNcDl3-XI2hc",
        "colab_type": "code",
        "colab": {
          "base_uri": "https://localhost:8080/",
          "height": 359
        },
        "outputId": "ebe22a6f-2e9d-4485-8aea-d9d41cab3d91"
      },
      "source": [
        "train.info()"
      ],
      "execution_count": 6,
      "outputs": [
        {
          "output_type": "stream",
          "text": [
            "<class 'pandas.core.frame.DataFrame'>\n",
            "RangeIndex: 10886 entries, 0 to 10885\n",
            "Data columns (total 12 columns):\n",
            " #   Column      Non-Null Count  Dtype         \n",
            "---  ------      --------------  -----         \n",
            " 0   datetime    10886 non-null  datetime64[ns]\n",
            " 1   season      10886 non-null  int64         \n",
            " 2   holiday     10886 non-null  int64         \n",
            " 3   workingday  10886 non-null  int64         \n",
            " 4   weather     10886 non-null  int64         \n",
            " 5   temp        10886 non-null  float64       \n",
            " 6   atemp       10886 non-null  float64       \n",
            " 7   humidity    10886 non-null  int64         \n",
            " 8   windspeed   10886 non-null  float64       \n",
            " 9   casual      10886 non-null  int64         \n",
            " 10  registered  10886 non-null  int64         \n",
            " 11  count       10886 non-null  int64         \n",
            "dtypes: datetime64[ns](1), float64(3), int64(8)\n",
            "memory usage: 1020.7 KB\n"
          ],
          "name": "stdout"
        }
      ]
    },
    {
      "cell_type": "code",
      "metadata": {
        "id": "4o_WfpSZI6Zb",
        "colab_type": "code",
        "colab": {}
      },
      "source": [
        "import matplotlib.pyplot as plt\n",
        "import seaborn as sns"
      ],
      "execution_count": 0,
      "outputs": []
    },
    {
      "cell_type": "markdown",
      "metadata": {
        "id": "z6YjA7wXJWAh",
        "colab_type": "text"
      },
      "source": [
        "### **1-2 데이터 탐색해보기**\n",
        "* Count- Rental 대수 boxplot 보기"
      ]
    },
    {
      "cell_type": "code",
      "metadata": {
        "id": "4A71q7v5JIHZ",
        "colab_type": "code",
        "colab": {
          "base_uri": "https://localhost:8080/",
          "height": 179
        },
        "outputId": "e1e09a5e-33a7-479a-be7f-08110fb00cbb"
      },
      "source": [
        "print(train['count'].describe())"
      ],
      "execution_count": 8,
      "outputs": [
        {
          "output_type": "stream",
          "text": [
            "count    10886.000000\n",
            "mean       191.574132\n",
            "std        181.144454\n",
            "min          1.000000\n",
            "25%         42.000000\n",
            "50%        145.000000\n",
            "75%        284.000000\n",
            "max        977.000000\n",
            "Name: count, dtype: float64\n"
          ],
          "name": "stdout"
        }
      ]
    },
    {
      "cell_type": "code",
      "metadata": {
        "id": "4DqQ4qaOJOHo",
        "colab_type": "code",
        "colab": {
          "base_uri": "https://localhost:8080/",
          "height": 297
        },
        "outputId": "8fe73923-ecfe-4c4f-e349-31fcd8b297b1"
      },
      "source": [
        "sns.boxplot(train['count'])"
      ],
      "execution_count": 9,
      "outputs": [
        {
          "output_type": "execute_result",
          "data": {
            "text/plain": [
              "<matplotlib.axes._subplots.AxesSubplot at 0x7fb1c91455f8>"
            ]
          },
          "metadata": {
            "tags": []
          },
          "execution_count": 9
        },
        {
          "output_type": "display_data",
          "data": {
            "image/png": "[encoded data removed]",
            "text/plain": [
              "<Figure size 432x288 with 1 Axes>"
            ]
          },
          "metadata": {
            "tags": [],
            "needs_background": "light"
          }
        }
      ]
    },
    {
      "cell_type": "code",
      "metadata": {
        "id": "K7Q6oCA1Jd78",
        "colab_type": "code",
        "colab": {
          "base_uri": "https://localhost:8080/",
          "height": 355
        },
        "outputId": "d604da52-b2c1-47d9-d17f-a7a5373a8964"
      },
      "source": [
        "plt.hist(train['count'])"
      ],
      "execution_count": 10,
      "outputs": [
        {
          "output_type": "execute_result",
          "data": {
            "text/plain": [
              "(array([4284., 2337., 1686., 1067.,  633.,  426.,  233.,  116.,   85.,\n",
              "          19.]),\n",
              " array([  1. ,  98.6, 196.2, 293.8, 391.4, 489. , 586.6, 684.2, 781.8,\n",
              "        879.4, 977. ]),\n",
              " <a list of 10 Patch objects>)"
            ]
          },
          "metadata": {
            "tags": []
          },
          "execution_count": 10
        },
        {
          "output_type": "display_data",
          "data": {
            "image/png": "[encoded data removed]",
            "text/plain": [
              "<Figure size 432x288 with 1 Axes>"
            ]
          },
          "metadata": {
            "tags": [],
            "needs_background": "light"
          }
        }
      ]
    },
    {
      "cell_type": "markdown",
      "metadata": {
        "id": "hP4JtRtAJpP5",
        "colab_type": "text"
      },
      "source": [
        "### **1-3 데이터 탐색해 보기 - 시각화**"
      ]
    },
    {
      "cell_type": "code",
      "metadata": {
        "id": "4mEBxplHJhDR",
        "colab_type": "code",
        "colab": {
          "base_uri": "https://localhost:8080/",
          "height": 595
        },
        "outputId": "4a200f13-54c9-4a51-a362-2686571b4282"
      },
      "source": [
        "# 범주형 변수\n",
        "\n",
        "col_names = [ 'season', 'holiday', 'workingday', 'weather' ]\n",
        "i = 0\n",
        "plt.figure(figsize=(12,10))   # 전체 그래프의 크기 지정\n",
        "\n",
        "for name in col_names:            # 컬럼명을 전달 리스트 수 만큼 반복 -> 4회\n",
        "  i = i + 1                       # 숫자를 1씩 증가.\n",
        "  plt.subplot(2,2,i)              # 2행 2열에 i번째 그래프 선택\n",
        "  sns.countplot(name, data=train) # i번째 그래프에 sns.countplot를 그리겠다.\n",
        "\n",
        "plt.show()   # 주피터에서 보여주지만, 다른곳(editor, pycharm)에서는 이걸 실행시켜야 한다."
      ],
      "execution_count": 11,
      "outputs": [
        {
          "output_type": "display_data",
          "data": {
            "image/png": "[encoded data removed]",
            "text/plain": [
              "<Figure size 864x720 with 4 Axes>"
            ]
          },
          "metadata": {
            "tags": [],
            "needs_background": "light"
          }
        }
      ]
    },
    {
      "cell_type": "code",
      "metadata": {
        "id": "9c1gDTTtJ6xl",
        "colab_type": "code",
        "colab": {
          "base_uri": "https://localhost:8080/",
          "height": 71
        },
        "outputId": "87f02664-dd1b-4a5c-868e-31f55eac7fbe"
      },
      "source": [
        "# 수치형 변수\n",
        "# temp, atemp, humidity, windspeed\n",
        "num_names = ['temp', 'atemp', 'humidity', 'windspeed']\n",
        "train.columns"
      ],
      "execution_count": 12,
      "outputs": [
        {
          "output_type": "execute_result",
          "data": {
            "text/plain": [
              "Index(['datetime', 'season', 'holiday', 'workingday', 'weather', 'temp',\n",
              "       'atemp', 'humidity', 'windspeed', 'casual', 'registered', 'count'],\n",
              "      dtype='object')"
            ]
          },
          "metadata": {
            "tags": []
          },
          "execution_count": 12
        }
      ]
    },
    {
      "cell_type": "code",
      "metadata": {
        "id": "WNE_yuuWKBHp",
        "colab_type": "code",
        "colab": {
          "base_uri": "https://localhost:8080/",
          "height": 877
        },
        "outputId": "08442a9a-a806-4310-eb6a-1ef2e73337ee"
      },
      "source": [
        "# par(mfrow=c(2,2)) -> R\n",
        "\n",
        "i = 0\n",
        "plt.figure(figsize=(12,15))   # 전체 그래프의 크기 지정 (가로, 세로)\n",
        "\n",
        "for name in num_names:          # 컬럼명을 전달 리스트 수 만큼 반복 -> 4회\n",
        "  i = i + 1                     # 숫자를 1씩 증가.\n",
        "  plt.subplot(4,2,i*2-1)        # 2행 2열에 i번째 그래프 선택\n",
        "  sns.boxplot(name, data=train) # i번째 그래프에 sns.countplot를 그리겠다.\n",
        "  plt.subplot(4,2,i*2)          # 2행 2열에 i번째 그래프 선택\n",
        "  sns.boxplot(name, data=test)  # i번째 그래프에 sns.countplot를 그리겠다.\n",
        "\n",
        "plt.show()"
      ],
      "execution_count": 13,
      "outputs": [
        {
          "output_type": "display_data",
          "data": {
            "image/png": "[encoded data removed]",
            "text/plain": [
              "<Figure size 864x1080 with 8 Axes>"
            ]
          },
          "metadata": {
            "tags": [],
            "needs_background": "light"
          }
        }
      ]
    },
    {
      "cell_type": "code",
      "metadata": {
        "id": "D45cjdFdKVd8",
        "colab_type": "code",
        "colab": {}
      },
      "source": [
        "# 데이터 백업\n",
        "new_tr = train.copy()\n",
        "new_test = test.copy()"
      ],
      "execution_count": 0,
      "outputs": []
    },
    {
      "cell_type": "markdown",
      "metadata": {
        "id": "8aZITAcjK1qr",
        "colab_type": "text"
      },
      "source": [
        "### **1-4 파생변수(더미변수) 생성**"
      ]
    },
    {
      "cell_type": "code",
      "metadata": {
        "id": "IjXiyjhSKmr8",
        "colab_type": "code",
        "colab": {}
      },
      "source": [
        "new_tr['year'] = new_tr['datetime'].dt.year\n",
        "new_tr['month'] = new_tr['datetime'].dt.month\n",
        "new_tr['day'] = new_tr['datetime'].dt.day\n",
        "new_tr['hour'] = new_tr['datetime'].dt.hour\n",
        "new_tr['minute'] = new_tr['datetime'].dt.minute\n",
        "new_tr['second'] = new_tr['datetime'].dt.second\n",
        "new_tr['dayofweek'] = new_tr['datetime'].dt.dayofweek"
      ],
      "execution_count": 0,
      "outputs": []
    },
    {
      "cell_type": "code",
      "metadata": {
        "id": "aZ-DQdlrK7ZH",
        "colab_type": "code",
        "colab": {}
      },
      "source": [
        "new_test['year'] = new_test['datetime'].dt.year\n",
        "new_test['month'] = new_test['datetime'].dt.month\n",
        "new_test['day'] = new_test['datetime'].dt.day\n",
        "new_test['hour'] = new_test['datetime'].dt.hour\n",
        "new_test['minute'] = new_test['datetime'].dt.minute\n",
        "new_test['second'] = new_test['datetime'].dt.second\n",
        "new_test['dayofweek'] = new_test['datetime'].dt.dayofweek"
      ],
      "execution_count": 0,
      "outputs": []
    },
    {
      "cell_type": "code",
      "metadata": {
        "id": "TRdHN4o3LIMh",
        "colab_type": "code",
        "colab": {
          "base_uri": "https://localhost:8080/",
          "height": 545
        },
        "outputId": "b278d669-4476-48cb-f490-820f9dd1e941"
      },
      "source": [
        "plt.figure(figsize=(15,10))\n",
        "g = sns.heatmap(new_tr.corr(), annot=True, fmt=\".2f\", cmap=\"coolwarm\")"
      ],
      "execution_count": 17,
      "outputs": [
        {
          "output_type": "display_data",
          "data": {
            "image/png": "[encoded data removed]",
            "text/plain": [
              "<Figure size 1080x720 with 2 Axes>"
            ]
          },
          "metadata": {
            "tags": [],
            "needs_background": "light"
          }
        }
      ]
    },
    {
      "cell_type": "code",
      "metadata": {
        "id": "Wx2UphbHLfCR",
        "colab_type": "code",
        "colab": {
          "base_uri": "https://localhost:8080/",
          "height": 161
        },
        "outputId": "e0ba04d9-5d96-43a6-ca80-2f7d404b844c"
      },
      "source": [
        "feature_names = [ 'season', 'holiday', 'workingday', 'weather', 'temp',\n",
        "                  'atemp', 'humidity', 'windspeed', \"year\", \"hour\", \"dayofweek\"]   # 공통 변수\n",
        "X_train = new_tr[feature_names]   # 학습용 데이터 변수 선택\n",
        "print(X_train.head())"
      ],
      "execution_count": 41,
      "outputs": [
        {
          "output_type": "stream",
          "text": [
            "   season  holiday  workingday  weather  ...  windspeed  year  hour  dayofweek\n",
            "0       1        0           0        1  ...        0.0  2011     0          5\n",
            "1       1        0           0        1  ...        0.0  2011     1          5\n",
            "2       1        0           0        1  ...        0.0  2011     2          5\n",
            "3       1        0           0        1  ...        0.0  2011     3          5\n",
            "4       1        0           0        1  ...        0.0  2011     4          5\n",
            "\n",
            "[5 rows x 11 columns]\n"
          ],
          "name": "stdout"
        }
      ]
    },
    {
      "cell_type": "code",
      "metadata": {
        "id": "ZJfr6YnnN3GO",
        "colab_type": "code",
        "colab": {
          "base_uri": "https://localhost:8080/",
          "height": 224
        },
        "outputId": "7a2f61ad-791e-4b00-eaca-590bce402374"
      },
      "source": [
        "label_name = 'count'               # 렌탈 대수 (종속변수)\n",
        "y_train = new_tr[label_name]       # 렌탈 대수 변수 값 선택\n",
        "X_test = new_test[feature_names]   # 테스트 데이터의 변수 선택\n",
        "X_test.head()                      # 테스트 데이터 선택된 내용 보기"
      ],
      "execution_count": 42,
      "outputs": [
        {
          "output_type": "execute_result",
          "data": {
            "text/html": [
              "<div>\n",
              "<style scoped>\n",
              "    .dataframe tbody tr th:only-of-type {\n",
              "        vertical-align: middle;\n",
              "    }\n",
              "\n",
              "    .dataframe tbody tr th {\n",
              "        vertical-align: top;\n",
              "    }\n",
              "\n",
              "    .dataframe thead th {\n",
              "        text-align: right;\n",
              "    }\n",
              "</style>\n",
              "<table border=\"1\" class=\"dataframe\">\n",
              "  <thead>\n",
              "    <tr style=\"text-align: right;\">\n",
              "      <th></th>\n",
              "      <th>season</th>\n",
              "      <th>holiday</th>\n",
              "      <th>workingday</th>\n",
              "      <th>weather</th>\n",
              "      <th>temp</th>\n",
              "      <th>atemp</th>\n",
              "      <th>humidity</th>\n",
              "      <th>windspeed</th>\n",
              "      <th>year</th>\n",
              "      <th>hour</th>\n",
              "      <th>dayofweek</th>\n",
              "    </tr>\n",
              "  </thead>\n",
              "  <tbody>\n",
              "    <tr>\n",
              "      <th>0</th>\n",
              "      <td>1</td>\n",
              "      <td>0</td>\n",
              "      <td>1</td>\n",
              "      <td>1</td>\n",
              "      <td>10.66</td>\n",
              "      <td>11.365</td>\n",
              "      <td>56</td>\n",
              "      <td>26.0027</td>\n",
              "      <td>2011</td>\n",
              "      <td>0</td>\n",
              "      <td>3</td>\n",
              "    </tr>\n",
              "    <tr>\n",
              "      <th>1</th>\n",
              "      <td>1</td>\n",
              "      <td>0</td>\n",
              "      <td>1</td>\n",
              "      <td>1</td>\n",
              "      <td>10.66</td>\n",
              "      <td>13.635</td>\n",
              "      <td>56</td>\n",
              "      <td>0.0000</td>\n",
              "      <td>2011</td>\n",
              "      <td>1</td>\n",
              "      <td>3</td>\n",
              "    </tr>\n",
              "    <tr>\n",
              "      <th>2</th>\n",
              "      <td>1</td>\n",
              "      <td>0</td>\n",
              "      <td>1</td>\n",
              "      <td>1</td>\n",
              "      <td>10.66</td>\n",
              "      <td>13.635</td>\n",
              "      <td>56</td>\n",
              "      <td>0.0000</td>\n",
              "      <td>2011</td>\n",
              "      <td>2</td>\n",
              "      <td>3</td>\n",
              "    </tr>\n",
              "    <tr>\n",
              "      <th>3</th>\n",
              "      <td>1</td>\n",
              "      <td>0</td>\n",
              "      <td>1</td>\n",
              "      <td>1</td>\n",
              "      <td>10.66</td>\n",
              "      <td>12.880</td>\n",
              "      <td>56</td>\n",
              "      <td>11.0014</td>\n",
              "      <td>2011</td>\n",
              "      <td>3</td>\n",
              "      <td>3</td>\n",
              "    </tr>\n",
              "    <tr>\n",
              "      <th>4</th>\n",
              "      <td>1</td>\n",
              "      <td>0</td>\n",
              "      <td>1</td>\n",
              "      <td>1</td>\n",
              "      <td>10.66</td>\n",
              "      <td>12.880</td>\n",
              "      <td>56</td>\n",
              "      <td>11.0014</td>\n",
              "      <td>2011</td>\n",
              "      <td>4</td>\n",
              "      <td>3</td>\n",
              "    </tr>\n",
              "  </tbody>\n",
              "</table>\n",
              "</div>"
            ],
            "text/plain": [
              "   season  holiday  workingday  weather  ...  windspeed  year  hour  dayofweek\n",
              "0       1        0           1        1  ...    26.0027  2011     0          3\n",
              "1       1        0           1        1  ...     0.0000  2011     1          3\n",
              "2       1        0           1        1  ...     0.0000  2011     2          3\n",
              "3       1        0           1        1  ...    11.0014  2011     3          3\n",
              "4       1        0           1        1  ...    11.0014  2011     4          3\n",
              "\n",
              "[5 rows x 11 columns]"
            ]
          },
          "metadata": {
            "tags": []
          },
          "execution_count": 42
        }
      ]
    },
    {
      "cell_type": "markdown",
      "metadata": {
        "id": "YiSiKB-xOUQP",
        "colab_type": "text"
      },
      "source": [
        "### **1-5 모델 만들기**"
      ]
    },
    {
      "cell_type": "markdown",
      "metadata": {
        "id": "uO_qVuevO7uI",
        "colab_type": "text"
      },
      "source": [
        "선형회귀"
      ]
    },
    {
      "cell_type": "code",
      "metadata": {
        "id": "e4-SzOX8OP2n",
        "colab_type": "code",
        "colab": {}
      },
      "source": [
        "from sklearn.linear_model import LinearRegression"
      ],
      "execution_count": 0,
      "outputs": []
    },
    {
      "cell_type": "code",
      "metadata": {
        "id": "CBOy6K7JOb-L",
        "colab_type": "code",
        "colab": {}
      },
      "source": [
        "model = LinearRegression()    # 모델 생성\n",
        "model.fit(X_train, y_train)   # 학습\n",
        "pred = model.predict(X_test)  # 예측"
      ],
      "execution_count": 0,
      "outputs": []
    },
    {
      "cell_type": "code",
      "metadata": {
        "id": "3GF4Dr0oOw5n",
        "colab_type": "code",
        "colab": {
          "base_uri": "https://localhost:8080/",
          "height": 35
        },
        "outputId": "98640567-866f-4adc-a540-5e01852a9339"
      },
      "source": [
        "model.score(X_train, y_train)"
      ],
      "execution_count": 45,
      "outputs": [
        {
          "output_type": "execute_result",
          "data": {
            "text/plain": [
              "0.3872754462588646"
            ]
          },
          "metadata": {
            "tags": []
          },
          "execution_count": 45
        }
      ]
    },
    {
      "cell_type": "markdown",
      "metadata": {
        "id": "QdQVcvcdO9Kg",
        "colab_type": "text"
      },
      "source": [
        "랜덤포레스트"
      ]
    },
    {
      "cell_type": "code",
      "metadata": {
        "id": "pyOkMXBVOykQ",
        "colab_type": "code",
        "colab": {}
      },
      "source": [
        "from sklearn.ensemble import RandomForestRegressor"
      ],
      "execution_count": 0,
      "outputs": []
    },
    {
      "cell_type": "code",
      "metadata": {
        "id": "O_5O_OIKPE88",
        "colab_type": "code",
        "colab": {}
      },
      "source": [
        "model = RandomForestRegressor(n_jobs=-1, random_state=37)  # 모델 생성\n",
        "model.fit(X_train, y_train)                                # 학습\n",
        "pred = model.predict(X_test)                               # 예측"
      ],
      "execution_count": 0,
      "outputs": []
    },
    {
      "cell_type": "code",
      "metadata": {
        "id": "YiGKsfHNPPAu",
        "colab_type": "code",
        "colab": {
          "base_uri": "https://localhost:8080/",
          "height": 35
        },
        "outputId": "05ef81c3-fe3f-40d0-a440-77d571cb77e5"
      },
      "source": [
        "model.score(X_train, y_train)"
      ],
      "execution_count": 48,
      "outputs": [
        {
          "output_type": "execute_result",
          "data": {
            "text/plain": [
              "0.9927558987252199"
            ]
          },
          "metadata": {
            "tags": []
          },
          "execution_count": 48
        }
      ]
    },
    {
      "cell_type": "markdown",
      "metadata": {
        "id": "dyPtVdjGhdVl",
        "colab_type": "text"
      },
      "source": [
        "### **1-6 모델 평가 및 제출**\n",
        "\n",
        "* 데이터 나누는 방법으로 기본으로 train_test_split 함수가 있음.\n",
        "* 교차검증 반복 함수 : cross_val_score(model, X, y, scoring=None, cv=None)\n",
        "  * model : 회귀 분석 모형\n",
        "  * X : 독립 변수 데이터\n",
        "  * y : 종속 변수 데이터\n",
        "  * scoring : 성능 검증에 사용할 함수 이름\n",
        "  * cv : 교차검증 생성기 객체 또는 숫자.\n",
        "  * None이면 KFold(3), 숫자 k이면 KFold(k)"
      ]
    },
    {
      "cell_type": "code",
      "metadata": {
        "id": "X0aFTvRFPasL",
        "colab_type": "code",
        "colab": {}
      },
      "source": [
        "from sklearn.model_selection import cross_val_score\n",
        "from sklearn.linear_model import LinearRegression\n",
        "from sklearn.tree import DecisionTreeRegressor\n",
        "from sklearn.neighbors import KNeighborsRegressor\n",
        "from sklearn.ensemble import RandomForestRegressor\n",
        "from sklearn.ensemble import AdaBoostRegressor\n",
        "import xgboost as xgb"
      ],
      "execution_count": 0,
      "outputs": []
    },
    {
      "cell_type": "code",
      "metadata": {
        "id": "m8ULRpTBiNQ9",
        "colab_type": "code",
        "colab": {}
      },
      "source": [
        "import numpy as np"
      ],
      "execution_count": 0,
      "outputs": []
    },
    {
      "cell_type": "code",
      "metadata": {
        "id": "HUoSRdcoiPat",
        "colab_type": "code",
        "colab": {}
      },
      "source": [
        "model_list = ['LinearRegression','DecisionTreeRegressor','KNeighborsRegressor',\n",
        "              'RandomForestRegressor','AdaBoostRegressor','xgb']"
      ],
      "execution_count": 0,
      "outputs": []
    },
    {
      "cell_type": "code",
      "metadata": {
        "id": "Bzw9Z0OWio1D",
        "colab_type": "code",
        "colab": {}
      },
      "source": [
        "model_score = []"
      ],
      "execution_count": 0,
      "outputs": []
    },
    {
      "cell_type": "markdown",
      "metadata": {
        "id": "XfbypiyWisa8",
        "colab_type": "text"
      },
      "source": [
        "**LinearRegression**\n"
      ]
    },
    {
      "cell_type": "code",
      "metadata": {
        "id": "RkXL61iMiqJ5",
        "colab_type": "code",
        "colab": {}
      },
      "source": [
        "model_linear = LinearRegression()\n",
        "model_linear.fit(X_train, y_train)\n",
        "score = cross_val_score(model_linear, X_train, y_train, cv=5, scoring='neg_mean_squared_error')\n",
        "\n",
        "# 5개의 검증 score 평균의 절대값\n",
        "m_score = np.abs(score.mean())\n",
        "model_score.append(m_score)"
      ],
      "execution_count": 0,
      "outputs": []
    },
    {
      "cell_type": "code",
      "metadata": {
        "id": "kC1uHwJgjYRM",
        "colab_type": "code",
        "colab": {
          "base_uri": "https://localhost:8080/",
          "height": 35
        },
        "outputId": "d7361064-cd19-481d-a4f5-ccfefec02cbc"
      },
      "source": [
        "m_score   # 적을수록 좋음(MSE)"
      ],
      "execution_count": 100,
      "outputs": [
        {
          "output_type": "execute_result",
          "data": {
            "text/plain": [
              "21086.863746046205"
            ]
          },
          "metadata": {
            "tags": []
          },
          "execution_count": 100
        }
      ]
    },
    {
      "cell_type": "markdown",
      "metadata": {
        "id": "bVAEUwPOjf5c",
        "colab_type": "text"
      },
      "source": [
        "**DecisionTree**"
      ]
    },
    {
      "cell_type": "code",
      "metadata": {
        "id": "HTQ6M63Zjaai",
        "colab_type": "code",
        "colab": {}
      },
      "source": [
        "model_dt = DecisionTreeRegressor()\n",
        "model_dt.fit(X_train, y_train)\n",
        "score = cross_val_score(model_dt, X_train, y_train, cv=5, scoring='neg_mean_squared_error')\n",
        "m_score = np.abs(score.mean())\n",
        "model_score.append(m_score)"
      ],
      "execution_count": 0,
      "outputs": []
    },
    {
      "cell_type": "code",
      "metadata": {
        "id": "k85WTjnqj3zU",
        "colab_type": "code",
        "colab": {
          "base_uri": "https://localhost:8080/",
          "height": 35
        },
        "outputId": "d84c3d3f-6e05-434d-c8a3-6aaf6c98147c"
      },
      "source": [
        "m_score"
      ],
      "execution_count": 102,
      "outputs": [
        {
          "output_type": "execute_result",
          "data": {
            "text/plain": [
              "7876.907318276091"
            ]
          },
          "metadata": {
            "tags": []
          },
          "execution_count": 102
        }
      ]
    },
    {
      "cell_type": "markdown",
      "metadata": {
        "id": "FLcRMHbkj7Nb",
        "colab_type": "text"
      },
      "source": [
        "**KNN**"
      ]
    },
    {
      "cell_type": "code",
      "metadata": {
        "id": "MZ9aIuTLkOq6",
        "colab_type": "code",
        "colab": {}
      },
      "source": [
        "model_knn = KNeighborsRegressor()\n",
        "model_knn.fit(X_train, y_train)\n",
        "score = cross_val_score(model_knn, X_train, y_train, cv=5, scoring='neg_mean_squared_error')\n",
        "m_score = np.abs(score.mean())\n",
        "model_score.append(m_score)"
      ],
      "execution_count": 0,
      "outputs": []
    },
    {
      "cell_type": "code",
      "metadata": {
        "id": "hxQy1lAhkjr1",
        "colab_type": "code",
        "colab": {
          "base_uri": "https://localhost:8080/",
          "height": 35
        },
        "outputId": "b6a33280-a823-48f7-c1af-ffc12fa001b4"
      },
      "source": [
        "m_score"
      ],
      "execution_count": 104,
      "outputs": [
        {
          "output_type": "execute_result",
          "data": {
            "text/plain": [
              "20132.064093622575"
            ]
          },
          "metadata": {
            "tags": []
          },
          "execution_count": 104
        }
      ]
    },
    {
      "cell_type": "markdown",
      "metadata": {
        "id": "XODVqxE4j9rz",
        "colab_type": "text"
      },
      "source": [
        "**RandomForest**"
      ]
    },
    {
      "cell_type": "code",
      "metadata": {
        "id": "iLyAZDccj5HQ",
        "colab_type": "code",
        "colab": {}
      },
      "source": [
        "model_rf = RandomForestRegressor()\n",
        "model_rf.fit(X_train, y_train)\n",
        "score = cross_val_score(model_rf, X_train, y_train, cv=5, scoring='neg_mean_squared_error')\n",
        "m_score = np.abs(score.mean())\n",
        "model_score.append(m_score)"
      ],
      "execution_count": 0,
      "outputs": []
    },
    {
      "cell_type": "code",
      "metadata": {
        "id": "H1I4y1W2lG2t",
        "colab_type": "code",
        "colab": {
          "base_uri": "https://localhost:8080/",
          "height": 35
        },
        "outputId": "e598bcf8-760d-4200-88a1-f716d4892f42"
      },
      "source": [
        "m_score"
      ],
      "execution_count": 106,
      "outputs": [
        {
          "output_type": "execute_result",
          "data": {
            "text/plain": [
              "5239.0141544157"
            ]
          },
          "metadata": {
            "tags": []
          },
          "execution_count": 106
        }
      ]
    },
    {
      "cell_type": "markdown",
      "metadata": {
        "id": "lKElWUaGlSdD",
        "colab_type": "text"
      },
      "source": [
        "**AdaBoost**"
      ]
    },
    {
      "cell_type": "code",
      "metadata": {
        "id": "ii7ngLOllI1I",
        "colab_type": "code",
        "colab": {}
      },
      "source": [
        "model_ab = AdaBoostRegressor()\n",
        "model_ab.fit(X_train, y_train)\n",
        "score = cross_val_score(model_ab, X_train, y_train, cv=5, scoring='neg_mean_squared_error')\n",
        "m_score = np.abs(score.mean())\n",
        "model_score.append(m_score)"
      ],
      "execution_count": 0,
      "outputs": []
    },
    {
      "cell_type": "code",
      "metadata": {
        "id": "6O5l6PQnlxcS",
        "colab_type": "code",
        "colab": {
          "base_uri": "https://localhost:8080/",
          "height": 35
        },
        "outputId": "a67989bd-c3ed-477c-eeb9-2b1f72f75b60"
      },
      "source": [
        "m_score"
      ],
      "execution_count": 108,
      "outputs": [
        {
          "output_type": "execute_result",
          "data": {
            "text/plain": [
              "14660.435767095583"
            ]
          },
          "metadata": {
            "tags": []
          },
          "execution_count": 108
        }
      ]
    },
    {
      "cell_type": "markdown",
      "metadata": {
        "id": "xSNqiuHGnktq",
        "colab_type": "text"
      },
      "source": [
        "**XGBoost**"
      ]
    },
    {
      "cell_type": "code",
      "metadata": {
        "id": "NML88VF2nkMj",
        "colab_type": "code",
        "colab": {}
      },
      "source": [
        "#data_dmatrix = xgb.DMatrix(data=X_train, label=y_train)"
      ],
      "execution_count": 0,
      "outputs": []
    },
    {
      "cell_type": "code",
      "metadata": {
        "id": "zmT5QpHQn47L",
        "colab_type": "code",
        "colab": {
          "base_uri": "https://localhost:8080/",
          "height": 145
        },
        "outputId": "ba97ab0c-fe12-47f2-ed5c-82d88da0eef6"
      },
      "source": [
        "model_xg = xgb.XGBRegressor()\n",
        "model_xg.fit(X_train, y_train)\n",
        "score = cross_val_score(model_xg, X_train, y_train, cv=5, scoring='neg_mean_squared_error')\n",
        "m_score = np.abs(score.mean())\n",
        "model_score.append(m_score)"
      ],
      "execution_count": 109,
      "outputs": [
        {
          "output_type": "stream",
          "text": [
            "[05:56:32] WARNING: /workspace/src/objective/regression_obj.cu:152: reg:linear is now deprecated in favor of reg:squarederror.\n",
            "[05:56:32] WARNING: /workspace/src/objective/regression_obj.cu:152: reg:linear is now deprecated in favor of reg:squarederror.\n",
            "[05:56:33] WARNING: /workspace/src/objective/regression_obj.cu:152: reg:linear is now deprecated in favor of reg:squarederror.\n",
            "[05:56:33] WARNING: /workspace/src/objective/regression_obj.cu:152: reg:linear is now deprecated in favor of reg:squarederror.\n",
            "[05:56:33] WARNING: /workspace/src/objective/regression_obj.cu:152: reg:linear is now deprecated in favor of reg:squarederror.\n",
            "[05:56:34] WARNING: /workspace/src/objective/regression_obj.cu:152: reg:linear is now deprecated in favor of reg:squarederror.\n"
          ],
          "name": "stdout"
        }
      ]
    },
    {
      "cell_type": "code",
      "metadata": {
        "id": "ObijTuB7oX27",
        "colab_type": "code",
        "colab": {
          "base_uri": "https://localhost:8080/",
          "height": 35
        },
        "outputId": "563e71a8-e4e4-4de9-ca4e-165351444cdf"
      },
      "source": [
        "m_score"
      ],
      "execution_count": 110,
      "outputs": [
        {
          "output_type": "execute_result",
          "data": {
            "text/plain": [
              "7143.878641204009"
            ]
          },
          "metadata": {
            "tags": []
          },
          "execution_count": 110
        }
      ]
    },
    {
      "cell_type": "code",
      "metadata": {
        "id": "9tmDtnwJlybp",
        "colab_type": "code",
        "colab": {
          "base_uri": "https://localhost:8080/",
          "height": 235
        },
        "outputId": "f040b824-3485-4a91-e1c7-f8ccfe6b2bf0"
      },
      "source": [
        "dat = pd.DataFrame({'model_name':model_list, 'score':model_score})\n",
        "dat"
      ],
      "execution_count": 112,
      "outputs": [
        {
          "output_type": "execute_result",
          "data": {
            "text/html": [
              "<div>\n",
              "<style scoped>\n",
              "    .dataframe tbody tr th:only-of-type {\n",
              "        vertical-align: middle;\n",
              "    }\n",
              "\n",
              "    .dataframe tbody tr th {\n",
              "        vertical-align: top;\n",
              "    }\n",
              "\n",
              "    .dataframe thead th {\n",
              "        text-align: right;\n",
              "    }\n",
              "</style>\n",
              "<table border=\"1\" class=\"dataframe\">\n",
              "  <thead>\n",
              "    <tr style=\"text-align: right;\">\n",
              "      <th></th>\n",
              "      <th>model_name</th>\n",
              "      <th>score</th>\n",
              "    </tr>\n",
              "  </thead>\n",
              "  <tbody>\n",
              "    <tr>\n",
              "      <th>0</th>\n",
              "      <td>LinearRegression</td>\n",
              "      <td>21086.863746</td>\n",
              "    </tr>\n",
              "    <tr>\n",
              "      <th>1</th>\n",
              "      <td>DecisionTreeRegressor</td>\n",
              "      <td>7876.907318</td>\n",
              "    </tr>\n",
              "    <tr>\n",
              "      <th>2</th>\n",
              "      <td>KNeighborsRegressor</td>\n",
              "      <td>20132.064094</td>\n",
              "    </tr>\n",
              "    <tr>\n",
              "      <th>3</th>\n",
              "      <td>RandomForestRegressor</td>\n",
              "      <td>5239.014154</td>\n",
              "    </tr>\n",
              "    <tr>\n",
              "      <th>4</th>\n",
              "      <td>AdaBoostRegressor</td>\n",
              "      <td>14660.435767</td>\n",
              "    </tr>\n",
              "    <tr>\n",
              "      <th>5</th>\n",
              "      <td>xgb</td>\n",
              "      <td>7143.878641</td>\n",
              "    </tr>\n",
              "  </tbody>\n",
              "</table>\n",
              "</div>"
            ],
            "text/plain": [
              "              model_name         score\n",
              "0       LinearRegression  21086.863746\n",
              "1  DecisionTreeRegressor   7876.907318\n",
              "2    KNeighborsRegressor  20132.064094\n",
              "3  RandomForestRegressor   5239.014154\n",
              "4      AdaBoostRegressor  14660.435767\n",
              "5                    xgb   7143.878641"
            ]
          },
          "metadata": {
            "tags": []
          },
          "execution_count": 112
        }
      ]
    },
    {
      "cell_type": "markdown",
      "metadata": {
        "id": "-b7c0pmFpRHU",
        "colab_type": "text"
      },
      "source": [
        "**최종 모델 선택 : score가 가장 좋은(낮은) RandomForest 모델 선택**"
      ]
    },
    {
      "cell_type": "code",
      "metadata": {
        "id": "G3xMRPqHoySn",
        "colab_type": "code",
        "colab": {}
      },
      "source": [
        "model_RF = RandomForestRegressor()\n",
        "model_RF.fit(X_train, y_train)\n",
        "pred = model_RF.predict(X_test)"
      ],
      "execution_count": 0,
      "outputs": []
    },
    {
      "cell_type": "code",
      "metadata": {
        "id": "Y9szKKBtp_7b",
        "colab_type": "code",
        "colab": {}
      },
      "source": [
        "sub = pd.read_csv('sampleSubmission.csv')\n",
        "sub['count'] = pred\n",
        "sub.to_csv('submission_200609.csv', index=False)"
      ],
      "execution_count": 0,
      "outputs": []
    },
    {
      "cell_type": "code",
      "metadata": {
        "id": "YakqDiPkqN25",
        "colab_type": "code",
        "colab": {}
      },
      "source": [
        ""
      ],
      "execution_count": 0,
      "outputs": []
    }
  ]
}