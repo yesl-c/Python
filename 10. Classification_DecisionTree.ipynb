{
  "nbformat": 4,
  "nbformat_minor": 0,
  "metadata": {
    "colab": {
      "name": "yeseul.ipynb",
      "provenance": []
    },
    "kernelspec": {
      "name": "python3",
      "display_name": "Python 3"
    }
  },
  "cells": [
    {
      "cell_type": "code",
      "metadata": {
        "id": "53S7-JOg6NDg",
        "colab_type": "code",
        "colab": {
          "base_uri": "https://localhost:8080/",
          "height": 73
        },
        "outputId": "a4f231c9-418e-4739-aaf5-10921febcb40"
      },
      "source": [
        "from sklearn.tree import DecisionTreeClassifier\n",
        "from sklearn.model_selection import train_test_split\n",
        "from sklearn.datasets import load_breast_cancer\n",
        "import seaborn as sns"
      ],
      "execution_count": 1,
      "outputs": [
        {
          "output_type": "stream",
          "text": [
            "/usr/local/lib/python3.6/dist-packages/statsmodels/tools/_testing.py:19: FutureWarning: pandas.util.testing is deprecated. Use the functions in the public API at pandas.testing instead.\n",
            "  import pandas.util.testing as tm\n"
          ],
          "name": "stderr"
        }
      ]
    },
    {
      "cell_type": "markdown",
      "metadata": {
        "id": "J2Ao4AsZEZTU",
        "colab_type": "text"
      },
      "source": [
        "데이터를 불러와서 입력과 출력으로 분리"
      ]
    },
    {
      "cell_type": "code",
      "metadata": {
        "id": "axOq6F8P7wy-",
        "colab_type": "code",
        "colab": {}
      },
      "source": [
        "cancer = load_breast_cancer()\n",
        "all_X = cancer.data\n",
        "all_Y = cancer.target"
      ],
      "execution_count": 0,
      "outputs": []
    },
    {
      "cell_type": "code",
      "metadata": {
        "id": "febCnAz0-IK1",
        "colab_type": "code",
        "colab": {}
      },
      "source": [
        "X_train, X_test, y_train, y_test = train_test_split(all_X,\n",
        "                                        all_Y,\n",
        "                                        stratify=cancer.target,\n",
        "                                        test_size=0.3,\n",
        "                                        random_state=77)"
      ],
      "execution_count": 0,
      "outputs": []
    },
    {
      "cell_type": "markdown",
      "metadata": {
        "id": "cJxaq3mWEm_j",
        "colab_type": "text"
      },
      "source": [
        "모델 생성, 훈련, 예측"
      ]
    },
    {
      "cell_type": "code",
      "metadata": {
        "id": "9Pp7m8E1-R5s",
        "colab_type": "code",
        "colab": {}
      },
      "source": [
        "model = DecisionTreeClassifier(random_state=0)\n",
        "model.fit(X_train, y_train)\n",
        "pred = model.predict(X_test)"
      ],
      "execution_count": 0,
      "outputs": []
    },
    {
      "cell_type": "markdown",
      "metadata": {
        "id": "vcoimiLhEu_0",
        "colab_type": "text"
      },
      "source": [
        "평가"
      ]
    },
    {
      "cell_type": "code",
      "metadata": {
        "id": "xtfYlj1O-VCb",
        "colab_type": "code",
        "colab": {
          "base_uri": "https://localhost:8080/",
          "height": 35
        },
        "outputId": "708c54ce-0a92-4f41-9516-4fc54f5ddd3c"
      },
      "source": [
        "model.score(X_train, y_train)"
      ],
      "execution_count": 5,
      "outputs": [
        {
          "output_type": "execute_result",
          "data": {
            "text/plain": [
              "1.0"
            ]
          },
          "metadata": {
            "tags": []
          },
          "execution_count": 5
        }
      ]
    },
    {
      "cell_type": "code",
      "metadata": {
        "id": "Oqm7KA6_-Ycb",
        "colab_type": "code",
        "colab": {
          "base_uri": "https://localhost:8080/",
          "height": 35
        },
        "outputId": "96ae5c63-30ef-41b7-a60f-09a016e20a3e"
      },
      "source": [
        "model.score(X_test, y_test)"
      ],
      "execution_count": 6,
      "outputs": [
        {
          "output_type": "execute_result",
          "data": {
            "text/plain": [
              "0.9181286549707602"
            ]
          },
          "metadata": {
            "tags": []
          },
          "execution_count": 6
        }
      ]
    },
    {
      "cell_type": "markdown",
      "metadata": {
        "id": "DpfLNd6UHHZ9",
        "colab_type": "text"
      },
      "source": [
        "모델 생성, 훈련, 평가를 함수로 만들기"
      ]
    },
    {
      "cell_type": "code",
      "metadata": {
        "id": "24hECQ2S-bXL",
        "colab_type": "code",
        "colab": {}
      },
      "source": [
        "cancer = load_breast_cancer()\n",
        "all_X = cancer.data\n",
        "all_Y = cancer.target\n",
        "\n",
        "def TreeModel(TestSize=0.3, treedepth=3):\n",
        "  X_train, X_test, y_train, y_test = train_test_split(all_X,\n",
        "                                                      all_Y,\n",
        "                                                      stratify=cancer.target,\n",
        "                                                      test_size=TestSize,\n",
        "                                                      random_state=77)\n",
        "  \n",
        "  model = DecisionTreeClassifier(random_state=0, max_depth=treedepth)\n",
        "  model.fit(X_train, y_train)\n",
        "  print('훈련 데이터에 대한 점수 :', model.score(X_train, y_train))\n",
        "  print('테스트 데이터에 대한 점수 :', model.score(X_test, y_test))"
      ],
      "execution_count": 0,
      "outputs": []
    },
    {
      "cell_type": "markdown",
      "metadata": {
        "id": "b5xCCOH4Haok",
        "colab_type": "text"
      },
      "source": [
        "depth, test size에 따른 평가 점수"
      ]
    },
    {
      "cell_type": "code",
      "metadata": {
        "id": "j4Blz7xD_Whg",
        "colab_type": "code",
        "colab": {
          "base_uri": "https://localhost:8080/",
          "height": 1000
        },
        "outputId": "f6ca52fc-9548-48e4-bb50-24ea8e11c750"
      },
      "source": [
        "for i in range(1,8):\n",
        "  for size in range(1,6):\n",
        "    size_10 = size/10\n",
        "    print('depth : {}, test_size : {}' .format(i, size_10))\n",
        "    TreeModel(TestSize=size_10, treedepth=i)\n",
        "    print('--------------------------------------------------')\n",
        "\n",
        "\n",
        "\n",
        "#test_size_list = [0.1, 0.2, 0.3, 0.4, 0.5]\n",
        "#n_list = range(3,11)\n",
        "#\n",
        "#for n in n_list:\n",
        "#  print('트리의 깊이 : {}' .format(n))\n",
        "#  for i in test_size_list:\n",
        "#    t_rate = (1-i)*100   # 훈련 데이터 비율\n",
        "#    test_rate = i*100    # 테스트 데이터 비율\n",
        "#    print('훈련 데이터와 테스트 데이터의 비율 -> {} : {}' .format(t_rate, test_rate))\n",
        "#    TreeModel(TestSize=i)\n",
        "#    print('--------------------------------------------------')\n",
        "#  print('=======================================================================')"
      ],
      "execution_count": 29,
      "outputs": [
        {
          "output_type": "stream",
          "text": [
            "depth : 1, test_size : 0.1\n",
            "훈련 데이터에 대한 점수 : 0.92578125\n",
            "테스트 데이터에 대한 점수 : 0.8596491228070176\n",
            "--------------------------------------------------\n",
            "depth : 1, test_size : 0.2\n",
            "훈련 데이터에 대한 점수 : 0.9296703296703297\n",
            "테스트 데이터에 대한 점수 : 0.8947368421052632\n",
            "--------------------------------------------------\n",
            "depth : 1, test_size : 0.3\n",
            "훈련 데이터에 대한 점수 : 0.9321608040201005\n",
            "테스트 데이터에 대한 점수 : 0.8830409356725146\n",
            "--------------------------------------------------\n",
            "depth : 1, test_size : 0.4\n",
            "훈련 데이터에 대한 점수 : 0.9354838709677419\n",
            "테스트 데이터에 대한 점수 : 0.8859649122807017\n",
            "--------------------------------------------------\n",
            "depth : 1, test_size : 0.5\n",
            "훈련 데이터에 대한 점수 : 0.9436619718309859\n",
            "테스트 데이터에 대한 점수 : 0.887719298245614\n",
            "--------------------------------------------------\n",
            "depth : 2, test_size : 0.1\n",
            "훈련 데이터에 대한 점수 : 0.953125\n",
            "테스트 데이터에 대한 점수 : 0.8771929824561403\n",
            "--------------------------------------------------\n",
            "depth : 2, test_size : 0.2\n",
            "훈련 데이터에 대한 점수 : 0.9560439560439561\n",
            "테스트 데이터에 대한 점수 : 0.8859649122807017\n",
            "--------------------------------------------------\n",
            "depth : 2, test_size : 0.3\n",
            "훈련 데이터에 대한 점수 : 0.9723618090452262\n",
            "테스트 데이터에 대한 점수 : 0.9122807017543859\n",
            "--------------------------------------------------\n",
            "depth : 2, test_size : 0.4\n",
            "훈련 데이터에 대한 점수 : 0.9706744868035191\n",
            "테스트 데이터에 대한 점수 : 0.9166666666666666\n",
            "--------------------------------------------------\n",
            "depth : 2, test_size : 0.5\n",
            "훈련 데이터에 대한 점수 : 0.9683098591549296\n",
            "테스트 데이터에 대한 점수 : 0.9192982456140351\n",
            "--------------------------------------------------\n",
            "depth : 3, test_size : 0.1\n",
            "훈련 데이터에 대한 점수 : 0.970703125\n",
            "테스트 데이터에 대한 점수 : 0.8771929824561403\n",
            "--------------------------------------------------\n",
            "depth : 3, test_size : 0.2\n",
            "훈련 데이터에 대한 점수 : 0.9802197802197802\n",
            "테스트 데이터에 대한 점수 : 0.8947368421052632\n",
            "--------------------------------------------------\n",
            "depth : 3, test_size : 0.3\n",
            "훈련 데이터에 대한 점수 : 0.9824120603015075\n",
            "테스트 데이터에 대한 점수 : 0.9064327485380117\n",
            "--------------------------------------------------\n",
            "depth : 3, test_size : 0.4\n",
            "훈련 데이터에 대한 점수 : 0.9824046920821115\n",
            "테스트 데이터에 대한 점수 : 0.9254385964912281\n",
            "--------------------------------------------------\n",
            "depth : 3, test_size : 0.5\n",
            "훈련 데이터에 대한 점수 : 0.9823943661971831\n",
            "테스트 데이터에 대한 점수 : 0.9228070175438596\n",
            "--------------------------------------------------\n",
            "depth : 4, test_size : 0.1\n",
            "훈련 데이터에 대한 점수 : 0.986328125\n",
            "테스트 데이터에 대한 점수 : 0.8771929824561403\n",
            "--------------------------------------------------\n",
            "depth : 4, test_size : 0.2\n",
            "훈련 데이터에 대한 점수 : 0.9868131868131869\n",
            "테스트 데이터에 대한 점수 : 0.8859649122807017\n",
            "--------------------------------------------------\n",
            "depth : 4, test_size : 0.3\n",
            "훈련 데이터에 대한 점수 : 0.9849246231155779\n",
            "테스트 데이터에 대한 점수 : 0.9064327485380117\n",
            "--------------------------------------------------\n",
            "depth : 4, test_size : 0.4\n",
            "훈련 데이터에 대한 점수 : 0.9941348973607038\n",
            "테스트 데이터에 대한 점수 : 0.9385964912280702\n",
            "--------------------------------------------------\n",
            "depth : 4, test_size : 0.5\n",
            "훈련 데이터에 대한 점수 : 1.0\n",
            "테스트 데이터에 대한 점수 : 0.9333333333333333\n",
            "--------------------------------------------------\n",
            "depth : 5, test_size : 0.1\n",
            "훈련 데이터에 대한 점수 : 0.98828125\n",
            "테스트 데이터에 대한 점수 : 0.8771929824561403\n",
            "--------------------------------------------------\n",
            "depth : 5, test_size : 0.2\n",
            "훈련 데이터에 대한 점수 : 0.9912087912087912\n",
            "테스트 데이터에 대한 점수 : 0.9122807017543859\n",
            "--------------------------------------------------\n",
            "depth : 5, test_size : 0.3\n",
            "훈련 데이터에 대한 점수 : 0.992462311557789\n",
            "테스트 데이터에 대한 점수 : 0.8888888888888888\n",
            "--------------------------------------------------\n",
            "depth : 5, test_size : 0.4\n",
            "훈련 데이터에 대한 점수 : 1.0\n",
            "테스트 데이터에 대한 점수 : 0.9210526315789473\n",
            "--------------------------------------------------\n",
            "depth : 5, test_size : 0.5\n",
            "훈련 데이터에 대한 점수 : 1.0\n",
            "테스트 데이터에 대한 점수 : 0.9333333333333333\n",
            "--------------------------------------------------\n",
            "depth : 6, test_size : 0.1\n",
            "훈련 데이터에 대한 점수 : 0.99609375\n",
            "테스트 데이터에 대한 점수 : 0.8947368421052632\n",
            "--------------------------------------------------\n",
            "depth : 6, test_size : 0.2\n",
            "훈련 데이터에 대한 점수 : 0.9956043956043956\n",
            "테스트 데이터에 대한 점수 : 0.8947368421052632\n",
            "--------------------------------------------------\n",
            "depth : 6, test_size : 0.3\n",
            "훈련 데이터에 대한 점수 : 0.9974874371859297\n",
            "테스트 데이터에 대한 점수 : 0.9005847953216374\n",
            "--------------------------------------------------\n",
            "depth : 6, test_size : 0.4\n",
            "훈련 데이터에 대한 점수 : 1.0\n",
            "테스트 데이터에 대한 점수 : 0.9210526315789473\n",
            "--------------------------------------------------\n",
            "depth : 6, test_size : 0.5\n",
            "훈련 데이터에 대한 점수 : 1.0\n",
            "테스트 데이터에 대한 점수 : 0.9333333333333333\n",
            "--------------------------------------------------\n",
            "depth : 7, test_size : 0.1\n",
            "훈련 데이터에 대한 점수 : 1.0\n",
            "테스트 데이터에 대한 점수 : 0.9122807017543859\n",
            "--------------------------------------------------\n",
            "depth : 7, test_size : 0.2\n",
            "훈련 데이터에 대한 점수 : 0.9978021978021978\n",
            "테스트 데이터에 대한 점수 : 0.868421052631579\n",
            "--------------------------------------------------\n",
            "depth : 7, test_size : 0.3\n",
            "훈련 데이터에 대한 점수 : 0.9974874371859297\n",
            "테스트 데이터에 대한 점수 : 0.9122807017543859\n",
            "--------------------------------------------------\n",
            "depth : 7, test_size : 0.4\n",
            "훈련 데이터에 대한 점수 : 1.0\n",
            "테스트 데이터에 대한 점수 : 0.9210526315789473\n",
            "--------------------------------------------------\n",
            "depth : 7, test_size : 0.5\n",
            "훈련 데이터에 대한 점수 : 1.0\n",
            "테스트 데이터에 대한 점수 : 0.9333333333333333\n",
            "--------------------------------------------------\n"
          ],
          "name": "stdout"
        }
      ]
    },
    {
      "cell_type": "markdown",
      "metadata": {
        "id": "W8Dam9uJHzM6",
        "colab_type": "text"
      },
      "source": [
        "트리(tree)의 특성 중요도(feature importance)\n",
        "* 특성 중요도 : 이 값은 0과 1사이의 숫자.\n",
        "* 0은 전혀 사용되지 않음.\n",
        "* 1은 완벽하게 타깃 클래스를 예측했다.\n",
        "* 특성 중요도의 전체 합은 1이다.\n",
        "* 특성의 feature_importance_ 값이 낮다고 해서 특성이 유용하지 않다는 것이 아니다. 단지 트리가 그 특성을\n",
        "선택하지 않았다는 것."
      ]
    },
    {
      "cell_type": "code",
      "metadata": {
        "id": "zKHMclb3_4J0",
        "colab_type": "code",
        "colab": {
          "base_uri": "https://localhost:8080/",
          "height": 197
        },
        "outputId": "613dd9b7-8d04-4c41-a292-a50a8c2b8dd9"
      },
      "source": [
        "cancer.feature_names"
      ],
      "execution_count": 30,
      "outputs": [
        {
          "output_type": "execute_result",
          "data": {
            "text/plain": [
              "array(['mean radius', 'mean texture', 'mean perimeter', 'mean area',\n",
              "       'mean smoothness', 'mean compactness', 'mean concavity',\n",
              "       'mean concave points', 'mean symmetry', 'mean fractal dimension',\n",
              "       'radius error', 'texture error', 'perimeter error', 'area error',\n",
              "       'smoothness error', 'compactness error', 'concavity error',\n",
              "       'concave points error', 'symmetry error',\n",
              "       'fractal dimension error', 'worst radius', 'worst texture',\n",
              "       'worst perimeter', 'worst area', 'worst smoothness',\n",
              "       'worst compactness', 'worst concavity', 'worst concave points',\n",
              "       'worst symmetry', 'worst fractal dimension'], dtype='<U23')"
            ]
          },
          "metadata": {
            "tags": []
          },
          "execution_count": 30
        }
      ]
    },
    {
      "cell_type": "code",
      "metadata": {
        "id": "4uG51m3XHlbl",
        "colab_type": "code",
        "colab": {
          "base_uri": "https://localhost:8080/",
          "height": 125
        },
        "outputId": "29aa2838-4377-4635-fbf9-d3b3cbdae4db"
      },
      "source": [
        "# 특성의 중요도\n",
        "model.feature_importances_"
      ],
      "execution_count": 31,
      "outputs": [
        {
          "output_type": "execute_result",
          "data": {
            "text/plain": [
              "array([0.        , 0.00765861, 0.00806757, 0.        , 0.00896396,\n",
              "       0.        , 0.        , 0.02636444, 0.        , 0.        ,\n",
              "       0.01280592, 0.        , 0.        , 0.        , 0.01849807,\n",
              "       0.        , 0.        , 0.        , 0.        , 0.        ,\n",
              "       0.        , 0.        , 0.        , 0.15797911, 0.00239039,\n",
              "       0.        , 0.01882432, 0.73844761, 0.        , 0.        ])"
            ]
          },
          "metadata": {
            "tags": []
          },
          "execution_count": 31
        }
      ]
    },
    {
      "cell_type": "markdown",
      "metadata": {
        "id": "8oU5jWMfUdPY",
        "colab_type": "text"
      },
      "source": [
        "특성별 중요도 그래프 그리기"
      ]
    },
    {
      "cell_type": "code",
      "metadata": {
        "id": "HGZxecilHom1",
        "colab_type": "code",
        "colab": {}
      },
      "source": [
        "import matplotlib.pyplot as plt\n",
        "import numpy as np"
      ],
      "execution_count": 0,
      "outputs": []
    },
    {
      "cell_type": "code",
      "metadata": {
        "id": "lL7jOc-TQHqd",
        "colab_type": "code",
        "colab": {}
      },
      "source": [
        "def plot_feature_imp_cancer(model):\n",
        "  n_features = cancer.data.shape[1]    # feature(변수의 개수)\n",
        "  imp = model.feature_importances_     # feature의 중요도 \n",
        "  plt.barh(range(n_features) , imp, align='center')  # 그래프(가로 막대 그래프)\n",
        "  plt.yticks(np.arange(n_features), cancer.feature_names)  #y축의 축의 값\n",
        "  plt.xlabel(\"feature importance\")   # x축 레이블(제목)\n",
        "  plt.ylabel(\"feature\")              # y축 제목\n",
        "  plt.ylim(-1, n_features)           # y축의 범위 지정 "
      ],
      "execution_count": 0,
      "outputs": []
    },
    {
      "cell_type": "code",
      "metadata": {
        "id": "KhposSeyRpbS",
        "colab_type": "code",
        "colab": {}
      },
      "source": [
        "def plot_feature_imp_cancer_up(model, feature_num, feature_names):\n",
        "  n_features = feature_num    # feature(변수의 개수)\n",
        "  imp = model.feature_importances_     # feature의 중요도 \n",
        "  plt.barh(range(n_features) , imp, align='center')  # 그래프(가로 막대 그래프)\n",
        "  plt.yticks(np.arange(n_features), feature_names)  #y축의 축의 값\n",
        "  plt.xlabel(\"feature importance\")   # x축 레이블(제목)\n",
        "  plt.ylabel(\"feature\")              # y축 제목\n",
        "  plt.ylim(-1, n_features)           # y축의 범위 지정 "
      ],
      "execution_count": 0,
      "outputs": []
    },
    {
      "cell_type": "code",
      "metadata": {
        "id": "cezZ4eb7RtNM",
        "colab_type": "code",
        "colab": {
          "base_uri": "https://localhost:8080/",
          "height": 279
        },
        "outputId": "cda4fe3c-95ed-4110-81b3-a30532bec9d4"
      },
      "source": [
        "feature_n = cancer.data.shape[1]\n",
        "feature_names = cancer.feature_names\n",
        "plot_feature_imp_cancer_up(model, feature_n, feature_names)"
      ],
      "execution_count": 36,
      "outputs": [
        {
          "output_type": "display_data",
          "data": {
            "image/png": "[encoded data removed]",
            "text/plain": [
              "<Figure size 432x288 with 1 Axes>"
            ]
          },
          "metadata": {
            "tags": [],
            "needs_background": "light"
          }
        }
      ]
    },
    {
      "cell_type": "code",
      "metadata": {
        "id": "7afAiO4ORvBF",
        "colab_type": "code",
        "colab": {}
      },
      "source": [
        ""
      ],
      "execution_count": 0,
      "outputs": []
    },
    {
      "cell_type": "code",
      "metadata": {
        "id": "QWwMxZdeQKzK",
        "colab_type": "code",
        "colab": {}
      },
      "source": [
        ""
      ],
      "execution_count": 0,
      "outputs": []
    }
  ]
}