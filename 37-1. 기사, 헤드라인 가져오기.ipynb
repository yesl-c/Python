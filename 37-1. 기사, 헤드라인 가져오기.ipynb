{
 "cells": [
  {
   "cell_type": "code",
   "execution_count": 1,
   "metadata": {},
   "outputs": [],
   "source": [
    "from bs4 import BeautifulSoup\n",
    "from selenium import webdriver\n",
    "import time\n",
    "from random import *"
   ]
  },
  {
   "cell_type": "markdown",
   "metadata": {},
   "source": [
    "한국일보 -  정치면 최근 일주일 기사 가져오기"
   ]
  },
  {
   "cell_type": "code",
   "execution_count": 20,
   "metadata": {},
   "outputs": [
    {
     "name": "stdout",
     "output_type": "stream",
     "text": [
      "1 페이지 완료\n",
      "2 페이지 완료\n",
      "3 페이지 완료\n",
      "4 페이지 완료\n",
      "5 페이지 완료\n",
      "6 페이지 완료\n",
      "7 페이지 완료\n",
      "8 페이지 완료\n",
      "9 페이지 완료\n",
      "10 페이지 완료\n",
      "11 페이지 완료\n",
      "12 페이지 완료\n",
      "13 페이지 완료\n"
     ]
    }
   ],
   "source": [
    "### 한국일보 - 정치\n",
    "\n",
    "driver = webdriver.Chrome('chromedriver')\n",
    "\n",
    "contents = []\n",
    "\n",
    "for page in range(1,14):   # 1~13페이지\n",
    "    \n",
    "    url = 'https://www.hankookilbo.com/News/Politics/HA01?Page={}&sDate='.format(page)\n",
    "    driver.get(url)   # 해당 페이지로 이동\n",
    "\n",
    "    rand_value = randint(5,10)\n",
    "    time.sleep(rand_value)\n",
    "    \n",
    "    for i in range(1,16):   # 한 페이지 당 15개의 기사\n",
    "        headlines = driver.find_element_by_xpath('//*[@id=\"DataFrm\"]/ul/li[{}]/div[2]/a/p[1]'.format(i))\n",
    "        headlines.click()   # 기사 제목 클릭\n",
    "        \n",
    "        time.sleep(5)\n",
    "        \n",
    "        content = driver.find_element_by_xpath('//*[@id=\"article_story\"]').text   # 기사내용 가져오기\n",
    "        contents.append(content)\n",
    "        \n",
    "        rand_value2 = randint(7,10)\n",
    "        time.sleep(rand_value2)\n",
    "        driver.back()   # 뒤로가기\n",
    "        rand_value3 = randint(7,10)\n",
    "        time.sleep(rand_value3)\n",
    "    \n",
    "    print('{} 페이지 완료'.format(page))"
   ]
  },
  {
   "cell_type": "code",
   "execution_count": 21,
   "metadata": {},
   "outputs": [],
   "source": [
    "import pandas as pd\n",
    "hankookilbo = pd.DataFrame({'news':contents})\n",
    "hankookilbo.to_excel('hankookilbo.xlsx', index=False)"
   ]
  },
  {
   "cell_type": "code",
   "execution_count": 22,
   "metadata": {},
   "outputs": [
    {
     "data": {
      "text/html": [
       "<div>\n",
       "<style scoped>\n",
       "    .dataframe tbody tr th:only-of-type {\n",
       "        vertical-align: middle;\n",
       "    }\n",
       "\n",
       "    .dataframe tbody tr th {\n",
       "        vertical-align: top;\n",
       "    }\n",
       "\n",
       "    .dataframe thead th {\n",
       "        text-align: right;\n",
       "    }\n",
       "</style>\n",
       "<table border=\"1\" class=\"dataframe\">\n",
       "  <thead>\n",
       "    <tr style=\"text-align: right;\">\n",
       "      <th></th>\n",
       "      <th>news</th>\n",
       "    </tr>\n",
       "  </thead>\n",
       "  <tbody>\n",
       "    <tr>\n",
       "      <th>0</th>\n",
       "      <td>중국 ‘홍콩 국가보안법’ 28일 전인대 전체회의서 결국 가결\\n“홍콩 시민이 수호하...</td>\n",
       "    </tr>\n",
       "    <tr>\n",
       "      <th>1</th>\n",
       "      <td>미래통합당ㆍ미래한국당 통합 선포식 현장 \\n“‘난리 통에 뜻하지 않게 헤어졌던 형...</td>\n",
       "    </tr>\n",
       "    <tr>\n",
       "      <th>2</th>\n",
       "      <td>“친일파 파묘 안 된다면 ‘친일 안내표식’ 설치라도”\\n김홍걸 더불어시민당 비례대표...</td>\n",
       "    </tr>\n",
       "    <tr>\n",
       "      <th>3</th>\n",
       "      <td>곽상도 미래통합당 의원이 25일 국회에서 '위안부 할머니 피해 진상규명 TF' 회의...</td>\n",
       "    </tr>\n",
       "    <tr>\n",
       "      <th>4</th>\n",
       "      <td>'2020 대한민국 종합 미래전망 대회'가 28일 서울 삼성동 코엑스에서 열리고 있...</td>\n",
       "    </tr>\n",
       "  </tbody>\n",
       "</table>\n",
       "</div>"
      ],
      "text/plain": [
       "                                                news\n",
       "0  중국 ‘홍콩 국가보안법’ 28일 전인대 전체회의서 결국 가결\\n“홍콩 시민이 수호하...\n",
       "1   미래통합당ㆍ미래한국당 통합 선포식 현장 \\n“‘난리 통에 뜻하지 않게 헤어졌던 형...\n",
       "2  “친일파 파묘 안 된다면 ‘친일 안내표식’ 설치라도”\\n김홍걸 더불어시민당 비례대표...\n",
       "3  곽상도 미래통합당 의원이 25일 국회에서 '위안부 할머니 피해 진상규명 TF' 회의...\n",
       "4  '2020 대한민국 종합 미래전망 대회'가 28일 서울 삼성동 코엑스에서 열리고 있..."
      ]
     },
     "execution_count": 22,
     "metadata": {},
     "output_type": "execute_result"
    }
   ],
   "source": [
    "hankookilbo.head()"
   ]
  },
  {
   "cell_type": "code",
   "execution_count": 23,
   "metadata": {},
   "outputs": [],
   "source": [
    "f = open('hankookilbo.txt',mode='wt',encoding='utf-8') \n",
    "f.writelines(contents)\n",
    "f.close()"
   ]
  },
  {
   "cell_type": "code",
   "execution_count": null,
   "metadata": {},
   "outputs": [],
   "source": []
  },
  {
   "cell_type": "code",
   "execution_count": 30,
   "metadata": {},
   "outputs": [],
   "source": [
    "driver = webdriver.Chrome('chromedriver83')\n",
    "\n",
    "driver.implicitly_wait(10)\n",
    "url = 'https://m.khan.co.kr/search_detail.html?section=khan&sort=1&search_name='\n",
    "driver.get(url)\n",
    "\n",
    "search = driver.find_element_by_xpath('//*[@id=\"searchVal\"]')\n",
    "search.send_keys('윤미향')   # 검색어 입력\n",
    "\n",
    "search_btn = driver.find_element_by_xpath('//*[@id=\"search_show\"]/form/button')\n",
    "search_btn.click()   # 검색버튼 클릭\n"
   ]
  },
  {
   "cell_type": "code",
   "execution_count": null,
   "metadata": {},
   "outputs": [],
   "source": [
    "html = urlopen(url)\n",
    "soup = BeautifulSoup(html,'lxml')\n",
    "more_btn = soup.find('button',class_='link_corp btn_more')\n",
    "more_btn.click()\n"
   ]
  },
  {
   "cell_type": "markdown",
   "metadata": {},
   "source": [
    "경향신문 - '윤미향' 검색한 결과 헤드라인만 가져오기"
   ]
  },
  {
   "cell_type": "code",
   "execution_count": 3,
   "metadata": {},
   "outputs": [
    {
     "name": "stdout",
     "output_type": "stream",
     "text": [
      "1 페이지 완료\n",
      "2 페이지 완료\n",
      "3 페이지 완료\n",
      "4 페이지 완료\n",
      "5 페이지 완료\n",
      "6 페이지 완료\n",
      "7 페이지 완료\n"
     ]
    }
   ],
   "source": [
    "driver = webdriver.Chrome('chromedriver83')\n",
    "\n",
    "driver.implicitly_wait(10)\n",
    "url = 'https://m.khan.co.kr/search_detail.html?section=khan&sort=1&search_name='\n",
    "driver.get(url)\n",
    "\n",
    "search = driver.find_element_by_xpath('//*[@id=\"searchVal\"]')\n",
    "search.send_keys('윤미향')   # 검색어 입력\n",
    "\n",
    "search_btn = driver.find_element_by_xpath('//*[@id=\"search_show\"]/form/button')\n",
    "search_btn.click()   # 검색버튼 클릭\n",
    "\n",
    "rand_val = randint(2,4)\n",
    "time.sleep(rand_val)\n",
    "\n",
    "headlines = []\n",
    "for page in range(1,8):   # 1~7페이지\n",
    "    \n",
    "    page_btn = driver.find_element_by_xpath('//*[@id=\"newsPagination\"]/nav/ul/li[{}]/a'.format(page))\n",
    "    driver.execute_script('arguments[0].click();', page_btn)   # 페이지 버튼 클릭\n",
    "    \n",
    "    rand_val2 = randint(2,4)\n",
    "    time.sleep(rand_val2)\n",
    "    \n",
    "    for i in range(1,21):   # 한 페이지에 20개의 기사\n",
    "        headline = driver.find_element_by_xpath('//*[@id=\"newsList\"]/ul/li[{}]/a/span/strong'.format(i))\n",
    "        headlines.append(headline.text)\n",
    "\n",
    "    print('{} 페이지 완료'.format(page))\n",
    "    \n"
   ]
  },
  {
   "cell_type": "code",
   "execution_count": 5,
   "metadata": {},
   "outputs": [],
   "source": [
    "import pandas as pd\n",
    "kh_headlines = pd.DataFrame({'헤드라인':headlines})\n",
    "kh_headlines.to_excel('kh_headlines.xlsx', index=False)"
   ]
  },
  {
   "cell_type": "code",
   "execution_count": 10,
   "metadata": {},
   "outputs": [],
   "source": [
    "f = open('kh_headlines.txt',mode='wt',encoding='utf-8') \n",
    "f.writelines(headlines)\n",
    "f.close()"
   ]
  },
  {
   "cell_type": "code",
   "execution_count": null,
   "metadata": {},
   "outputs": [],
   "source": []
  },
  {
   "cell_type": "code",
   "execution_count": null,
   "metadata": {},
   "outputs": [],
   "source": []
  },
  {
   "cell_type": "code",
   "execution_count": null,
   "metadata": {},
   "outputs": [],
   "source": []
  },
  {
   "cell_type": "markdown",
   "metadata": {},
   "source": [
    "한겨레 - 정치면 최근 일주일 기사 가져오기"
   ]
  },
  {
   "cell_type": "code",
   "execution_count": 3,
   "metadata": {
    "scrolled": true
   },
   "outputs": [
    {
     "name": "stdout",
     "output_type": "stream",
     "text": [
      "2 페이지 완료\n",
      "3 페이지 완료\n",
      "4 페이지 완료\n",
      "5 페이지 완료\n",
      "6 페이지 완료\n",
      "7 페이지 완료\n",
      "8 페이지 완료\n"
     ]
    }
   ],
   "source": [
    "# 한겨레\n",
    "\n",
    "driver = webdriver.Chrome('chromedriver83')\n",
    "\n",
    "contents = []\n",
    "\n",
    "for page in range(2,9):   # 2~8페이지\n",
    "    \n",
    "    driver.implicitly_wait(10)\n",
    "    url = 'http://www.hani.co.kr/arti/politics/list{}.html'.format(page)\n",
    "    driver.get(url)   # 해당 페이지로 이동\n",
    "\n",
    "    #rand_value = randint(3,5)\n",
    "    #time.sleep(rand_value)\n",
    "    \n",
    "    for i in range(1,16):   # 한 페이지 당 15개의 기사\n",
    "        headlines = driver.find_element_by_xpath('//*[@id=\"section-left-scroll-in\"]/div[3]/div[{}]/div/h4/a'.format(i))\n",
    "        headlines.click()   # 기사 제목 클릭\n",
    "        time.sleep(5)\n",
    "        \n",
    "        soup = BeautifulSoup(driver.page_source)\n",
    "        content = soup.find('div', class_='text').text\n",
    "        contents.append(content)\n",
    "        \n",
    "        rand_value2 = randint(6,10)\n",
    "        time.sleep(rand_value2)\n",
    "        driver.back()   # 뒤로가기\n",
    "        rand_value3 = randint(6,10)\n",
    "        time.sleep(rand_value3)\n",
    "        \n",
    "        #print('>>>>>>>>>>>>>>>>>>>>>>>',i)\n",
    "    \n",
    "    print('{} 페이지 완료'.format(page))"
   ]
  },
  {
   "cell_type": "code",
   "execution_count": 6,
   "metadata": {},
   "outputs": [],
   "source": [
    "import pandas as pd\n",
    "hankyoreh = pd.DataFrame({'news':contents})\n",
    "hankyoreh.to_excel('hankyoreh.xlsx', index=False)"
   ]
  },
  {
   "cell_type": "code",
   "execution_count": 7,
   "metadata": {},
   "outputs": [],
   "source": [
    "f = open('hankyoreh.txt',mode='wt',encoding='utf-8') \n",
    "f.writelines(contents)\n",
    "f.close()"
   ]
  },
  {
   "cell_type": "code",
   "execution_count": null,
   "metadata": {},
   "outputs": [],
   "source": []
  },
  {
   "cell_type": "code",
   "execution_count": null,
   "metadata": {},
   "outputs": [],
   "source": []
  },
  {
   "cell_type": "code",
   "execution_count": null,
   "metadata": {},
   "outputs": [],
   "source": []
  },
  {
   "cell_type": "code",
   "execution_count": null,
   "metadata": {},
   "outputs": [],
   "source": []
  },
  {
   "cell_type": "code",
   "execution_count": null,
   "metadata": {},
   "outputs": [],
   "source": []
  },
  {
   "cell_type": "code",
   "execution_count": null,
   "metadata": {},
   "outputs": [],
   "source": []
  },
  {
   "cell_type": "code",
   "execution_count": null,
   "metadata": {},
   "outputs": [],
   "source": []
  },
  {
   "cell_type": "code",
   "execution_count": null,
   "metadata": {},
   "outputs": [],
   "source": []
  }
 ],
 "metadata": {
  "kernelspec": {
   "display_name": "Python 3",
   "language": "python",
   "name": "python3"
  },
  "language_info": {
   "codemirror_mode": {
    "name": "ipython",
    "version": 3
   },
   "file_extension": ".py",
   "mimetype": "text/x-python",
   "name": "python",
   "nbconvert_exporter": "python",
   "pygments_lexer": "ipython3",
   "version": "3.7.1"
  }
 },
 "nbformat": 4,
 "nbformat_minor": 2
}
