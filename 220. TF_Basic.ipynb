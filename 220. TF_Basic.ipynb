{
 "cells": [
  {
   "cell_type": "code",
   "execution_count": 1,
   "metadata": {},
   "outputs": [
    {
     "name": "stdout",
     "output_type": "stream",
     "text": [
      "1.15.0\n"
     ]
    }
   ],
   "source": [
    "import tensorflow as tf\n",
    "print(tf.__version__)"
   ]
  },
  {
   "cell_type": "markdown",
   "metadata": {},
   "source": [
    "### 값 저장하기\n",
    "* Tensor 자료형 :\n",
    "* shape(), string\n",
    "* tf.constant() : Creates a constant tensor."
   ]
  },
  {
   "cell_type": "code",
   "execution_count": 4,
   "metadata": {},
   "outputs": [
    {
     "name": "stdout",
     "output_type": "stream",
     "text": [
      "Tensor(\"Const_2:0\", shape=(), dtype=string)\n",
      "<class 'tensorflow.python.framework.ops.Tensor'>\n",
      "b'Hello, Tensorflow'\n"
     ]
    }
   ],
   "source": [
    "hello = tf.constant(\"Hello, Tensorflow\")\n",
    "print(hello)   # 값 출력하지 않고 자료형과 구성을 출력함. 값을 출력하려면 세션을 맺어야 함\n",
    "print(type(hello))\n",
    "\n",
    "sess = tf.Session()   # 세션 맺기\n",
    "init = tf.global_variables_initializer()   \n",
    "sess.run(init)   # 변수 초기화\n",
    "print(sess.run(hello))   # 출력\n",
    "sess.close()   # 세션 닫기"
   ]
  },
  {
   "cell_type": "markdown",
   "metadata": {},
   "source": [
    "### 텐서플로의 자료형\n",
    "* 플레이스 홀더 : 나중에 값을 입력받기 위한 사용되는 매개변수(parameter)\n",
    "* shape(?,3)은 두번째 차원 요소가 3이고, 앞의 차원은 나중에 지정."
   ]
  },
  {
   "cell_type": "code",
   "execution_count": 5,
   "metadata": {},
   "outputs": [
    {
     "name": "stdout",
     "output_type": "stream",
     "text": [
      "<class 'tensorflow.python.framework.ops.Tensor'>\n",
      "Tensor(\"Placeholder:0\", shape=(?, 2), dtype=float32)\n"
     ]
    }
   ],
   "source": [
    "# None은 크기가 정해져 있지 않음을 의미\n",
    "tensorX = tf.placeholder(tf.float32, [None, 2])\n",
    "print(type(tensorX))\n",
    "print(tensorX)"
   ]
  },
  {
   "cell_type": "code",
   "execution_count": 6,
   "metadata": {},
   "outputs": [],
   "source": [
    "# X에 넣을 데이터 초기화\n",
    "x_data = [[1,1], \n",
    "          [2,2]]"
   ]
  },
  {
   "cell_type": "code",
   "execution_count": 7,
   "metadata": {},
   "outputs": [
    {
     "name": "stdout",
     "output_type": "stream",
     "text": [
      "[[1. 1.]\n",
      " [2. 2.]]\n"
     ]
    }
   ],
   "source": [
    "sess = tf.Session()\n",
    "sess.run(tf.global_variables_initializer())\n",
    "\n",
    "print(sess.run(tensorX, feed_dict={tensorX:x_data}))\n",
    "sess.close()"
   ]
  },
  {
   "cell_type": "markdown",
   "metadata": {},
   "source": [
    "### 행렬 연산\n",
    "* Y = X (2행2열) * W(2행*2열) + b(2행)\n",
    "* tf.random_normal : 정규 분포로부터 랜덤한 값 생성"
   ]
  },
  {
   "cell_type": "code",
   "execution_count": 8,
   "metadata": {},
   "outputs": [
    {
     "name": "stdout",
     "output_type": "stream",
     "text": [
      "<tf.Variable 'Variable:0' shape=(2, 2) dtype=float32_ref>\n",
      "<tf.Variable 'Variable_1:0' shape=(2, 1) dtype=float32_ref>\n"
     ]
    }
   ],
   "source": [
    "# None은 크기가 정해져 있지 않음을 의미\n",
    "tensorX = tf.placeholder(tf.float32, [None, 2])\n",
    "W = tf.Variable(tf.random_normal([2,2]))\n",
    "b = tf.Variable(tf.random_normal([2,1]))\n",
    "print(W)\n",
    "print(b)"
   ]
  },
  {
   "cell_type": "code",
   "execution_count": 9,
   "metadata": {},
   "outputs": [
    {
     "data": {
      "text/plain": [
       "<tf.Tensor 'add:0' shape=(2, 2) dtype=float32>"
      ]
     },
     "execution_count": 9,
     "metadata": {},
     "output_type": "execute_result"
    }
   ],
   "source": [
    "expr = tf.matmul(tensorX, W) + b\n",
    "expr"
   ]
  },
  {
   "cell_type": "markdown",
   "metadata": {},
   "source": [
    "### 연산 결과 및 결과 출력"
   ]
  },
  {
   "cell_type": "code",
   "execution_count": 10,
   "metadata": {},
   "outputs": [
    {
     "name": "stdout",
     "output_type": "stream",
     "text": [
      "x_data ==\n",
      "[[1, 1], [2, 2]]\n",
      "W ==\n",
      "[[ 1.463053   -1.0796193 ]\n",
      " [-0.11954071 -0.4194326 ]]\n",
      "B ==\n",
      "[[-2.4846418 ]\n",
      " [ 0.07772848]]\n",
      "expr ==\n",
      "[[-1.1411295 -3.9836936]\n",
      " [ 2.764753  -2.9203753]]\n"
     ]
    }
   ],
   "source": [
    "sess = tf.Session()\n",
    "sess.run(tf.global_variables_initializer())\n",
    "\n",
    "print(\"x_data ==\")\n",
    "print(x_data)\n",
    "print(\"W ==\")\n",
    "print(sess.run(W))\n",
    "print(\"B ==\")\n",
    "print(sess.run(b))\n",
    "\n",
    "print(\"expr ==\")\n",
    "print(sess.run(expr, feed_dict={tensorX:x_data}))\n",
    "sess.close()"
   ]
  },
  {
   "cell_type": "code",
   "execution_count": null,
   "metadata": {},
   "outputs": [],
   "source": []
  }
 ],
 "metadata": {
  "kernelspec": {
   "display_name": "Python 3",
   "language": "python",
   "name": "python3"
  },
  "language_info": {
   "codemirror_mode": {
    "name": "ipython",
    "version": 3
   },
   "file_extension": ".py",
   "mimetype": "text/x-python",
   "name": "python",
   "nbconvert_exporter": "python",
   "pygments_lexer": "ipython3",
   "version": "3.7.1"
  }
 },
 "nbformat": 4,
 "nbformat_minor": 4
}
