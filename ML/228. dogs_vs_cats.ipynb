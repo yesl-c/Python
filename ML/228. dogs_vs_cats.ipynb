{
  "nbformat": 4,
  "nbformat_minor": 0,
  "metadata": {
    "colab": {
      "name": "dogs vs cats.ipynb",
      "provenance": []
    },
    "kernelspec": {
      "name": "python3",
      "display_name": "Python 3"
    },
    "accelerator": "GPU"
  },
  "cells": [
    {
      "cell_type": "code",
      "metadata": {
        "id": "9_oahzSKakNg",
        "colab_type": "code",
        "colab": {}
      },
      "source": [
        "import tensorflow as tf\n",
        "from tensorflow.keras.models import Sequential\n",
        "from tensorflow.keras.layers import Dense, Conv2D, Flatten, Dropout, MaxPooling2D\n",
        "from tensorflow.keras.preprocessing.image import ImageDataGenerator"
      ],
      "execution_count": 0,
      "outputs": []
    },
    {
      "cell_type": "code",
      "metadata": {
        "id": "ctYrUZcGbh80",
        "colab_type": "code",
        "colab": {}
      },
      "source": [
        "import os\n",
        "import numpy as np\n",
        "import matplotlib.pyplot as plt"
      ],
      "execution_count": 0,
      "outputs": []
    },
    {
      "cell_type": "code",
      "metadata": {
        "id": "2qWMwGSkbp3k",
        "colab_type": "code",
        "colab": {
          "base_uri": "https://localhost:8080/",
          "height": 35
        },
        "outputId": "c12264fb-8af7-4364-df05-a8227fcedaa8"
      },
      "source": [
        "print(tf.__version__)"
      ],
      "execution_count": 3,
      "outputs": [
        {
          "output_type": "stream",
          "text": [
            "2.2.0\n"
          ],
          "name": "stdout"
        }
      ]
    },
    {
      "cell_type": "markdown",
      "metadata": {
        "id": "wJN9_dercZQf",
        "colab_type": "text"
      },
      "source": [
        "### **데이터 가져오기**"
      ]
    },
    {
      "cell_type": "code",
      "metadata": {
        "id": "luR7h29XbrjX",
        "colab_type": "code",
        "colab": {
          "base_uri": "https://localhost:8080/",
          "height": 71
        },
        "outputId": "196ac62d-1622-4041-fd5a-a48033214d3f"
      },
      "source": [
        "_URL = 'https://storage.googleapis.com/mledu-datasets/cats_and_dogs_filtered.zip'\n",
        "path_to_zip = tf.keras.utils.get_file('cats_and_dogs.zip', origin=_URL, extract=True)\n",
        "PATH = os.path.join(os.path.dirname(path_to_zip), 'cats_and_dogs_filtered')\n",
        "PATH"
      ],
      "execution_count": 3,
      "outputs": [
        {
          "output_type": "stream",
          "text": [
            "Downloading data from https://storage.googleapis.com/mledu-datasets/cats_and_dogs_filtered.zip\n",
            "68608000/68606236 [==============================] - 0s 0us/step\n"
          ],
          "name": "stdout"
        },
        {
          "output_type": "execute_result",
          "data": {
            "text/plain": [
              "'/root/.keras/datasets/cats_and_dogs_filtered'"
            ]
          },
          "metadata": {
            "tags": []
          },
          "execution_count": 3
        }
      ]
    },
    {
      "cell_type": "code",
      "metadata": {
        "id": "iEHGHIqTcUPu",
        "colab_type": "code",
        "colab": {
          "base_uri": "https://localhost:8080/",
          "height": 35
        },
        "outputId": "b7703bf0-ef47-4ef7-b407-af0f2fcd0e01"
      },
      "source": [
        "# 데이터의 경로설정\n",
        "train_dir = os.path.join(PATH, 'train')\n",
        "print(train_dir)\n",
        "validation_dir = os.path.join(PATH, 'validation')"
      ],
      "execution_count": 4,
      "outputs": [
        {
          "output_type": "stream",
          "text": [
            "/root/.keras/datasets/cats_and_dogs_filtered/train\n"
          ],
          "name": "stdout"
        }
      ]
    },
    {
      "cell_type": "code",
      "metadata": {
        "id": "qt4iBfJwch89",
        "colab_type": "code",
        "colab": {}
      },
      "source": [
        "# 각 경로에서 CAT, DOG 분리되어 있음\n",
        "train_cats_dir = os.path.join(train_dir, 'cats') # directory with our training cat pictures\n",
        "train_dogs_dir = os.path.join(train_dir, 'dogs') # directory with our training dog pictures\n",
        "validation_cats_dir = os.path.join(validation_dir, 'cats') # directory with our validation cat pictures\n",
        "validation_dogs_dir = os.path.join(validation_dir, 'dogs') # directory with our validation dog pictures"
      ],
      "execution_count": 0,
      "outputs": []
    },
    {
      "cell_type": "code",
      "metadata": {
        "id": "r__HdWHJdFFQ",
        "colab_type": "code",
        "colab": {
          "base_uri": "https://localhost:8080/",
          "height": 53
        },
        "outputId": "9add4fb0-6ae3-4ee6-80bd-adb24ced500d"
      },
      "source": [
        "# 해당 경로별 이미지 데이터의 갯수\n",
        "num_cats_tr = len(os.listdir(train_cats_dir))   # os.listdir : 해당 경로 안의 모든 파일/디렉터리를 리스트로 보여줌\n",
        "num_dogs_tr = len(os.listdir(train_dogs_dir))\n",
        "\n",
        "num_cats_val = len(os.listdir(validation_cats_dir))\n",
        "num_dogs_val = len(os.listdir(validation_dogs_dir))\n",
        "\n",
        "print('이미지 갯수 (학습용) 개 : {}, 고양이 : {}'.format(num_dogs_tr, num_cats_tr))\n",
        "print('이미지 갯수 (평가용) 개 : {}, 고양이 : {}'.format(num_dogs_val, num_cats_val))"
      ],
      "execution_count": 6,
      "outputs": [
        {
          "output_type": "stream",
          "text": [
            "이미지 갯수 (학습용) 개 : 1000, 고양이 : 1000\n",
            "이미지 갯수 (평가용) 개 : 500, 고양이 : 500\n"
          ],
          "name": "stdout"
        }
      ]
    },
    {
      "cell_type": "code",
      "metadata": {
        "id": "i0XO37_Rd8ZJ",
        "colab_type": "code",
        "colab": {
          "base_uri": "https://localhost:8080/",
          "height": 89
        },
        "outputId": "055af1b9-c7d6-4a58-9aa4-4f3381ea953f"
      },
      "source": [
        "#!ls -l /root/.keras/datasets/cats_and_dogs_filtered"
      ],
      "execution_count": 13,
      "outputs": [
        {
          "output_type": "stream",
          "text": [
            "total 12\n",
            "drwxr-xr-x 4 root root 4096 Jun 11 03:34 train\n",
            "drwxr-xr-x 4 root root 4096 Jun 11 03:34 validation\n",
            "-rw-r--r-- 1 root root  140 Jun 11 03:34 vectorize.py\n"
          ],
          "name": "stdout"
        }
      ]
    },
    {
      "cell_type": "markdown",
      "metadata": {
        "id": "emsTkgSrfgNG",
        "colab_type": "text"
      },
      "source": [
        "### **신경망 모델 만들기**"
      ]
    },
    {
      "cell_type": "code",
      "metadata": {
        "id": "xPafZQ1peMGA",
        "colab_type": "code",
        "colab": {}
      },
      "source": [
        "batch_size = 512    # 학습할 때 몇 장씩 학습할지?\n",
        "epochs = 15         # 전체 데이터에 대해 몇 번할지?\n",
        "IMG_HEIGHT = 150    # 데이터(이미지) 사이즈 통일\n",
        "IMG_WIDTH = 150     # 데이터(이미지) 사이즈 통일"
      ],
      "execution_count": 0,
      "outputs": []
    },
    {
      "cell_type": "markdown",
      "metadata": {
        "id": "rOCy8-L5ent2",
        "colab_type": "text"
      },
      "source": [
        "ImageDataGenerator"
      ]
    },
    {
      "cell_type": "code",
      "metadata": {
        "id": "M_xspbf2fBP6",
        "colab_type": "code",
        "colab": {}
      },
      "source": [
        "train_image_generator = ImageDataGenerator(rescale=1./255)\n",
        "validation_image_generator = ImageDataGenerator(rescale=1./255)"
      ],
      "execution_count": 0,
      "outputs": []
    },
    {
      "cell_type": "code",
      "metadata": {
        "id": "269_yacdfdRD",
        "colab_type": "code",
        "colab": {
          "base_uri": "https://localhost:8080/",
          "height": 53
        },
        "outputId": "b2c4a4d7-03f5-44ef-9c8e-c6481f1cd252"
      },
      "source": [
        "train_data_gen = train_image_generator.flow_from_directory(batch_size=batch_size,\n",
        "                                                           directory=train_dir,\n",
        "                                                           shuffle=True,   # 이미지가 편중되어 있을 수 있으므로 임의로 섞음\n",
        "                                                           target_size=(IMG_HEIGHT, IMG_WIDTH),\n",
        "                                                           class_mode='binary')\n",
        "\n",
        "val_data_gen = validation_image_generator.flow_from_directory(batch_size=batch_size,\n",
        "                                                              directory=validation_dir,\n",
        "                                                              # validation data는 평가용이므로 굳이 shuffle 하지 않아도 됨\n",
        "                                                              target_size=(IMG_HEIGHT, IMG_WIDTH),\n",
        "                                                              class_mode='binary')"
      ],
      "execution_count": 9,
      "outputs": [
        {
          "output_type": "stream",
          "text": [
            "Found 2000 images belonging to 2 classes.\n",
            "Found 1000 images belonging to 2 classes.\n"
          ],
          "name": "stdout"
        }
      ]
    },
    {
      "cell_type": "markdown",
      "metadata": {
        "id": "utWIs80Pga02",
        "colab_type": "text"
      },
      "source": [
        "모델 생성"
      ]
    },
    {
      "cell_type": "code",
      "metadata": {
        "id": "cQMC3rCGgQuw",
        "colab_type": "code",
        "colab": {}
      },
      "source": [
        "model = Sequential([\n",
        "  Conv2D(16,3, padding='same', activation='relu', input_shape=(IMG_HEIGHT, IMG_WIDTH, 3)),   # 이미지가 r,g,b 3채널\n",
        "  MaxPooling2D(),\n",
        "  Conv2D(32,3, padding='same', activation='relu'),\n",
        "  MaxPooling2D(),\n",
        "  Conv2D(64,3, padding='same', activation='relu'),\n",
        "  MaxPooling2D(),\n",
        "  Flatten(),\n",
        "  Dense(512, activation='relu'),\n",
        "  Dense(1, activation='sigmoid')   # 출력층(이진분류)\n",
        "])"
      ],
      "execution_count": 0,
      "outputs": []
    },
    {
      "cell_type": "markdown",
      "metadata": {
        "id": "1QuRsrt8hZ5m",
        "colab_type": "text"
      },
      "source": [
        "모델 설정\n",
        "* 비용 함수\n",
        "* 최적화 함수"
      ]
    },
    {
      "cell_type": "code",
      "metadata": {
        "id": "WiSaVRPMhYWQ",
        "colab_type": "code",
        "colab": {}
      },
      "source": [
        "model.compile(optimizer='adam',\n",
        "              loss='binary_crossentropy',\n",
        "              metrics=['accuracy'])"
      ],
      "execution_count": 0,
      "outputs": []
    },
    {
      "cell_type": "markdown",
      "metadata": {
        "id": "1U7vDq62htc-",
        "colab_type": "text"
      },
      "source": [
        "모델의 형태 확인"
      ]
    },
    {
      "cell_type": "code",
      "metadata": {
        "id": "8sbfqRrpho9l",
        "colab_type": "code",
        "colab": {
          "base_uri": "https://localhost:8080/",
          "height": 485
        },
        "outputId": "fd998b64-f8e7-4409-fa6f-0aa2e352cd9b"
      },
      "source": [
        "model.summary()\n",
        "# pooling 하면 사이즈가 반으로 줄어듦\n",
        "# convolution 하면 줄어들지 않음"
      ],
      "execution_count": 19,
      "outputs": [
        {
          "output_type": "stream",
          "text": [
            "Model: \"sequential\"\n",
            "_________________________________________________________________\n",
            "Layer (type)                 Output Shape              Param #   \n",
            "=================================================================\n",
            "conv2d (Conv2D)              (None, 150, 150, 16)      448       \n",
            "_________________________________________________________________\n",
            "max_pooling2d (MaxPooling2D) (None, 75, 75, 16)        0         \n",
            "_________________________________________________________________\n",
            "conv2d_1 (Conv2D)            (None, 75, 75, 32)        4640      \n",
            "_________________________________________________________________\n",
            "max_pooling2d_1 (MaxPooling2 (None, 37, 37, 32)        0         \n",
            "_________________________________________________________________\n",
            "conv2d_2 (Conv2D)            (None, 37, 37, 64)        18496     \n",
            "_________________________________________________________________\n",
            "max_pooling2d_2 (MaxPooling2 (None, 18, 18, 64)        0         \n",
            "_________________________________________________________________\n",
            "flatten (Flatten)            (None, 20736)             0         \n",
            "_________________________________________________________________\n",
            "dense (Dense)                (None, 512)               10617344  \n",
            "_________________________________________________________________\n",
            "dense_1 (Dense)              (None, 1)                 513       \n",
            "=================================================================\n",
            "Total params: 10,641,441\n",
            "Trainable params: 10,641,441\n",
            "Non-trainable params: 0\n",
            "_________________________________________________________________\n"
          ],
          "name": "stdout"
        }
      ]
    },
    {
      "cell_type": "markdown",
      "metadata": {
        "id": "WADc6VMdhwhm",
        "colab_type": "text"
      },
      "source": [
        "모델 학습"
      ]
    },
    {
      "cell_type": "code",
      "metadata": {
        "id": "spUTkQs4jIcG",
        "colab_type": "code",
        "colab": {}
      },
      "source": [
        "total_train = num_cats_tr + num_dogs_tr   # 실제 이미지 크기\n",
        "total_val = num_cats_val + num_dogs_val"
      ],
      "execution_count": 0,
      "outputs": []
    },
    {
      "cell_type": "code",
      "metadata": {
        "id": "k2lMFXLFhrdO",
        "colab_type": "code",
        "colab": {
          "base_uri": "https://localhost:8080/",
          "height": 631
        },
        "outputId": "71299b2d-8556-483b-d940-8a2fd516412b"
      },
      "source": [
        "history = model.fit_generator(   # 데이터가 만들어둔 객체를 사용할 때 fit_generator를 씀\n",
        "    train_data_gen,\n",
        "    steps_per_epoch = total_train // batch_size,\n",
        "    epochs=epochs,\n",
        "    validation_data = val_data_gen,\n",
        "    validation_steps=total_val // batch_size\n",
        ")"
      ],
      "execution_count": 13,
      "outputs": [
        {
          "output_type": "stream",
          "text": [
            "WARNING:tensorflow:From <ipython-input-13-d1f7412de02a>:6: Model.fit_generator (from tensorflow.python.keras.engine.training) is deprecated and will be removed in a future version.\n",
            "Instructions for updating:\n",
            "Please use Model.fit, which supports generators.\n",
            "Epoch 1/15\n",
            "3/3 [==============================] - 7s 2s/step - loss: 1.5435 - accuracy: 0.5249 - val_loss: 1.3740 - val_accuracy: 0.5176\n",
            "Epoch 2/15\n",
            "3/3 [==============================] - 8s 3s/step - loss: 0.9794 - accuracy: 0.4698 - val_loss: 0.7682 - val_accuracy: 0.4883\n",
            "Epoch 3/15\n",
            "3/3 [==============================] - 8s 3s/step - loss: 0.7431 - accuracy: 0.5087 - val_loss: 0.7028 - val_accuracy: 0.5117\n",
            "Epoch 4/15\n",
            "3/3 [==============================] - 8s 3s/step - loss: 0.7045 - accuracy: 0.4926 - val_loss: 0.7006 - val_accuracy: 0.5000\n",
            "Epoch 5/15\n",
            "3/3 [==============================] - 8s 3s/step - loss: 0.6919 - accuracy: 0.5524 - val_loss: 0.6868 - val_accuracy: 0.4941\n",
            "Epoch 6/15\n",
            "3/3 [==============================] - 7s 2s/step - loss: 0.6826 - accuracy: 0.5155 - val_loss: 0.6790 - val_accuracy: 0.6016\n",
            "Epoch 7/15\n",
            "3/3 [==============================] - 7s 2s/step - loss: 0.6704 - accuracy: 0.6163 - val_loss: 0.6643 - val_accuracy: 0.6484\n",
            "Epoch 8/15\n",
            "3/3 [==============================] - 7s 2s/step - loss: 0.6573 - accuracy: 0.6169 - val_loss: 0.6438 - val_accuracy: 0.6172\n",
            "Epoch 9/15\n",
            "3/3 [==============================] - 7s 2s/step - loss: 0.6446 - accuracy: 0.6223 - val_loss: 0.6465 - val_accuracy: 0.5879\n",
            "Epoch 10/15\n",
            "3/3 [==============================] - 7s 2s/step - loss: 0.6236 - accuracy: 0.6546 - val_loss: 0.6260 - val_accuracy: 0.6348\n",
            "Epoch 11/15\n",
            "3/3 [==============================] - 7s 2s/step - loss: 0.6226 - accuracy: 0.6566 - val_loss: 0.6098 - val_accuracy: 0.6934\n",
            "Epoch 12/15\n",
            "3/3 [==============================] - 7s 2s/step - loss: 0.6025 - accuracy: 0.6647 - val_loss: 0.6065 - val_accuracy: 0.6992\n",
            "Epoch 13/15\n",
            "3/3 [==============================] - 7s 2s/step - loss: 0.5821 - accuracy: 0.6983 - val_loss: 0.6121 - val_accuracy: 0.6309\n",
            "Epoch 14/15\n",
            "3/3 [==============================] - 7s 2s/step - loss: 0.5685 - accuracy: 0.7036 - val_loss: 0.6183 - val_accuracy: 0.6602\n",
            "Epoch 15/15\n",
            "3/3 [==============================] - 7s 2s/step - loss: 0.5528 - accuracy: 0.7177 - val_loss: 0.5727 - val_accuracy: 0.7051\n"
          ],
          "name": "stdout"
        }
      ]
    },
    {
      "cell_type": "markdown",
      "metadata": {
        "id": "bq-4H78ulDHg",
        "colab_type": "text"
      },
      "source": [
        "결과 시각화"
      ]
    },
    {
      "cell_type": "code",
      "metadata": {
        "id": "JfgJNIWxjUEw",
        "colab_type": "code",
        "colab": {
          "base_uri": "https://localhost:8080/",
          "height": 499
        },
        "outputId": "8fbc8fea-1d5f-4ece-c26a-6226dc3228ed"
      },
      "source": [
        "acc = history.history['accuracy']\n",
        "val_acc = history.history['val_accuracy']\n",
        "\n",
        "loss = history.history['loss']\n",
        "val_loss = history.history['val_loss']\n",
        "\n",
        "epochs_range = range(epochs)\n",
        "\n",
        "\n",
        "plt.figure(figsize=(12,8))\n",
        "\n",
        "plt.subplot(1,2,1)\n",
        "plt.plot(epochs_range, acc, label='Training Accuracy')\n",
        "plt.plot(epochs_range, val_acc, label='Validation Accuracy')\n",
        "plt.legend(loc='lower right')\n",
        "plt.title('Training and Validation Accuracy')\n",
        "\n",
        "plt.subplot(1,2,2)\n",
        "plt.plot(epochs_range, loss, label='Training Loss')\n",
        "plt.plot(epochs_range, val_loss, label='Validation Loss')\n",
        "plt.legend(loc='upper right')\n",
        "plt.title('Training and Validation Loss')\n",
        "\n",
        "plt.show()"
      ],
      "execution_count": 15,
      "outputs": [
        {
          "output_type": "display_data",
          "data": {
            "image/png": "[encoded data removed]",
            "text/plain": [
              "<Figure size 864x576 with 2 Axes>"
            ]
          },
          "metadata": {
            "tags": [],
            "needs_background": "light"
          }
        }
      ]
    },
    {
      "cell_type": "code",
      "metadata": {
        "id": "7N8lcPChmDXp",
        "colab_type": "code",
        "colab": {}
      },
      "source": [
        ""
      ],
      "execution_count": 0,
      "outputs": []
    }
  ]
}