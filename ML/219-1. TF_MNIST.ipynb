{
 "cells": [
  {
   "cell_type": "code",
   "execution_count": 1,
   "metadata": {},
   "outputs": [],
   "source": [
    "import tensorflow as tf"
   ]
  },
  {
   "cell_type": "code",
   "execution_count": 2,
   "metadata": {},
   "outputs": [
    {
     "name": "stdout",
     "output_type": "stream",
     "text": [
      "1.15.0\n"
     ]
    }
   ],
   "source": [
    "print(tf.__version__)"
   ]
  },
  {
   "cell_type": "code",
   "execution_count": 3,
   "metadata": {},
   "outputs": [],
   "source": [
    "import os, warnings\n",
    "# 경고 메시지 무시하거나 숨길때(ignore), 다시보이게(default)\n",
    "# warnings.filterwarnings(action='default')\n",
    "warnings.filterwarnings(action='ignore')"
   ]
  },
  {
   "cell_type": "code",
   "execution_count": 4,
   "metadata": {},
   "outputs": [
    {
     "name": "stdout",
     "output_type": "stream",
     "text": [
      "WARNING:tensorflow:From <ipython-input-4-4dcbd946c02b>:2: read_data_sets (from tensorflow.contrib.learn.python.learn.datasets.mnist) is deprecated and will be removed in a future version.\n",
      "Instructions for updating:\n",
      "Please use alternatives such as official/mnist/dataset.py from tensorflow/models.\n",
      "WARNING:tensorflow:From C:\\Users\\Seoul IT\\Anaconda3\\lib\\site-packages\\tensorflow_core\\contrib\\learn\\python\\learn\\datasets\\mnist.py:260: maybe_download (from tensorflow.contrib.learn.python.learn.datasets.base) is deprecated and will be removed in a future version.\n",
      "Instructions for updating:\n",
      "Please write your own downloading logic.\n",
      "WARNING:tensorflow:From C:\\Users\\Seoul IT\\Anaconda3\\lib\\site-packages\\tensorflow_core\\contrib\\learn\\python\\learn\\datasets\\base.py:252: _internal_retry.<locals>.wrap.<locals>.wrapped_fn (from tensorflow.contrib.learn.python.learn.datasets.base) is deprecated and will be removed in a future version.\n",
      "Instructions for updating:\n",
      "Please use urllib or similar directly.\n",
      "Successfully downloaded train-images-idx3-ubyte.gz 9912422 bytes.\n",
      "WARNING:tensorflow:From C:\\Users\\Seoul IT\\Anaconda3\\lib\\site-packages\\tensorflow_core\\contrib\\learn\\python\\learn\\datasets\\mnist.py:262: extract_images (from tensorflow.contrib.learn.python.learn.datasets.mnist) is deprecated and will be removed in a future version.\n",
      "Instructions for updating:\n",
      "Please use tf.data to implement this functionality.\n",
      "Extracting ./mnist/data/train-images-idx3-ubyte.gz\n",
      "Successfully downloaded train-labels-idx1-ubyte.gz 28881 bytes.\n",
      "WARNING:tensorflow:From C:\\Users\\Seoul IT\\Anaconda3\\lib\\site-packages\\tensorflow_core\\contrib\\learn\\python\\learn\\datasets\\mnist.py:267: extract_labels (from tensorflow.contrib.learn.python.learn.datasets.mnist) is deprecated and will be removed in a future version.\n",
      "Instructions for updating:\n",
      "Please use tf.data to implement this functionality.\n",
      "Extracting ./mnist/data/train-labels-idx1-ubyte.gz\n",
      "WARNING:tensorflow:From C:\\Users\\Seoul IT\\Anaconda3\\lib\\site-packages\\tensorflow_core\\contrib\\learn\\python\\learn\\datasets\\mnist.py:110: dense_to_one_hot (from tensorflow.contrib.learn.python.learn.datasets.mnist) is deprecated and will be removed in a future version.\n",
      "Instructions for updating:\n",
      "Please use tf.one_hot on tensors.\n",
      "Successfully downloaded t10k-images-idx3-ubyte.gz 1648877 bytes.\n",
      "Extracting ./mnist/data/t10k-images-idx3-ubyte.gz\n",
      "Successfully downloaded t10k-labels-idx1-ubyte.gz 4542 bytes.\n",
      "Extracting ./mnist/data/t10k-labels-idx1-ubyte.gz\n",
      "WARNING:tensorflow:From C:\\Users\\Seoul IT\\Anaconda3\\lib\\site-packages\\tensorflow_core\\contrib\\learn\\python\\learn\\datasets\\mnist.py:290: DataSet.__init__ (from tensorflow.contrib.learn.python.learn.datasets.mnist) is deprecated and will be removed in a future version.\n",
      "Instructions for updating:\n",
      "Please use alternatives such as official/mnist/dataset.py from tensorflow/models.\n"
     ]
    }
   ],
   "source": [
    "from tensorflow.examples.tutorials.mnist import input_data\n",
    "mnist = input_data.read_data_sets(\"./mnist/data/\", one_hot=True)"
   ]
  },
  {
   "cell_type": "code",
   "execution_count": 5,
   "metadata": {},
   "outputs": [
    {
     "name": "stdout",
     "output_type": "stream",
     "text": [
      "10000 55000 5000\n",
      "(55000, 10) (55000, 784)\n",
      "(10000, 10) (10000, 784)\n",
      "(5000, 10) (5000, 784)\n"
     ]
    }
   ],
   "source": [
    "# 데이터의 개수\n",
    "print(mnist.test.num_examples, mnist.train.num_examples, mnist.validation.num_examples)\n",
    "\n",
    "# 데이터의 행렬 사이즈\n",
    "print(mnist.train.labels.shape, mnist.train.images.shape)\n",
    "print(mnist.test.labels.shape, mnist.test.images.shape)\n",
    "print(mnist.validation.labels.shape, mnist.validation.images.shape)"
   ]
  },
  {
   "cell_type": "markdown",
   "metadata": {},
   "source": [
    "### 신경망 모델 구성하기\n",
    "* MNIST의 손글씨는 28 X 28로 구성되어 있다.\n",
    "* 784개의 특징(픽셀)로 구성되어 있음.\n",
    "* 레이블은 0~9까지의 10개의 분류"
   ]
  },
  {
   "cell_type": "markdown",
   "metadata": {},
   "source": [
    "### TF 1.x version\n",
    "* 그래프를 구성\n",
    "* 그래프를 실행"
   ]
  },
  {
   "cell_type": "code",
   "execution_count": 7,
   "metadata": {},
   "outputs": [
    {
     "data": {
      "text/plain": [
       "<tf.Tensor 'Placeholder_2:0' shape=(?, 784) dtype=float32>"
      ]
     },
     "execution_count": 7,
     "metadata": {},
     "output_type": "execute_result"
    }
   ],
   "source": [
    "X = tf.placeholder(tf.float32, [None, 784])\n",
    "Y = tf.placeholder(tf.float32, [None, 10])\n",
    "X"
   ]
  },
  {
   "cell_type": "markdown",
   "metadata": {},
   "source": [
    "* tf.Variable(tf.random_normal([784, 256], stddev=0.01)) : 표준편차가 0.01인 정규 분포를 갖는 값.\n",
    "* tf.matmul() : 각 계층으로 들어오는 입력값에 각각의 가중치를 곱한다.\n",
    "* tf.nn.relu() : 활성화 함수로 ReLU를 사용하는 신경망 계층을 만든다."
   ]
  },
  {
   "cell_type": "code",
   "execution_count": 8,
   "metadata": {},
   "outputs": [],
   "source": [
    "# 케라스에서는 w를 임의로 설정해줌. 텐서플로에서는 직접 설정\n",
    "\n",
    "W1 = tf.Variable(tf.random_normal([784, 256], stddev=0.01))\n",
    "L1 = tf.nn.relu(tf.matmul(X, W1))   # matmul : 행렬 곱\n",
    "\n",
    "W2 = tf.Variable(tf.random_normal([256, 256], stddev=0.01))\n",
    "L2 = tf.nn.relu(tf.matmul(L1, W2))\n",
    "\n",
    "W3 = tf.Variable(tf.random_normal([256, 10], stddev=0.01))    # 출력층 : 0~9(10개)\n",
    "model = tf.matmul(L2, W3)"
   ]
  },
  {
   "cell_type": "markdown",
   "metadata": {},
   "source": [
    "### 비용함수, 최적화 함수 지정\n",
    "AdamOptimizer(Adaptive Moment Estimation) :  RMSProp와 Momentum방식을 합친 것."
   ]
  },
  {
   "cell_type": "code",
   "execution_count": 9,
   "metadata": {},
   "outputs": [],
   "source": [
    "# old 버전 : cost = tf.reduce_mean(tf.nn.softmax_cross_entropy_with_logits(logits=model, labels=Y))\n",
    "cost = tf.reduce_mean(tf.nn.softmax_cross_entropy_with_logits_v2(logits=model, labels=Y))   # 예측값과 실제값의 차이로 오차(비용) 구함\n",
    "optimizer = tf.train.AdamOptimizer(0.001).minimize(cost)   # 오차(비용)을 최소화하는 최적화함수. 0.001: running time"
   ]
  },
  {
   "cell_type": "markdown",
   "metadata": {},
   "source": [
    "### 그래프 구성 이후의 실행\n",
    "세션 생성 및 초기화"
   ]
  },
  {
   "cell_type": "code",
   "execution_count": 10,
   "metadata": {},
   "outputs": [],
   "source": [
    "init = tf.global_variables_initializer()\n",
    "sess = tf.Session()\n",
    "sess.run(init)"
   ]
  },
  {
   "cell_type": "markdown",
   "metadata": {},
   "source": [
    "### 배치 사이즈 지정\n",
    "* Mini-batch 크기가 전체 트레이닝 셋 데이터 사이즈인 m과 같다면 이것은 Batch gradient descent방법\n",
    "    * 데이터가 별로 없다면 batch gradient descent를 사용\n",
    "* Mini-batch 크기가 1이라면 Stochastic gradient descent라고 한다.\n",
    "    * 적은 메모리로 동작가능\n",
    "    * 64,128, 256, 512 사이즈 선택"
   ]
  },
  {
   "cell_type": "code",
   "execution_count": 11,
   "metadata": {},
   "outputs": [],
   "source": [
    "batch_size = 100\n",
    "total_batch = int(mnist.train.num_examples / batch_size)"
   ]
  },
  {
   "cell_type": "code",
   "execution_count": 12,
   "metadata": {},
   "outputs": [
    {
     "name": "stdout",
     "output_type": "stream",
     "text": [
      "Epoch :    1 평균 Cost =  0.396\n",
      "Epoch :    2 평균 Cost =  0.143\n",
      "Epoch :    3 평균 Cost =  0.097\n",
      "Epoch :    4 평균 Cost =  0.069\n",
      "Epoch :    5 평균 Cost =  0.052\n",
      "Epoch :    6 평균 Cost =  0.037\n",
      "Epoch :    7 평균 Cost =  0.031\n",
      "Epoch :    8 평균 Cost =  0.024\n",
      "Epoch :    9 평균 Cost =  0.020\n",
      "Epoch :   10 평균 Cost =  0.016\n",
      "Epoch :   11 평균 Cost =  0.015\n",
      "Epoch :   12 평균 Cost =  0.014\n",
      "Epoch :   13 평균 Cost =  0.015\n",
      "Epoch :   14 평균 Cost =  0.011\n",
      "Epoch :   15 평균 Cost =  0.011\n",
      "최적화 완료!\n"
     ]
    }
   ],
   "source": [
    "# model.fit\n",
    "\n",
    "# MNIST 데이터 전체를 학습하는 일을 15번 반복함.\n",
    "# 학습 데이터 전체를 한 바퀴를 도는 일을 에포크(epoch)라 한다.\n",
    "\n",
    "for epoch in range(15):\n",
    "    total_cost = 0\n",
    "    \n",
    "    for i in range(total_batch):\n",
    "        # 배치 사이즈만큼 데이터 가져오기\n",
    "        batch_xs, batch_ys = mnist.train.next_batch(batch_size)\n",
    "        \n",
    "        # 입력값 : batch_xs, 출력값 : batch_ys\n",
    "        # 최적화를 수행 후, 손실을 구한다.\n",
    "        _, cost_val = sess.run([optimizer, cost],\n",
    "        feed_dict={X:batch_xs, Y:batch_ys})\n",
    "        \n",
    "        # 총 손실 계산\n",
    "        total_cost = total_cost + cost_val\n",
    "        \n",
    "    print(\"Epoch : %4d\" %(epoch + 1),\n",
    "        '평균 Cost = ', \"{:.3f}\".format(total_cost/total_batch))\n",
    "    \n",
    "print(\"최적화 완료!\")"
   ]
  },
  {
   "cell_type": "code",
   "execution_count": null,
   "metadata": {},
   "outputs": [],
   "source": []
  }
 ],
 "metadata": {
  "kernelspec": {
   "display_name": "Python 3",
   "language": "python",
   "name": "python3"
  },
  "language_info": {
   "codemirror_mode": {
    "name": "ipython",
    "version": 3
   },
   "file_extension": ".py",
   "mimetype": "text/x-python",
   "name": "python",
   "nbconvert_exporter": "python",
   "pygments_lexer": "ipython3",
   "version": "3.7.1"
  }
 },
 "nbformat": 4,
 "nbformat_minor": 4
}
