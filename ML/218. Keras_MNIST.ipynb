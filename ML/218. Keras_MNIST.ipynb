{
  "nbformat": 4,
  "nbformat_minor": 0,
  "metadata": {
    "colab": {
      "name": "Untitled2.ipynb",
      "provenance": []
    },
    "kernelspec": {
      "name": "python3",
      "display_name": "Python 3"
    },
    "accelerator": "GPU"
  },
  "cells": [
    {
      "cell_type": "code",
      "metadata": {
        "id": "BR5g6cOZzoFd",
        "colab_type": "code",
        "outputId": "a4809805-e214-4482-d710-9c95edbb2331",
        "colab": {
          "base_uri": "https://localhost:8080/",
          "height": 35
        }
      },
      "source": [
        "%tensorflow_version 1.x"
      ],
      "execution_count": 2,
      "outputs": [
        {
          "output_type": "stream",
          "text": [
            "TensorFlow 1.x selected.\n"
          ],
          "name": "stdout"
        }
      ]
    },
    {
      "cell_type": "code",
      "metadata": {
        "id": "e4ounRflzqMv",
        "colab_type": "code",
        "outputId": "0ffc57b8-d27a-46a2-8757-90ec8fb58221",
        "colab": {
          "base_uri": "https://localhost:8080/",
          "height": 35
        }
      },
      "source": [
        "from keras.datasets import mnist\n",
        "from keras.utils import np_utils"
      ],
      "execution_count": 3,
      "outputs": [
        {
          "output_type": "stream",
          "text": [
            "Using TensorFlow backend.\n"
          ],
          "name": "stderr"
        }
      ]
    },
    {
      "cell_type": "code",
      "metadata": {
        "id": "g7tVxPfdzt8t",
        "colab_type": "code",
        "colab": {}
      },
      "source": [
        "import numpy\n",
        "import sys\n",
        "import tensorflow as tf"
      ],
      "execution_count": 0,
      "outputs": []
    },
    {
      "cell_type": "code",
      "metadata": {
        "id": "GjI8ZGWjzvuo",
        "colab_type": "code",
        "colab": {}
      },
      "source": [
        "seed = 0\n",
        "numpy.random.seed(seed)\n",
        "tf.set_random_seed(seed)"
      ],
      "execution_count": 0,
      "outputs": []
    },
    {
      "cell_type": "code",
      "metadata": {
        "id": "M4tR4y-6zwrM",
        "colab_type": "code",
        "outputId": "adcc01cb-7948-4c46-e289-43c4b47e51bc",
        "colab": {
          "base_uri": "https://localhost:8080/",
          "height": 125
        }
      },
      "source": [
        "(X_train, y_train), (X_test, y_test) = mnist.load_data()\n",
        "print(X_train.shape)\n",
        "print(y_train.shape)\n",
        "print(X_test.shape)\n",
        "print(y_test.shape)"
      ],
      "execution_count": 6,
      "outputs": [
        {
          "output_type": "stream",
          "text": [
            "Downloading data from https://s3.amazonaws.com/img-datasets/mnist.npz\n",
            "11493376/11490434 [==============================] - 11s 1us/step\n",
            "(60000, 28, 28)\n",
            "(60000,)\n",
            "(10000, 28, 28)\n",
            "(10000,)\n"
          ],
          "name": "stdout"
        }
      ]
    },
    {
      "cell_type": "code",
      "metadata": {
        "id": "X7fN2qVZzx7v",
        "colab_type": "code",
        "colab": {}
      },
      "source": [
        "import matplotlib.pyplot as plt"
      ],
      "execution_count": 0,
      "outputs": []
    },
    {
      "cell_type": "code",
      "metadata": {
        "id": "k1bXJ3JjzzVy",
        "colab_type": "code",
        "outputId": "eb03c436-8e4e-4139-972c-e32de22c50b7",
        "colab": {
          "base_uri": "https://localhost:8080/",
          "height": 703
        }
      },
      "source": [
        "figure,axes = plt.subplots(nrows=3, ncols=5)\n",
        "figure.set_size_inches(18,12)\n",
        "\n",
        "plt.gray()\n",
        "print(\"label={}\".format(y_train[0:15]))\n",
        "\n",
        "col = 0\n",
        "for row in range(0,3):\n",
        "    col = row * 5\n",
        "    axes[row][0].matshow(X_train[col])\n",
        "    axes[row][1].matshow(X_train[col+1])\n",
        "    axes[row][2].matshow(X_train[col+2])\n",
        "    axes[row][3].matshow(X_train[col+3])\n",
        "    axes[row][4].matshow(X_train[col+4])"
      ],
      "execution_count": 8,
      "outputs": [
        {
          "output_type": "stream",
          "text": [
            "label=[5 0 4 1 9 2 1 3 1 4 3 5 3 6 1]\n"
          ],
          "name": "stdout"
        },
        {
          "output_type": "display_data",
          "data": {
            "image/png": "[encoded data removed]",
            "text/plain": [
              "<Figure size 1296x864 with 15 Axes>"
            ]
          },
          "metadata": {
            "tags": [],
            "needs_background": "light"
          }
        }
      ]
    },
    {
      "cell_type": "code",
      "metadata": {
        "id": "FrT6NVrTz0kA",
        "colab_type": "code",
        "colab": {}
      },
      "source": [
        "X_train = X_train.reshape(X_train.shape[0],784)   # 60000, 28, 28 -> 60000, 784로 변경\n",
        "# 데이터 값의 범위 0~255 -> 0~1 \n",
        "X_train.astype('float64')  \n",
        "X_train = X_train/255"
      ],
      "execution_count": 0,
      "outputs": []
    },
    {
      "cell_type": "code",
      "metadata": {
        "id": "mYqNJuXaz2T4",
        "colab_type": "code",
        "colab": {}
      },
      "source": [
        "import numpy as np"
      ],
      "execution_count": 0,
      "outputs": []
    },
    {
      "cell_type": "code",
      "metadata": {
        "id": "_YM_P0mZz3s_",
        "colab_type": "code",
        "colab": {}
      },
      "source": [
        "# 테스트 데이터 전처리\n",
        "X_test = X_test.reshape(X_test.shape[0],784)\n",
        "X_test.astype('float64')\n",
        "X_test = X_test/255"
      ],
      "execution_count": 0,
      "outputs": []
    },
    {
      "cell_type": "code",
      "metadata": {
        "id": "4_4VV76tz4_1",
        "colab_type": "code",
        "colab": {}
      },
      "source": [
        "# OneHotEncoding - 10진수의 값을 0, 1의 값을 갖는 벡터로 표현\n",
        "Y_train = np_utils.to_categorical(y_train, 10)\n",
        "Y_test = np_utils.to_categorical(y_test, 10)"
      ],
      "execution_count": 0,
      "outputs": []
    },
    {
      "cell_type": "code",
      "metadata": {
        "id": "u2S-V7twz6Wt",
        "colab_type": "code",
        "colab": {}
      },
      "source": [
        "from keras.models import Sequential\n",
        "from keras.layers import Dense"
      ],
      "execution_count": 0,
      "outputs": []
    },
    {
      "cell_type": "markdown",
      "metadata": {
        "id": "cV9j-aI50hcF",
        "colab_type": "text"
      },
      "source": [
        "**모델 생성**\n",
        "* input_dim = 784\n",
        "* 첫번째 은닉층 512개의 노드, 활성화함수는 relu\n",
        "* 두번째 은닉층 120개의 노드, 활성화함수는 relu\n",
        "* 세번재 은닉층 10개의 노드, 활성화함수는 softmax"
      ]
    },
    {
      "cell_type": "code",
      "metadata": {
        "id": "0f4iSeGJz76h",
        "colab_type": "code",
        "colab": {
          "base_uri": "https://localhost:8080/",
          "height": 91
        },
        "outputId": "d56662da-ceb3-4995-dcf5-0096ceaa33d6"
      },
      "source": [
        "m = Sequential()\n",
        "m.add(Dense(512, input_dim=784, activation='relu'))\n",
        "m.add(Dense(120, activation='relu'))\n",
        "m.add(Dense(10, activation='softmax'))"
      ],
      "execution_count": 14,
      "outputs": [
        {
          "output_type": "stream",
          "text": [
            "WARNING:tensorflow:From /tensorflow-1.15.2/python3.6/tensorflow_core/python/ops/resource_variable_ops.py:1630: calling BaseResourceVariable.__init__ (from tensorflow.python.ops.resource_variable_ops) with constraint is deprecated and will be removed in a future version.\n",
            "Instructions for updating:\n",
            "If using Keras pass *_constraint arguments to layers.\n"
          ],
          "name": "stdout"
        }
      ]
    },
    {
      "cell_type": "code",
      "metadata": {
        "id": "5Jz-Cyzy2Asg",
        "colab_type": "code",
        "colab": {}
      },
      "source": [
        "m.compile(loss='categorical_crossentropy', optimizer='adam', metrics=['accuracy'])"
      ],
      "execution_count": 0,
      "outputs": []
    },
    {
      "cell_type": "code",
      "metadata": {
        "id": "1F2QZbaI2JHI",
        "colab_type": "code",
        "colab": {
          "base_uri": "https://localhost:8080/",
          "height": 1000
        },
        "outputId": "eb1544f1-b50b-43d7-9def-6cb039b45c2a"
      },
      "source": [
        "history = m.fit(X_train, Y_train, validation_data=(X_test, Y_test),\n",
        "                epochs=30,\n",
        "                batch_size=200,\n",
        "                verbose=1)"
      ],
      "execution_count": 27,
      "outputs": [
        {
          "output_type": "stream",
          "text": [
            "WARNING:tensorflow:From /usr/local/lib/python3.6/dist-packages/keras/backend/tensorflow_backend.py:422: The name tf.global_variables is deprecated. Please use tf.compat.v1.global_variables instead.\n",
            "\n",
            "Train on 60000 samples, validate on 10000 samples\n",
            "Epoch 1/30\n",
            "60000/60000 [==============================] - 6s 100us/step - loss: 0.2738 - accuracy: 0.9220 - val_loss: 0.1316 - val_accuracy: 0.9617\n",
            "Epoch 2/30\n",
            "60000/60000 [==============================] - 6s 95us/step - loss: 0.0983 - accuracy: 0.9705 - val_loss: 0.0912 - val_accuracy: 0.9713\n",
            "Epoch 3/30\n",
            "60000/60000 [==============================] - 6s 100us/step - loss: 0.0641 - accuracy: 0.9805 - val_loss: 0.0795 - val_accuracy: 0.9756\n",
            "Epoch 4/30\n",
            "60000/60000 [==============================] - 6s 95us/step - loss: 0.0451 - accuracy: 0.9860 - val_loss: 0.0902 - val_accuracy: 0.9718\n",
            "Epoch 5/30\n",
            "60000/60000 [==============================] - 6s 95us/step - loss: 0.0314 - accuracy: 0.9907 - val_loss: 0.0736 - val_accuracy: 0.9781\n",
            "Epoch 6/30\n",
            "60000/60000 [==============================] - 6s 94us/step - loss: 0.0243 - accuracy: 0.9929 - val_loss: 0.0743 - val_accuracy: 0.9783\n",
            "Epoch 7/30\n",
            "60000/60000 [==============================] - 6s 93us/step - loss: 0.0167 - accuracy: 0.9951 - val_loss: 0.0672 - val_accuracy: 0.9802\n",
            "Epoch 8/30\n",
            "60000/60000 [==============================] - 6s 98us/step - loss: 0.0129 - accuracy: 0.9962 - val_loss: 0.0676 - val_accuracy: 0.9797\n",
            "Epoch 9/30\n",
            "60000/60000 [==============================] - 6s 93us/step - loss: 0.0130 - accuracy: 0.9958 - val_loss: 0.0797 - val_accuracy: 0.9772\n",
            "Epoch 10/30\n",
            "60000/60000 [==============================] - 6s 93us/step - loss: 0.0089 - accuracy: 0.9969 - val_loss: 0.0811 - val_accuracy: 0.9797\n",
            "Epoch 11/30\n",
            "60000/60000 [==============================] - 6s 95us/step - loss: 0.0108 - accuracy: 0.9964 - val_loss: 0.0722 - val_accuracy: 0.9809\n",
            "Epoch 12/30\n",
            "60000/60000 [==============================] - 6s 95us/step - loss: 0.0090 - accuracy: 0.9973 - val_loss: 0.0983 - val_accuracy: 0.9746\n",
            "Epoch 13/30\n",
            "60000/60000 [==============================] - 6s 94us/step - loss: 0.0079 - accuracy: 0.9975 - val_loss: 0.0973 - val_accuracy: 0.9769\n",
            "Epoch 14/30\n",
            "60000/60000 [==============================] - 6s 95us/step - loss: 0.0088 - accuracy: 0.9972 - val_loss: 0.0896 - val_accuracy: 0.9799\n",
            "Epoch 15/30\n",
            "60000/60000 [==============================] - 6s 97us/step - loss: 0.0066 - accuracy: 0.9979 - val_loss: 0.0813 - val_accuracy: 0.9822\n",
            "Epoch 16/30\n",
            "60000/60000 [==============================] - 5s 89us/step - loss: 0.0083 - accuracy: 0.9973 - val_loss: 0.0931 - val_accuracy: 0.9782\n",
            "Epoch 17/30\n",
            "60000/60000 [==============================] - 5s 91us/step - loss: 0.0078 - accuracy: 0.9975 - val_loss: 0.1043 - val_accuracy: 0.9772\n",
            "Epoch 18/30\n",
            "60000/60000 [==============================] - 6s 94us/step - loss: 0.0056 - accuracy: 0.9984 - val_loss: 0.0940 - val_accuracy: 0.9797\n",
            "Epoch 19/30\n",
            "60000/60000 [==============================] - 6s 96us/step - loss: 0.0052 - accuracy: 0.9982 - val_loss: 0.0966 - val_accuracy: 0.9800\n",
            "Epoch 20/30\n",
            "60000/60000 [==============================] - 6s 92us/step - loss: 0.0099 - accuracy: 0.9968 - val_loss: 0.1073 - val_accuracy: 0.9798\n",
            "Epoch 21/30\n",
            "60000/60000 [==============================] - 6s 96us/step - loss: 0.0074 - accuracy: 0.9977 - val_loss: 0.0840 - val_accuracy: 0.9827\n",
            "Epoch 22/30\n",
            "60000/60000 [==============================] - 6s 97us/step - loss: 0.0013 - accuracy: 0.9997 - val_loss: 0.0775 - val_accuracy: 0.9846\n",
            "Epoch 23/30\n",
            "60000/60000 [==============================] - 6s 96us/step - loss: 5.3619e-04 - accuracy: 0.9999 - val_loss: 0.0824 - val_accuracy: 0.9839\n",
            "Epoch 24/30\n",
            "60000/60000 [==============================] - 6s 94us/step - loss: 0.0032 - accuracy: 0.9993 - val_loss: 0.1116 - val_accuracy: 0.9770\n",
            "Epoch 25/30\n",
            "60000/60000 [==============================] - 6s 93us/step - loss: 0.0111 - accuracy: 0.9967 - val_loss: 0.0914 - val_accuracy: 0.9812\n",
            "Epoch 26/30\n",
            "60000/60000 [==============================] - 6s 93us/step - loss: 0.0065 - accuracy: 0.9980 - val_loss: 0.0907 - val_accuracy: 0.9814\n",
            "Epoch 27/30\n",
            "60000/60000 [==============================] - 6s 95us/step - loss: 0.0061 - accuracy: 0.9979 - val_loss: 0.1032 - val_accuracy: 0.9806\n",
            "Epoch 28/30\n",
            "60000/60000 [==============================] - 6s 94us/step - loss: 0.0064 - accuracy: 0.9978 - val_loss: 0.0952 - val_accuracy: 0.9818\n",
            "Epoch 29/30\n",
            "60000/60000 [==============================] - 6s 96us/step - loss: 0.0032 - accuracy: 0.9990 - val_loss: 0.0991 - val_accuracy: 0.9810\n",
            "Epoch 30/30\n",
            "60000/60000 [==============================] - 6s 92us/step - loss: 0.0013 - accuracy: 0.9997 - val_loss: 0.0936 - val_accuracy: 0.9846\n"
          ],
          "name": "stdout"
        }
      ]
    },
    {
      "cell_type": "markdown",
      "metadata": {
        "id": "BTXAvpi730YR",
        "colab_type": "text"
      },
      "source": [
        "**예측**"
      ]
    },
    {
      "cell_type": "code",
      "metadata": {
        "id": "Bm7EdSlo2Sy3",
        "colab_type": "code",
        "colab": {
          "base_uri": "https://localhost:8080/",
          "height": 71
        },
        "outputId": "fc6b89ce-6a59-465b-f44e-c6ee82fb4f8b"
      },
      "source": [
        "pred = m.predict(X_test)\n",
        "pred.shape"
      ],
      "execution_count": 16,
      "outputs": [
        {
          "output_type": "stream",
          "text": [
            "WARNING:tensorflow:From /usr/local/lib/python3.6/dist-packages/keras/backend/tensorflow_backend.py:422: The name tf.global_variables is deprecated. Please use tf.compat.v1.global_variables instead.\n",
            "\n"
          ],
          "name": "stdout"
        },
        {
          "output_type": "execute_result",
          "data": {
            "text/plain": [
              "(10000, 10)"
            ]
          },
          "metadata": {
            "tags": []
          },
          "execution_count": 16
        }
      ]
    },
    {
      "cell_type": "code",
      "metadata": {
        "id": "tff5ivap3Jx5",
        "colab_type": "code",
        "colab": {
          "base_uri": "https://localhost:8080/",
          "height": 71
        },
        "outputId": "4f26239f-8d1c-44e7-b317-163719f4f59c"
      },
      "source": [
        "pred[0]"
      ],
      "execution_count": 17,
      "outputs": [
        {
          "output_type": "execute_result",
          "data": {
            "text/plain": [
              "array([0.10977218, 0.08261932, 0.10562111, 0.08080696, 0.09061593,\n",
              "       0.09047072, 0.12147234, 0.1097765 , 0.11366057, 0.09518434],\n",
              "      dtype=float32)"
            ]
          },
          "metadata": {
            "tags": []
          },
          "execution_count": 17
        }
      ]
    },
    {
      "cell_type": "code",
      "metadata": {
        "id": "bAnc1L9H3Osn",
        "colab_type": "code",
        "colab": {
          "base_uri": "https://localhost:8080/",
          "height": 35
        },
        "outputId": "0d3765eb-8982-4bfb-b2c8-f3a450d2885b"
      },
      "source": [
        "np.argmax(pred[0])   # argmax : 가장 큰 값의 위치를 알려줌\n",
        "# 6번째 값이 제일 크므로 6을 예측"
      ],
      "execution_count": 18,
      "outputs": [
        {
          "output_type": "execute_result",
          "data": {
            "text/plain": [
              "6"
            ]
          },
          "metadata": {
            "tags": []
          },
          "execution_count": 18
        }
      ]
    },
    {
      "cell_type": "markdown",
      "metadata": {
        "id": "bVL7X5mW36ta",
        "colab_type": "text"
      },
      "source": [
        "모델의 평가결과\n",
        "* 첫번째는 cost\n",
        "* 두번째는 정확도"
      ]
    },
    {
      "cell_type": "code",
      "metadata": {
        "id": "doP5xSQ-3X5Q",
        "colab_type": "code",
        "colab": {
          "base_uri": "https://localhost:8080/",
          "height": 53
        },
        "outputId": "c77183c4-01da-4e19-d634-8646d1f09d6a"
      },
      "source": [
        "m.evaluate(X_test, Y_test)[1]   # 정확도"
      ],
      "execution_count": 19,
      "outputs": [
        {
          "output_type": "stream",
          "text": [
            "10000/10000 [==============================] - 1s 78us/step\n"
          ],
          "name": "stdout"
        },
        {
          "output_type": "execute_result",
          "data": {
            "text/plain": [
              "0.10270000249147415"
            ]
          },
          "metadata": {
            "tags": []
          },
          "execution_count": 19
        }
      ]
    },
    {
      "cell_type": "markdown",
      "metadata": {
        "id": "x0aWZaei4JlQ",
        "colab_type": "text"
      },
      "source": [
        "epoch, batch_size, 은닉층의 수를 조정해가면서 결과 확인해보기\n",
        "* epoch 수 늘리기\n",
        "* 배치사이즈는 적게하는 것이 정확도가 올라감\n",
        "* 은닉층은\n",
        "* 은닉층의 노드수를 조정해가면서 결과확인"
      ]
    },
    {
      "cell_type": "code",
      "metadata": {
        "id": "otewpfJ5DWNM",
        "colab_type": "code",
        "colab": {
          "base_uri": "https://localhost:8080/",
          "height": 1000
        },
        "outputId": "f8083518-cc43-45e5-de71-7fff00c16ba6"
      },
      "source": [
        "%%time\n",
        "\n",
        "m = Sequential()\n",
        "m.add(Dense(512, input_dim=784, activation='relu'))\n",
        "m.add(Dense(120, activation='relu'))\n",
        "m.add(Dense(10, activation='softmax'))\n",
        "\n",
        "m.compile(loss='categorical_crossentropy', optimizer='adam', metrics=['accuracy'])\n",
        "\n",
        "history = m.fit(X_train, Y_train, validation_data=(X_test, Y_test),\n",
        "                epochs=50,\n",
        "                batch_size=200,\n",
        "                verbose=1)"
      ],
      "execution_count": 20,
      "outputs": [
        {
          "output_type": "stream",
          "text": [
            "Train on 60000 samples, validate on 10000 samples\n",
            "Epoch 1/50\n",
            "60000/60000 [==============================] - 2s 28us/step - loss: 0.2737 - accuracy: 0.9213 - val_loss: 0.1325 - val_accuracy: 0.9626\n",
            "Epoch 2/50\n",
            "60000/60000 [==============================] - 2s 26us/step - loss: 0.0962 - accuracy: 0.9708 - val_loss: 0.0828 - val_accuracy: 0.9732\n",
            "Epoch 3/50\n",
            "60000/60000 [==============================] - 1s 25us/step - loss: 0.0625 - accuracy: 0.9809 - val_loss: 0.0748 - val_accuracy: 0.9775\n",
            "Epoch 4/50\n",
            "60000/60000 [==============================] - 2s 25us/step - loss: 0.0427 - accuracy: 0.9867 - val_loss: 0.0683 - val_accuracy: 0.9788\n",
            "Epoch 5/50\n",
            "60000/60000 [==============================] - 2s 25us/step - loss: 0.0303 - accuracy: 0.9905 - val_loss: 0.0640 - val_accuracy: 0.9793\n",
            "Epoch 6/50\n",
            "60000/60000 [==============================] - 1s 25us/step - loss: 0.0221 - accuracy: 0.9937 - val_loss: 0.0626 - val_accuracy: 0.9817\n",
            "Epoch 7/50\n",
            "60000/60000 [==============================] - 1s 25us/step - loss: 0.0169 - accuracy: 0.9950 - val_loss: 0.0660 - val_accuracy: 0.9807\n",
            "Epoch 8/50\n",
            "60000/60000 [==============================] - 1s 25us/step - loss: 0.0127 - accuracy: 0.9961 - val_loss: 0.0671 - val_accuracy: 0.9811\n",
            "Epoch 9/50\n",
            "60000/60000 [==============================] - 2s 25us/step - loss: 0.0117 - accuracy: 0.9963 - val_loss: 0.0712 - val_accuracy: 0.9812\n",
            "Epoch 10/50\n",
            "60000/60000 [==============================] - 1s 24us/step - loss: 0.0134 - accuracy: 0.9955 - val_loss: 0.0754 - val_accuracy: 0.9805\n",
            "Epoch 11/50\n",
            "60000/60000 [==============================] - 1s 25us/step - loss: 0.0085 - accuracy: 0.9974 - val_loss: 0.0697 - val_accuracy: 0.9811\n",
            "Epoch 12/50\n",
            "60000/60000 [==============================] - 1s 25us/step - loss: 0.0066 - accuracy: 0.9981 - val_loss: 0.0762 - val_accuracy: 0.9806\n",
            "Epoch 13/50\n",
            "60000/60000 [==============================] - 1s 25us/step - loss: 0.0096 - accuracy: 0.9970 - val_loss: 0.0778 - val_accuracy: 0.9809\n",
            "Epoch 14/50\n",
            "60000/60000 [==============================] - 1s 25us/step - loss: 0.0097 - accuracy: 0.9968 - val_loss: 0.0796 - val_accuracy: 0.9807\n",
            "Epoch 15/50\n",
            "60000/60000 [==============================] - 1s 25us/step - loss: 0.0057 - accuracy: 0.9982 - val_loss: 0.0872 - val_accuracy: 0.9812\n",
            "Epoch 16/50\n",
            "60000/60000 [==============================] - 2s 26us/step - loss: 0.0124 - accuracy: 0.9959 - val_loss: 0.0841 - val_accuracy: 0.9800\n",
            "Epoch 17/50\n",
            "60000/60000 [==============================] - 1s 24us/step - loss: 0.0057 - accuracy: 0.9981 - val_loss: 0.0760 - val_accuracy: 0.9825\n",
            "Epoch 18/50\n",
            "60000/60000 [==============================] - 2s 25us/step - loss: 0.0037 - accuracy: 0.9991 - val_loss: 0.0815 - val_accuracy: 0.9818\n",
            "Epoch 19/50\n",
            "60000/60000 [==============================] - 1s 25us/step - loss: 0.0037 - accuracy: 0.9987 - val_loss: 0.0839 - val_accuracy: 0.9821\n",
            "Epoch 20/50\n",
            "60000/60000 [==============================] - 2s 25us/step - loss: 0.0092 - accuracy: 0.9969 - val_loss: 0.0932 - val_accuracy: 0.9818\n",
            "Epoch 21/50\n",
            "60000/60000 [==============================] - 2s 26us/step - loss: 0.0088 - accuracy: 0.9969 - val_loss: 0.0844 - val_accuracy: 0.9818\n",
            "Epoch 22/50\n",
            "60000/60000 [==============================] - 2s 27us/step - loss: 0.0042 - accuracy: 0.9987 - val_loss: 0.0854 - val_accuracy: 0.9831\n",
            "Epoch 23/50\n",
            "60000/60000 [==============================] - 2s 27us/step - loss: 0.0042 - accuracy: 0.9985 - val_loss: 0.0989 - val_accuracy: 0.9817\n",
            "Epoch 24/50\n",
            "60000/60000 [==============================] - 2s 26us/step - loss: 0.0043 - accuracy: 0.9986 - val_loss: 0.0950 - val_accuracy: 0.9801\n",
            "Epoch 25/50\n",
            "60000/60000 [==============================] - 2s 26us/step - loss: 0.0089 - accuracy: 0.9972 - val_loss: 0.0895 - val_accuracy: 0.9809\n",
            "Epoch 26/50\n",
            "60000/60000 [==============================] - 2s 26us/step - loss: 0.0039 - accuracy: 0.9988 - val_loss: 0.0877 - val_accuracy: 0.9826\n",
            "Epoch 27/50\n",
            "60000/60000 [==============================] - 2s 26us/step - loss: 0.0018 - accuracy: 0.9995 - val_loss: 0.0912 - val_accuracy: 0.9837\n",
            "Epoch 28/50\n",
            "60000/60000 [==============================] - 1s 25us/step - loss: 0.0049 - accuracy: 0.9984 - val_loss: 0.0982 - val_accuracy: 0.9822\n",
            "Epoch 29/50\n",
            "60000/60000 [==============================] - 2s 25us/step - loss: 0.0060 - accuracy: 0.9979 - val_loss: 0.0971 - val_accuracy: 0.9807\n",
            "Epoch 30/50\n",
            "60000/60000 [==============================] - 1s 25us/step - loss: 0.0066 - accuracy: 0.9980 - val_loss: 0.1103 - val_accuracy: 0.9808\n",
            "Epoch 31/50\n",
            "60000/60000 [==============================] - 2s 25us/step - loss: 0.0056 - accuracy: 0.9981 - val_loss: 0.0999 - val_accuracy: 0.9826\n",
            "Epoch 32/50\n",
            "60000/60000 [==============================] - 2s 25us/step - loss: 0.0012 - accuracy: 0.9996 - val_loss: 0.0924 - val_accuracy: 0.9834\n",
            "Epoch 33/50\n",
            "60000/60000 [==============================] - 2s 26us/step - loss: 4.6936e-04 - accuracy: 0.9999 - val_loss: 0.0931 - val_accuracy: 0.9846\n",
            "Epoch 34/50\n",
            "60000/60000 [==============================] - 2s 25us/step - loss: 1.9242e-04 - accuracy: 0.9999 - val_loss: 0.0891 - val_accuracy: 0.9848\n",
            "Epoch 35/50\n",
            "60000/60000 [==============================] - 1s 25us/step - loss: 4.1452e-05 - accuracy: 1.0000 - val_loss: 0.0891 - val_accuracy: 0.9851\n",
            "Epoch 36/50\n",
            "60000/60000 [==============================] - 2s 25us/step - loss: 2.3003e-05 - accuracy: 1.0000 - val_loss: 0.0896 - val_accuracy: 0.9852\n",
            "Epoch 37/50\n",
            "60000/60000 [==============================] - 1s 25us/step - loss: 1.8263e-05 - accuracy: 1.0000 - val_loss: 0.0901 - val_accuracy: 0.9854\n",
            "Epoch 38/50\n",
            "60000/60000 [==============================] - 1s 25us/step - loss: 1.5245e-05 - accuracy: 1.0000 - val_loss: 0.0905 - val_accuracy: 0.9855\n",
            "Epoch 39/50\n",
            "60000/60000 [==============================] - 1s 25us/step - loss: 1.2923e-05 - accuracy: 1.0000 - val_loss: 0.0910 - val_accuracy: 0.9855\n",
            "Epoch 40/50\n",
            "60000/60000 [==============================] - 2s 26us/step - loss: 1.1084e-05 - accuracy: 1.0000 - val_loss: 0.0916 - val_accuracy: 0.9858\n",
            "Epoch 41/50\n",
            "60000/60000 [==============================] - 2s 25us/step - loss: 9.5849e-06 - accuracy: 1.0000 - val_loss: 0.0921 - val_accuracy: 0.9857\n",
            "Epoch 42/50\n",
            "60000/60000 [==============================] - 1s 25us/step - loss: 8.2595e-06 - accuracy: 1.0000 - val_loss: 0.0929 - val_accuracy: 0.9857\n",
            "Epoch 43/50\n",
            "60000/60000 [==============================] - 2s 25us/step - loss: 7.2238e-06 - accuracy: 1.0000 - val_loss: 0.0934 - val_accuracy: 0.9858\n",
            "Epoch 44/50\n",
            "60000/60000 [==============================] - 2s 25us/step - loss: 6.2558e-06 - accuracy: 1.0000 - val_loss: 0.0939 - val_accuracy: 0.9858\n",
            "Epoch 45/50\n",
            "60000/60000 [==============================] - 1s 25us/step - loss: 5.4530e-06 - accuracy: 1.0000 - val_loss: 0.0944 - val_accuracy: 0.9857\n",
            "Epoch 46/50\n",
            "60000/60000 [==============================] - 2s 25us/step - loss: 4.7302e-06 - accuracy: 1.0000 - val_loss: 0.0952 - val_accuracy: 0.9859\n",
            "Epoch 47/50\n",
            "60000/60000 [==============================] - 1s 25us/step - loss: 4.1338e-06 - accuracy: 1.0000 - val_loss: 0.0957 - val_accuracy: 0.9859\n",
            "Epoch 48/50\n",
            "60000/60000 [==============================] - 1s 25us/step - loss: 3.6151e-06 - accuracy: 1.0000 - val_loss: 0.0963 - val_accuracy: 0.9860\n",
            "Epoch 49/50\n",
            "60000/60000 [==============================] - 2s 25us/step - loss: 3.1499e-06 - accuracy: 1.0000 - val_loss: 0.0970 - val_accuracy: 0.9861\n",
            "Epoch 50/50\n",
            "60000/60000 [==============================] - 2s 25us/step - loss: 2.7338e-06 - accuracy: 1.0000 - val_loss: 0.0977 - val_accuracy: 0.9862\n",
            "CPU times: user 1min 28s, sys: 10.8 s, total: 1min 39s\n",
            "Wall time: 1min 16s\n"
          ],
          "name": "stdout"
        }
      ]
    },
    {
      "cell_type": "code",
      "metadata": {
        "id": "aQRaTwlI5ivH",
        "colab_type": "code",
        "colab": {
          "base_uri": "https://localhost:8080/",
          "height": 53
        },
        "outputId": "61dc1d0b-03a6-4204-d33a-727c8d5e0c84"
      },
      "source": [
        "m.evaluate(X_test, Y_test)[1]"
      ],
      "execution_count": 21,
      "outputs": [
        {
          "output_type": "stream",
          "text": [
            "10000/10000 [==============================] - 1s 65us/step\n"
          ],
          "name": "stdout"
        },
        {
          "output_type": "execute_result",
          "data": {
            "text/plain": [
              "0.9861999750137329"
            ]
          },
          "metadata": {
            "tags": []
          },
          "execution_count": 21
        }
      ]
    },
    {
      "cell_type": "code",
      "metadata": {
        "id": "_ZqP7xfC7tld",
        "colab_type": "code",
        "colab": {
          "base_uri": "https://localhost:8080/",
          "height": 1000
        },
        "outputId": "24c3d0be-5a1d-49b8-a15d-c016b7016560"
      },
      "source": [
        "%%time\n",
        "\n",
        "m = Sequential()\n",
        "m.add(Dense(512, input_dim=784, activation='relu'))\n",
        "m.add(Dense(120, activation='relu'))\n",
        "m.add(Dense(10, activation='softmax'))\n",
        "\n",
        "m.compile(loss='categorical_crossentropy', optimizer='adam', metrics=['accuracy'])\n",
        "\n",
        "history = m.fit(X_train, Y_train, validation_data=(X_test, Y_test),\n",
        "                epochs=100,\n",
        "                batch_size=200,\n",
        "                verbose=1)"
      ],
      "execution_count": 22,
      "outputs": [
        {
          "output_type": "stream",
          "text": [
            "Train on 60000 samples, validate on 10000 samples\n",
            "Epoch 1/100\n",
            "60000/60000 [==============================] - 2s 27us/step - loss: 0.2644 - accuracy: 0.9251 - val_loss: 0.1228 - val_accuracy: 0.9624\n",
            "Epoch 2/100\n",
            "60000/60000 [==============================] - 1s 24us/step - loss: 0.0956 - accuracy: 0.9714 - val_loss: 0.0823 - val_accuracy: 0.9742\n",
            "Epoch 3/100\n",
            "60000/60000 [==============================] - 1s 25us/step - loss: 0.0614 - accuracy: 0.9818 - val_loss: 0.0773 - val_accuracy: 0.9757\n",
            "Epoch 4/100\n",
            "60000/60000 [==============================] - 1s 24us/step - loss: 0.0430 - accuracy: 0.9868 - val_loss: 0.0678 - val_accuracy: 0.9792\n",
            "Epoch 5/100\n",
            "60000/60000 [==============================] - 1s 24us/step - loss: 0.0305 - accuracy: 0.9908 - val_loss: 0.0697 - val_accuracy: 0.9794\n",
            "Epoch 6/100\n",
            "60000/60000 [==============================] - 1s 24us/step - loss: 0.0220 - accuracy: 0.9933 - val_loss: 0.0662 - val_accuracy: 0.9801\n",
            "Epoch 7/100\n",
            "60000/60000 [==============================] - 1s 24us/step - loss: 0.0175 - accuracy: 0.9947 - val_loss: 0.0730 - val_accuracy: 0.9795\n",
            "Epoch 8/100\n",
            "60000/60000 [==============================] - 1s 24us/step - loss: 0.0131 - accuracy: 0.9962 - val_loss: 0.0773 - val_accuracy: 0.9790\n",
            "Epoch 9/100\n",
            "60000/60000 [==============================] - 1s 24us/step - loss: 0.0126 - accuracy: 0.9963 - val_loss: 0.0796 - val_accuracy: 0.9778\n",
            "Epoch 10/100\n",
            "60000/60000 [==============================] - 1s 25us/step - loss: 0.0113 - accuracy: 0.9960 - val_loss: 0.0717 - val_accuracy: 0.9803\n",
            "Epoch 11/100\n",
            "60000/60000 [==============================] - 1s 24us/step - loss: 0.0103 - accuracy: 0.9966 - val_loss: 0.0797 - val_accuracy: 0.9790\n",
            "Epoch 12/100\n",
            "60000/60000 [==============================] - 1s 24us/step - loss: 0.0098 - accuracy: 0.9967 - val_loss: 0.0787 - val_accuracy: 0.9800\n",
            "Epoch 13/100\n",
            "60000/60000 [==============================] - 1s 24us/step - loss: 0.0084 - accuracy: 0.9974 - val_loss: 0.0754 - val_accuracy: 0.9812\n",
            "Epoch 14/100\n",
            "60000/60000 [==============================] - 1s 25us/step - loss: 0.0042 - accuracy: 0.9988 - val_loss: 0.0771 - val_accuracy: 0.9824\n",
            "Epoch 15/100\n",
            "60000/60000 [==============================] - 1s 24us/step - loss: 0.0056 - accuracy: 0.9983 - val_loss: 0.0868 - val_accuracy: 0.9807\n",
            "Epoch 16/100\n",
            "60000/60000 [==============================] - 1s 24us/step - loss: 0.0153 - accuracy: 0.9950 - val_loss: 0.0895 - val_accuracy: 0.9801\n",
            "Epoch 17/100\n",
            "60000/60000 [==============================] - 1s 24us/step - loss: 0.0083 - accuracy: 0.9970 - val_loss: 0.0868 - val_accuracy: 0.9806\n",
            "Epoch 18/100\n",
            "60000/60000 [==============================] - 1s 24us/step - loss: 0.0051 - accuracy: 0.9985 - val_loss: 0.0825 - val_accuracy: 0.9825\n",
            "Epoch 19/100\n",
            "60000/60000 [==============================] - 1s 24us/step - loss: 0.0022 - accuracy: 0.9994 - val_loss: 0.0885 - val_accuracy: 0.9819\n",
            "Epoch 20/100\n",
            "60000/60000 [==============================] - 1s 24us/step - loss: 0.0037 - accuracy: 0.9987 - val_loss: 0.1018 - val_accuracy: 0.9801\n",
            "Epoch 21/100\n",
            "60000/60000 [==============================] - 1s 24us/step - loss: 0.0094 - accuracy: 0.9971 - val_loss: 0.1052 - val_accuracy: 0.9803\n",
            "Epoch 22/100\n",
            "60000/60000 [==============================] - 1s 24us/step - loss: 0.0074 - accuracy: 0.9975 - val_loss: 0.0998 - val_accuracy: 0.9802\n",
            "Epoch 23/100\n",
            "60000/60000 [==============================] - 1s 24us/step - loss: 0.0031 - accuracy: 0.9991 - val_loss: 0.0777 - val_accuracy: 0.9837\n",
            "Epoch 24/100\n",
            "60000/60000 [==============================] - 1s 24us/step - loss: 6.2744e-04 - accuracy: 0.9999 - val_loss: 0.0831 - val_accuracy: 0.9845\n",
            "Epoch 25/100\n",
            "60000/60000 [==============================] - 2s 25us/step - loss: 1.0028e-04 - accuracy: 1.0000 - val_loss: 0.0822 - val_accuracy: 0.9850\n",
            "Epoch 26/100\n",
            "60000/60000 [==============================] - 1s 24us/step - loss: 5.1316e-05 - accuracy: 1.0000 - val_loss: 0.0829 - val_accuracy: 0.9849\n",
            "Epoch 27/100\n",
            "60000/60000 [==============================] - 1s 24us/step - loss: 3.9359e-05 - accuracy: 1.0000 - val_loss: 0.0834 - val_accuracy: 0.9849\n",
            "Epoch 28/100\n",
            "60000/60000 [==============================] - 1s 24us/step - loss: 3.2127e-05 - accuracy: 1.0000 - val_loss: 0.0838 - val_accuracy: 0.9850\n",
            "Epoch 29/100\n",
            "60000/60000 [==============================] - 1s 25us/step - loss: 2.6825e-05 - accuracy: 1.0000 - val_loss: 0.0846 - val_accuracy: 0.9848\n",
            "Epoch 30/100\n",
            "60000/60000 [==============================] - 1s 24us/step - loss: 2.2898e-05 - accuracy: 1.0000 - val_loss: 0.0854 - val_accuracy: 0.9849\n",
            "Epoch 31/100\n",
            "60000/60000 [==============================] - 1s 24us/step - loss: 1.9610e-05 - accuracy: 1.0000 - val_loss: 0.0857 - val_accuracy: 0.9848\n",
            "Epoch 32/100\n",
            "60000/60000 [==============================] - 1s 25us/step - loss: 1.6881e-05 - accuracy: 1.0000 - val_loss: 0.0867 - val_accuracy: 0.9850\n",
            "Epoch 33/100\n",
            "60000/60000 [==============================] - 1s 24us/step - loss: 1.4488e-05 - accuracy: 1.0000 - val_loss: 0.0870 - val_accuracy: 0.9849\n",
            "Epoch 34/100\n",
            "60000/60000 [==============================] - 1s 24us/step - loss: 1.2728e-05 - accuracy: 1.0000 - val_loss: 0.0876 - val_accuracy: 0.9850\n",
            "Epoch 35/100\n",
            "60000/60000 [==============================] - 1s 24us/step - loss: 1.1013e-05 - accuracy: 1.0000 - val_loss: 0.0884 - val_accuracy: 0.9849\n",
            "Epoch 36/100\n",
            "60000/60000 [==============================] - 1s 24us/step - loss: 9.5838e-06 - accuracy: 1.0000 - val_loss: 0.0890 - val_accuracy: 0.9849\n",
            "Epoch 37/100\n",
            "60000/60000 [==============================] - 1s 24us/step - loss: 8.3512e-06 - accuracy: 1.0000 - val_loss: 0.0895 - val_accuracy: 0.9850\n",
            "Epoch 38/100\n",
            "60000/60000 [==============================] - 1s 24us/step - loss: 7.3029e-06 - accuracy: 1.0000 - val_loss: 0.0901 - val_accuracy: 0.9850\n",
            "Epoch 39/100\n",
            "60000/60000 [==============================] - 1s 25us/step - loss: 6.3258e-06 - accuracy: 1.0000 - val_loss: 0.0910 - val_accuracy: 0.9850\n",
            "Epoch 40/100\n",
            "60000/60000 [==============================] - 1s 24us/step - loss: 5.5751e-06 - accuracy: 1.0000 - val_loss: 0.0915 - val_accuracy: 0.9850\n",
            "Epoch 41/100\n",
            "60000/60000 [==============================] - 1s 24us/step - loss: 4.8928e-06 - accuracy: 1.0000 - val_loss: 0.0922 - val_accuracy: 0.9851\n",
            "Epoch 42/100\n",
            "60000/60000 [==============================] - 1s 24us/step - loss: 4.2433e-06 - accuracy: 1.0000 - val_loss: 0.0932 - val_accuracy: 0.9850\n",
            "Epoch 43/100\n",
            "60000/60000 [==============================] - 1s 25us/step - loss: 3.7431e-06 - accuracy: 1.0000 - val_loss: 0.0939 - val_accuracy: 0.9850\n",
            "Epoch 44/100\n",
            "60000/60000 [==============================] - 1s 24us/step - loss: 3.2782e-06 - accuracy: 1.0000 - val_loss: 0.0943 - val_accuracy: 0.9852\n",
            "Epoch 45/100\n",
            "60000/60000 [==============================] - 1s 25us/step - loss: 2.8622e-06 - accuracy: 1.0000 - val_loss: 0.0951 - val_accuracy: 0.9849\n",
            "Epoch 46/100\n",
            "60000/60000 [==============================] - 1s 25us/step - loss: 2.5278e-06 - accuracy: 1.0000 - val_loss: 0.0962 - val_accuracy: 0.9852\n",
            "Epoch 47/100\n",
            "60000/60000 [==============================] - 1s 24us/step - loss: 2.1880e-06 - accuracy: 1.0000 - val_loss: 0.0966 - val_accuracy: 0.9851\n",
            "Epoch 48/100\n",
            "60000/60000 [==============================] - 1s 24us/step - loss: 1.9090e-06 - accuracy: 1.0000 - val_loss: 0.0976 - val_accuracy: 0.9851\n",
            "Epoch 49/100\n",
            "60000/60000 [==============================] - 1s 24us/step - loss: 1.6657e-06 - accuracy: 1.0000 - val_loss: 0.0978 - val_accuracy: 0.9847\n",
            "Epoch 50/100\n",
            "60000/60000 [==============================] - 1s 23us/step - loss: 1.4482e-06 - accuracy: 1.0000 - val_loss: 0.0992 - val_accuracy: 0.9847\n",
            "Epoch 51/100\n",
            "60000/60000 [==============================] - 1s 24us/step - loss: 1.2655e-06 - accuracy: 1.0000 - val_loss: 0.0993 - val_accuracy: 0.9849\n",
            "Epoch 52/100\n",
            "60000/60000 [==============================] - 1s 24us/step - loss: 1.1008e-06 - accuracy: 1.0000 - val_loss: 0.1000 - val_accuracy: 0.9852\n",
            "Epoch 53/100\n",
            "60000/60000 [==============================] - 1s 24us/step - loss: 9.5392e-07 - accuracy: 1.0000 - val_loss: 0.1008 - val_accuracy: 0.9850\n",
            "Epoch 54/100\n",
            "60000/60000 [==============================] - 1s 25us/step - loss: 8.4332e-07 - accuracy: 1.0000 - val_loss: 0.1024 - val_accuracy: 0.9847\n",
            "Epoch 55/100\n",
            "60000/60000 [==============================] - 1s 24us/step - loss: 7.2770e-07 - accuracy: 1.0000 - val_loss: 0.1025 - val_accuracy: 0.9850\n",
            "Epoch 56/100\n",
            "60000/60000 [==============================] - 1s 24us/step - loss: 6.3422e-07 - accuracy: 1.0000 - val_loss: 0.1038 - val_accuracy: 0.9849\n",
            "Epoch 57/100\n",
            "60000/60000 [==============================] - 1s 24us/step - loss: 5.5100e-07 - accuracy: 1.0000 - val_loss: 0.1041 - val_accuracy: 0.9850\n",
            "Epoch 58/100\n",
            "60000/60000 [==============================] - 1s 24us/step - loss: 4.7466e-07 - accuracy: 1.0000 - val_loss: 0.1052 - val_accuracy: 0.9854\n",
            "Epoch 59/100\n",
            "60000/60000 [==============================] - 1s 24us/step - loss: 4.0767e-07 - accuracy: 1.0000 - val_loss: 0.1058 - val_accuracy: 0.9853\n",
            "Epoch 60/100\n",
            "60000/60000 [==============================] - 1s 24us/step - loss: 3.7733e-07 - accuracy: 1.0000 - val_loss: 0.1069 - val_accuracy: 0.9851\n",
            "Epoch 61/100\n",
            "60000/60000 [==============================] - 1s 25us/step - loss: 3.1779e-07 - accuracy: 1.0000 - val_loss: 0.1078 - val_accuracy: 0.9852\n",
            "Epoch 62/100\n",
            "60000/60000 [==============================] - 1s 24us/step - loss: 2.6853e-07 - accuracy: 1.0000 - val_loss: 0.1087 - val_accuracy: 0.9850\n",
            "Epoch 63/100\n",
            "60000/60000 [==============================] - 1s 24us/step - loss: 2.3608e-07 - accuracy: 1.0000 - val_loss: 0.1085 - val_accuracy: 0.9852\n",
            "Epoch 64/100\n",
            "60000/60000 [==============================] - 1s 24us/step - loss: 2.0290e-07 - accuracy: 1.0000 - val_loss: 0.1099 - val_accuracy: 0.9853\n",
            "Epoch 65/100\n",
            "60000/60000 [==============================] - 1s 24us/step - loss: 1.7670e-07 - accuracy: 1.0000 - val_loss: 0.1104 - val_accuracy: 0.9854\n",
            "Epoch 66/100\n",
            "60000/60000 [==============================] - 1s 24us/step - loss: 1.5397e-07 - accuracy: 1.0000 - val_loss: 0.1119 - val_accuracy: 0.9851\n",
            "Epoch 67/100\n",
            "60000/60000 [==============================] - 1s 24us/step - loss: 1.3583e-07 - accuracy: 1.0000 - val_loss: 0.1121 - val_accuracy: 0.9853\n",
            "Epoch 68/100\n",
            "60000/60000 [==============================] - 1s 25us/step - loss: 1.1622e-07 - accuracy: 1.0000 - val_loss: 0.1137 - val_accuracy: 0.9853\n",
            "Epoch 69/100\n",
            "60000/60000 [==============================] - 1s 24us/step - loss: 1.0109e-07 - accuracy: 1.0000 - val_loss: 0.1140 - val_accuracy: 0.9852\n",
            "Epoch 70/100\n",
            "60000/60000 [==============================] - 1s 24us/step - loss: 8.8376e-08 - accuracy: 1.0000 - val_loss: 0.1143 - val_accuracy: 0.9851\n",
            "Epoch 71/100\n",
            "60000/60000 [==============================] - 1s 24us/step - loss: 7.7327e-08 - accuracy: 1.0000 - val_loss: 0.1156 - val_accuracy: 0.9850\n",
            "Epoch 72/100\n",
            "60000/60000 [==============================] - 1s 24us/step - loss: 6.7166e-08 - accuracy: 1.0000 - val_loss: 0.1169 - val_accuracy: 0.9851\n",
            "Epoch 73/100\n",
            "60000/60000 [==============================] - 1s 24us/step - loss: 5.9613e-08 - accuracy: 1.0000 - val_loss: 0.1171 - val_accuracy: 0.9852\n",
            "Epoch 74/100\n",
            "60000/60000 [==============================] - 1s 24us/step - loss: 5.1520e-08 - accuracy: 1.0000 - val_loss: 0.1183 - val_accuracy: 0.9850\n",
            "Epoch 75/100\n",
            "60000/60000 [==============================] - 1s 25us/step - loss: 4.5802e-08 - accuracy: 1.0000 - val_loss: 0.1183 - val_accuracy: 0.9853\n",
            "Epoch 76/100\n",
            "60000/60000 [==============================] - 1s 24us/step - loss: 3.9417e-08 - accuracy: 1.0000 - val_loss: 0.1195 - val_accuracy: 0.9851\n",
            "Epoch 77/100\n",
            "60000/60000 [==============================] - 1s 24us/step - loss: 3.4952e-08 - accuracy: 1.0000 - val_loss: 0.1201 - val_accuracy: 0.9852\n",
            "Epoch 78/100\n",
            "60000/60000 [==============================] - 1s 24us/step - loss: 3.0808e-08 - accuracy: 1.0000 - val_loss: 0.1206 - val_accuracy: 0.9852\n",
            "Epoch 79/100\n",
            "60000/60000 [==============================] - 1s 24us/step - loss: 2.6973e-08 - accuracy: 1.0000 - val_loss: 0.1218 - val_accuracy: 0.9851\n",
            "Epoch 80/100\n",
            "60000/60000 [==============================] - 1s 24us/step - loss: 2.3973e-08 - accuracy: 1.0000 - val_loss: 0.1224 - val_accuracy: 0.9852\n",
            "Epoch 81/100\n",
            "60000/60000 [==============================] - 1s 25us/step - loss: 2.1513e-08 - accuracy: 1.0000 - val_loss: 0.1224 - val_accuracy: 0.9853\n",
            "Epoch 82/100\n",
            "60000/60000 [==============================] - 1s 25us/step - loss: 1.9165e-08 - accuracy: 1.0000 - val_loss: 0.1233 - val_accuracy: 0.9852\n",
            "Epoch 83/100\n",
            "60000/60000 [==============================] - 1s 24us/step - loss: 1.6961e-08 - accuracy: 1.0000 - val_loss: 0.1240 - val_accuracy: 0.9851\n",
            "Epoch 84/100\n",
            "60000/60000 [==============================] - 1s 24us/step - loss: 1.5108e-08 - accuracy: 1.0000 - val_loss: 0.1247 - val_accuracy: 0.9851\n",
            "Epoch 85/100\n",
            "60000/60000 [==============================] - 1s 24us/step - loss: 1.3669e-08 - accuracy: 1.0000 - val_loss: 0.1251 - val_accuracy: 0.9851\n",
            "Epoch 86/100\n",
            "60000/60000 [==============================] - 1s 24us/step - loss: 1.2290e-08 - accuracy: 1.0000 - val_loss: 0.1261 - val_accuracy: 0.9851\n",
            "Epoch 87/100\n",
            "60000/60000 [==============================] - 1s 24us/step - loss: 1.1053e-08 - accuracy: 1.0000 - val_loss: 0.1266 - val_accuracy: 0.9852\n",
            "Epoch 88/100\n",
            "60000/60000 [==============================] - 1s 24us/step - loss: 9.9997e-09 - accuracy: 1.0000 - val_loss: 0.1273 - val_accuracy: 0.9851\n",
            "Epoch 89/100\n",
            "60000/60000 [==============================] - 1s 25us/step - loss: 9.1116e-09 - accuracy: 1.0000 - val_loss: 0.1277 - val_accuracy: 0.9850\n",
            "Epoch 90/100\n",
            "60000/60000 [==============================] - 1s 25us/step - loss: 8.2572e-09 - accuracy: 1.0000 - val_loss: 0.1281 - val_accuracy: 0.9852\n",
            "Epoch 91/100\n",
            "60000/60000 [==============================] - 1s 24us/step - loss: 7.5022e-09 - accuracy: 1.0000 - val_loss: 0.1286 - val_accuracy: 0.9854\n",
            "Epoch 92/100\n",
            "60000/60000 [==============================] - 1s 25us/step - loss: 6.7949e-09 - accuracy: 1.0000 - val_loss: 0.1294 - val_accuracy: 0.9851\n",
            "Epoch 93/100\n",
            "60000/60000 [==============================] - 1s 24us/step - loss: 6.2803e-09 - accuracy: 1.0000 - val_loss: 0.1297 - val_accuracy: 0.9853\n",
            "Epoch 94/100\n",
            "60000/60000 [==============================] - 1s 24us/step - loss: 5.7240e-09 - accuracy: 1.0000 - val_loss: 0.1299 - val_accuracy: 0.9851\n",
            "Epoch 95/100\n",
            "60000/60000 [==============================] - 1s 24us/step - loss: 5.2949e-09 - accuracy: 1.0000 - val_loss: 0.1306 - val_accuracy: 0.9853\n",
            "Epoch 96/100\n",
            "60000/60000 [==============================] - 1s 24us/step - loss: 4.8975e-09 - accuracy: 1.0000 - val_loss: 0.1312 - val_accuracy: 0.9851\n",
            "Epoch 97/100\n",
            "60000/60000 [==============================] - 1s 24us/step - loss: 4.4922e-09 - accuracy: 1.0000 - val_loss: 0.1315 - val_accuracy: 0.9853\n",
            "Epoch 98/100\n",
            "60000/60000 [==============================] - 1s 24us/step - loss: 4.2439e-09 - accuracy: 1.0000 - val_loss: 0.1320 - val_accuracy: 0.9852\n",
            "Epoch 99/100\n",
            "60000/60000 [==============================] - 1s 24us/step - loss: 3.8822e-09 - accuracy: 1.0000 - val_loss: 0.1322 - val_accuracy: 0.9851\n",
            "Epoch 100/100\n",
            "60000/60000 [==============================] - 1s 24us/step - loss: 3.6498e-09 - accuracy: 1.0000 - val_loss: 0.1327 - val_accuracy: 0.9850\n",
            "CPU times: user 2min 47s, sys: 17.8 s, total: 3min 5s\n",
            "Wall time: 2min 26s\n"
          ],
          "name": "stdout"
        }
      ]
    },
    {
      "cell_type": "code",
      "metadata": {
        "id": "oYUQSCnX71YJ",
        "colab_type": "code",
        "colab": {
          "base_uri": "https://localhost:8080/",
          "height": 53
        },
        "outputId": "125488db-10c6-4ad3-d3a4-197a233a9d6c"
      },
      "source": [
        "m.evaluate(X_test, Y_test)[1]"
      ],
      "execution_count": 23,
      "outputs": [
        {
          "output_type": "stream",
          "text": [
            "10000/10000 [==============================] - 1s 65us/step\n"
          ],
          "name": "stdout"
        },
        {
          "output_type": "execute_result",
          "data": {
            "text/plain": [
              "0.9850000143051147"
            ]
          },
          "metadata": {
            "tags": []
          },
          "execution_count": 23
        }
      ]
    },
    {
      "cell_type": "code",
      "metadata": {
        "id": "E1FeRuue-hRu",
        "colab_type": "code",
        "colab": {
          "base_uri": "https://localhost:8080/",
          "height": 1000
        },
        "outputId": "129469e9-70e6-48b1-8b54-5308853de56f"
      },
      "source": [
        "%%time\n",
        "\n",
        "m = Sequential()\n",
        "m.add(Dense(512, input_dim=784, activation='relu'))\n",
        "m.add(Dense(120, activation='relu'))\n",
        "m.add(Dense(10, activation='softmax'))\n",
        "\n",
        "m.compile(loss='categorical_crossentropy', optimizer='adam', metrics=['accuracy'])\n",
        "\n",
        "history = m.fit(X_train, Y_train, validation_data=(X_test, Y_test),\n",
        "                epochs=50,\n",
        "                batch_size=100,\n",
        "                verbose=1)"
      ],
      "execution_count": 24,
      "outputs": [
        {
          "output_type": "stream",
          "text": [
            "Train on 60000 samples, validate on 10000 samples\n",
            "Epoch 1/50\n",
            "60000/60000 [==============================] - 3s 49us/step - loss: 0.2218 - accuracy: 0.9354 - val_loss: 0.1055 - val_accuracy: 0.9677\n",
            "Epoch 2/50\n",
            "60000/60000 [==============================] - 3s 46us/step - loss: 0.0831 - accuracy: 0.9748 - val_loss: 0.0792 - val_accuracy: 0.9741\n",
            "Epoch 3/50\n",
            "60000/60000 [==============================] - 3s 46us/step - loss: 0.0525 - accuracy: 0.9837 - val_loss: 0.0666 - val_accuracy: 0.9796\n",
            "Epoch 4/50\n",
            "60000/60000 [==============================] - 3s 45us/step - loss: 0.0368 - accuracy: 0.9884 - val_loss: 0.0750 - val_accuracy: 0.9772\n",
            "Epoch 5/50\n",
            "60000/60000 [==============================] - 3s 46us/step - loss: 0.0301 - accuracy: 0.9901 - val_loss: 0.0678 - val_accuracy: 0.9789\n",
            "Epoch 6/50\n",
            "60000/60000 [==============================] - 3s 46us/step - loss: 0.0210 - accuracy: 0.9931 - val_loss: 0.0738 - val_accuracy: 0.9795\n",
            "Epoch 7/50\n",
            "60000/60000 [==============================] - 3s 47us/step - loss: 0.0172 - accuracy: 0.9947 - val_loss: 0.0761 - val_accuracy: 0.9802\n",
            "Epoch 8/50\n",
            "60000/60000 [==============================] - 3s 47us/step - loss: 0.0189 - accuracy: 0.9940 - val_loss: 0.0840 - val_accuracy: 0.9779\n",
            "Epoch 9/50\n",
            "60000/60000 [==============================] - 3s 45us/step - loss: 0.0125 - accuracy: 0.9955 - val_loss: 0.0898 - val_accuracy: 0.9792\n",
            "Epoch 10/50\n",
            "60000/60000 [==============================] - 3s 46us/step - loss: 0.0126 - accuracy: 0.9954 - val_loss: 0.0777 - val_accuracy: 0.9812\n",
            "Epoch 11/50\n",
            "60000/60000 [==============================] - 3s 46us/step - loss: 0.0099 - accuracy: 0.9966 - val_loss: 0.0794 - val_accuracy: 0.9834\n",
            "Epoch 12/50\n",
            "60000/60000 [==============================] - 3s 45us/step - loss: 0.0109 - accuracy: 0.9964 - val_loss: 0.1045 - val_accuracy: 0.9776\n",
            "Epoch 13/50\n",
            "60000/60000 [==============================] - 3s 46us/step - loss: 0.0081 - accuracy: 0.9976 - val_loss: 0.0985 - val_accuracy: 0.9795\n",
            "Epoch 14/50\n",
            "60000/60000 [==============================] - 3s 47us/step - loss: 0.0094 - accuracy: 0.9966 - val_loss: 0.0816 - val_accuracy: 0.9823\n",
            "Epoch 15/50\n",
            "60000/60000 [==============================] - 3s 46us/step - loss: 0.0082 - accuracy: 0.9977 - val_loss: 0.0933 - val_accuracy: 0.9820\n",
            "Epoch 16/50\n",
            "60000/60000 [==============================] - 3s 46us/step - loss: 0.0052 - accuracy: 0.9983 - val_loss: 0.0835 - val_accuracy: 0.9824\n",
            "Epoch 17/50\n",
            "60000/60000 [==============================] - 3s 46us/step - loss: 0.0098 - accuracy: 0.9964 - val_loss: 0.0927 - val_accuracy: 0.9813\n",
            "Epoch 18/50\n",
            "60000/60000 [==============================] - 3s 46us/step - loss: 0.0085 - accuracy: 0.9971 - val_loss: 0.0891 - val_accuracy: 0.9804\n",
            "Epoch 19/50\n",
            "60000/60000 [==============================] - 3s 46us/step - loss: 0.0078 - accuracy: 0.9973 - val_loss: 0.0964 - val_accuracy: 0.9809\n",
            "Epoch 20/50\n",
            "60000/60000 [==============================] - 3s 46us/step - loss: 0.0053 - accuracy: 0.9984 - val_loss: 0.0966 - val_accuracy: 0.9810\n",
            "Epoch 21/50\n",
            "60000/60000 [==============================] - 3s 47us/step - loss: 0.0087 - accuracy: 0.9971 - val_loss: 0.1002 - val_accuracy: 0.9796\n",
            "Epoch 22/50\n",
            "60000/60000 [==============================] - 3s 46us/step - loss: 0.0067 - accuracy: 0.9978 - val_loss: 0.1038 - val_accuracy: 0.9811\n",
            "Epoch 23/50\n",
            "60000/60000 [==============================] - 3s 46us/step - loss: 0.0032 - accuracy: 0.9989 - val_loss: 0.1100 - val_accuracy: 0.9810\n",
            "Epoch 24/50\n",
            "60000/60000 [==============================] - 3s 49us/step - loss: 0.0063 - accuracy: 0.9981 - val_loss: 0.1074 - val_accuracy: 0.9806\n",
            "Epoch 25/50\n",
            "60000/60000 [==============================] - 3s 48us/step - loss: 0.0064 - accuracy: 0.9982 - val_loss: 0.1083 - val_accuracy: 0.9818\n",
            "Epoch 26/50\n",
            "60000/60000 [==============================] - 3s 46us/step - loss: 0.0028 - accuracy: 0.9992 - val_loss: 0.0966 - val_accuracy: 0.9830\n",
            "Epoch 27/50\n",
            "60000/60000 [==============================] - 3s 46us/step - loss: 0.0065 - accuracy: 0.9980 - val_loss: 0.1219 - val_accuracy: 0.9793\n",
            "Epoch 28/50\n",
            "60000/60000 [==============================] - 3s 46us/step - loss: 0.0069 - accuracy: 0.9981 - val_loss: 0.1025 - val_accuracy: 0.9824\n",
            "Epoch 29/50\n",
            "60000/60000 [==============================] - 3s 47us/step - loss: 0.0064 - accuracy: 0.9981 - val_loss: 0.1162 - val_accuracy: 0.9808\n",
            "Epoch 30/50\n",
            "60000/60000 [==============================] - 3s 46us/step - loss: 0.0059 - accuracy: 0.9982 - val_loss: 0.1294 - val_accuracy: 0.9796\n",
            "Epoch 31/50\n",
            "60000/60000 [==============================] - 3s 46us/step - loss: 0.0063 - accuracy: 0.9980 - val_loss: 0.1102 - val_accuracy: 0.9808\n",
            "Epoch 32/50\n",
            "60000/60000 [==============================] - 3s 46us/step - loss: 0.0026 - accuracy: 0.9993 - val_loss: 0.0959 - val_accuracy: 0.9846\n",
            "Epoch 33/50\n",
            "60000/60000 [==============================] - 3s 46us/step - loss: 0.0023 - accuracy: 0.9995 - val_loss: 0.1036 - val_accuracy: 0.9841\n",
            "Epoch 34/50\n",
            "60000/60000 [==============================] - 3s 45us/step - loss: 0.0040 - accuracy: 0.9989 - val_loss: 0.1504 - val_accuracy: 0.9799\n",
            "Epoch 35/50\n",
            "60000/60000 [==============================] - 3s 46us/step - loss: 0.0086 - accuracy: 0.9976 - val_loss: 0.1064 - val_accuracy: 0.9829\n",
            "Epoch 36/50\n",
            "60000/60000 [==============================] - 3s 46us/step - loss: 0.0041 - accuracy: 0.9985 - val_loss: 0.1320 - val_accuracy: 0.9817\n",
            "Epoch 37/50\n",
            "60000/60000 [==============================] - 3s 46us/step - loss: 0.0041 - accuracy: 0.9988 - val_loss: 0.1415 - val_accuracy: 0.9793\n",
            "Epoch 38/50\n",
            "60000/60000 [==============================] - 3s 46us/step - loss: 0.0030 - accuracy: 0.9991 - val_loss: 0.1223 - val_accuracy: 0.9817\n",
            "Epoch 39/50\n",
            "60000/60000 [==============================] - 3s 46us/step - loss: 0.0029 - accuracy: 0.9992 - val_loss: 0.1178 - val_accuracy: 0.9814\n",
            "Epoch 40/50\n",
            "60000/60000 [==============================] - 3s 47us/step - loss: 0.0059 - accuracy: 0.9982 - val_loss: 0.1187 - val_accuracy: 0.9801\n",
            "Epoch 41/50\n",
            "60000/60000 [==============================] - 3s 46us/step - loss: 0.0054 - accuracy: 0.9983 - val_loss: 0.1425 - val_accuracy: 0.9796\n",
            "Epoch 42/50\n",
            "60000/60000 [==============================] - 3s 46us/step - loss: 0.0035 - accuracy: 0.9991 - val_loss: 0.1081 - val_accuracy: 0.9842\n",
            "Epoch 43/50\n",
            "60000/60000 [==============================] - 3s 45us/step - loss: 0.0036 - accuracy: 0.9991 - val_loss: 0.1057 - val_accuracy: 0.9838\n",
            "Epoch 44/50\n",
            "60000/60000 [==============================] - 3s 45us/step - loss: 0.0045 - accuracy: 0.9988 - val_loss: 0.1114 - val_accuracy: 0.9842\n",
            "Epoch 45/50\n",
            "60000/60000 [==============================] - 3s 46us/step - loss: 0.0027 - accuracy: 0.9993 - val_loss: 0.1162 - val_accuracy: 0.9835\n",
            "Epoch 46/50\n",
            "60000/60000 [==============================] - 3s 46us/step - loss: 0.0012 - accuracy: 0.9997 - val_loss: 0.1331 - val_accuracy: 0.9832\n",
            "Epoch 47/50\n",
            "60000/60000 [==============================] - 3s 46us/step - loss: 0.0048 - accuracy: 0.9988 - val_loss: 0.1356 - val_accuracy: 0.9802\n",
            "Epoch 48/50\n",
            "60000/60000 [==============================] - 3s 46us/step - loss: 0.0059 - accuracy: 0.9982 - val_loss: 0.1273 - val_accuracy: 0.9820\n",
            "Epoch 49/50\n",
            "60000/60000 [==============================] - 3s 46us/step - loss: 0.0026 - accuracy: 0.9993 - val_loss: 0.1322 - val_accuracy: 0.9832\n",
            "Epoch 50/50\n",
            "60000/60000 [==============================] - 3s 46us/step - loss: 0.0022 - accuracy: 0.9994 - val_loss: 0.1231 - val_accuracy: 0.9839\n",
            "CPU times: user 2min 42s, sys: 20.8 s, total: 3min 3s\n",
            "Wall time: 2min 19s\n"
          ],
          "name": "stdout"
        }
      ]
    },
    {
      "cell_type": "code",
      "metadata": {
        "id": "uPpaMOll-0V5",
        "colab_type": "code",
        "colab": {
          "base_uri": "https://localhost:8080/",
          "height": 53
        },
        "outputId": "942eff02-ff0f-4f18-e9de-ec9547632bde"
      },
      "source": [
        "m.evaluate(X_test, Y_test)[1]"
      ],
      "execution_count": 25,
      "outputs": [
        {
          "output_type": "stream",
          "text": [
            "10000/10000 [==============================] - 1s 65us/step\n"
          ],
          "name": "stdout"
        },
        {
          "output_type": "execute_result",
          "data": {
            "text/plain": [
              "0.9839000105857849"
            ]
          },
          "metadata": {
            "tags": []
          },
          "execution_count": 25
        }
      ]
    },
    {
      "cell_type": "code",
      "metadata": {
        "id": "PvkiDIeB-tPX",
        "colab_type": "code",
        "colab": {
          "base_uri": "https://localhost:8080/",
          "height": 1000
        },
        "outputId": "82692508-cf6b-4705-9f84-a562c805fc85"
      },
      "source": [
        "%%time\n",
        "\n",
        "m = Sequential()\n",
        "m.add(Dense(512, input_dim=784, activation='relu'))\n",
        "m.add(Dense(120, activation='relu'))\n",
        "m.add(Dense(10, activation='softmax'))\n",
        "\n",
        "m.compile(loss='categorical_crossentropy', optimizer='adam', metrics=['accuracy'])\n",
        "\n",
        "history = m.fit(X_train, Y_train, validation_data=(X_test, Y_test),\n",
        "                epochs=50,\n",
        "                batch_size=50,\n",
        "                verbose=1)"
      ],
      "execution_count": 26,
      "outputs": [
        {
          "output_type": "stream",
          "text": [
            "Train on 60000 samples, validate on 10000 samples\n",
            "Epoch 1/50\n",
            "60000/60000 [==============================] - 5s 89us/step - loss: 0.2019 - accuracy: 0.9395 - val_loss: 0.1003 - val_accuracy: 0.9705\n",
            "Epoch 2/50\n",
            "60000/60000 [==============================] - 5s 86us/step - loss: 0.0780 - accuracy: 0.9760 - val_loss: 0.0801 - val_accuracy: 0.9752\n",
            "Epoch 3/50\n",
            "60000/60000 [==============================] - 5s 86us/step - loss: 0.0544 - accuracy: 0.9831 - val_loss: 0.0641 - val_accuracy: 0.9815\n",
            "Epoch 4/50\n",
            "60000/60000 [==============================] - 5s 86us/step - loss: 0.0378 - accuracy: 0.9879 - val_loss: 0.0771 - val_accuracy: 0.9755\n",
            "Epoch 5/50\n",
            "60000/60000 [==============================] - 5s 86us/step - loss: 0.0304 - accuracy: 0.9900 - val_loss: 0.0889 - val_accuracy: 0.9751\n",
            "Epoch 6/50\n",
            "60000/60000 [==============================] - 5s 85us/step - loss: 0.0248 - accuracy: 0.9917 - val_loss: 0.0782 - val_accuracy: 0.9797\n",
            "Epoch 7/50\n",
            "60000/60000 [==============================] - 5s 86us/step - loss: 0.0194 - accuracy: 0.9936 - val_loss: 0.0819 - val_accuracy: 0.9798\n",
            "Epoch 8/50\n",
            "60000/60000 [==============================] - 5s 87us/step - loss: 0.0203 - accuracy: 0.9935 - val_loss: 0.0944 - val_accuracy: 0.9796\n",
            "Epoch 9/50\n",
            "60000/60000 [==============================] - 5s 91us/step - loss: 0.0175 - accuracy: 0.9947 - val_loss: 0.0921 - val_accuracy: 0.9751\n",
            "Epoch 10/50\n",
            "60000/60000 [==============================] - 5s 91us/step - loss: 0.0145 - accuracy: 0.9953 - val_loss: 0.0770 - val_accuracy: 0.9813\n",
            "Epoch 11/50\n",
            "60000/60000 [==============================] - 5s 86us/step - loss: 0.0139 - accuracy: 0.9956 - val_loss: 0.1018 - val_accuracy: 0.9773\n",
            "Epoch 12/50\n",
            "60000/60000 [==============================] - 5s 86us/step - loss: 0.0111 - accuracy: 0.9965 - val_loss: 0.0959 - val_accuracy: 0.9797\n",
            "Epoch 13/50\n",
            "60000/60000 [==============================] - 5s 86us/step - loss: 0.0116 - accuracy: 0.9964 - val_loss: 0.0863 - val_accuracy: 0.9827\n",
            "Epoch 14/50\n",
            "60000/60000 [==============================] - 5s 87us/step - loss: 0.0095 - accuracy: 0.9969 - val_loss: 0.0963 - val_accuracy: 0.9815\n",
            "Epoch 15/50\n",
            "60000/60000 [==============================] - 5s 87us/step - loss: 0.0101 - accuracy: 0.9967 - val_loss: 0.0937 - val_accuracy: 0.9815\n",
            "Epoch 16/50\n",
            "60000/60000 [==============================] - 5s 85us/step - loss: 0.0103 - accuracy: 0.9968 - val_loss: 0.1038 - val_accuracy: 0.9814\n",
            "Epoch 17/50\n",
            "60000/60000 [==============================] - 5s 85us/step - loss: 0.0072 - accuracy: 0.9980 - val_loss: 0.1080 - val_accuracy: 0.9812\n",
            "Epoch 18/50\n",
            "60000/60000 [==============================] - 5s 85us/step - loss: 0.0080 - accuracy: 0.9975 - val_loss: 0.1036 - val_accuracy: 0.9833\n",
            "Epoch 19/50\n",
            "60000/60000 [==============================] - 5s 86us/step - loss: 0.0102 - accuracy: 0.9970 - val_loss: 0.0991 - val_accuracy: 0.9827\n",
            "Epoch 20/50\n",
            "60000/60000 [==============================] - 5s 85us/step - loss: 0.0084 - accuracy: 0.9975 - val_loss: 0.1182 - val_accuracy: 0.9791\n",
            "Epoch 21/50\n",
            "60000/60000 [==============================] - 5s 87us/step - loss: 0.0081 - accuracy: 0.9975 - val_loss: 0.1013 - val_accuracy: 0.9834\n",
            "Epoch 22/50\n",
            "60000/60000 [==============================] - 5s 89us/step - loss: 0.0085 - accuracy: 0.9977 - val_loss: 0.1086 - val_accuracy: 0.9825\n",
            "Epoch 23/50\n",
            "60000/60000 [==============================] - 5s 86us/step - loss: 0.0079 - accuracy: 0.9978 - val_loss: 0.1159 - val_accuracy: 0.9813\n",
            "Epoch 24/50\n",
            "60000/60000 [==============================] - 5s 86us/step - loss: 0.0062 - accuracy: 0.9981 - val_loss: 0.1095 - val_accuracy: 0.9823\n",
            "Epoch 25/50\n",
            "60000/60000 [==============================] - 5s 85us/step - loss: 0.0074 - accuracy: 0.9976 - val_loss: 0.1404 - val_accuracy: 0.9796\n",
            "Epoch 26/50\n",
            "60000/60000 [==============================] - 5s 85us/step - loss: 0.0067 - accuracy: 0.9982 - val_loss: 0.1174 - val_accuracy: 0.9824\n",
            "Epoch 27/50\n",
            "60000/60000 [==============================] - 5s 86us/step - loss: 0.0095 - accuracy: 0.9974 - val_loss: 0.1136 - val_accuracy: 0.9820\n",
            "Epoch 28/50\n",
            "60000/60000 [==============================] - 5s 86us/step - loss: 0.0045 - accuracy: 0.9987 - val_loss: 0.1383 - val_accuracy: 0.9830\n",
            "Epoch 29/50\n",
            "60000/60000 [==============================] - 5s 85us/step - loss: 0.0080 - accuracy: 0.9980 - val_loss: 0.1252 - val_accuracy: 0.9832\n",
            "Epoch 30/50\n",
            "60000/60000 [==============================] - 5s 86us/step - loss: 0.0070 - accuracy: 0.9979 - val_loss: 0.1149 - val_accuracy: 0.9838\n",
            "Epoch 31/50\n",
            "60000/60000 [==============================] - 5s 85us/step - loss: 0.0056 - accuracy: 0.9985 - val_loss: 0.1101 - val_accuracy: 0.9843\n",
            "Epoch 32/50\n",
            "60000/60000 [==============================] - 5s 86us/step - loss: 0.0034 - accuracy: 0.9991 - val_loss: 0.1160 - val_accuracy: 0.9819\n",
            "Epoch 33/50\n",
            "60000/60000 [==============================] - 5s 86us/step - loss: 0.0063 - accuracy: 0.9983 - val_loss: 0.1396 - val_accuracy: 0.9820\n",
            "Epoch 34/50\n",
            "60000/60000 [==============================] - 5s 85us/step - loss: 0.0061 - accuracy: 0.9983 - val_loss: 0.1477 - val_accuracy: 0.9815\n",
            "Epoch 35/50\n",
            "60000/60000 [==============================] - 5s 85us/step - loss: 0.0072 - accuracy: 0.9982 - val_loss: 0.1345 - val_accuracy: 0.9829\n",
            "Epoch 36/50\n",
            "60000/60000 [==============================] - 5s 85us/step - loss: 0.0043 - accuracy: 0.9988 - val_loss: 0.1576 - val_accuracy: 0.9821\n",
            "Epoch 37/50\n",
            "60000/60000 [==============================] - 5s 85us/step - loss: 0.0065 - accuracy: 0.9985 - val_loss: 0.1390 - val_accuracy: 0.9812\n",
            "Epoch 38/50\n",
            "60000/60000 [==============================] - 5s 85us/step - loss: 0.0055 - accuracy: 0.9986 - val_loss: 0.1412 - val_accuracy: 0.9814\n",
            "Epoch 39/50\n",
            "60000/60000 [==============================] - 5s 86us/step - loss: 0.0060 - accuracy: 0.9983 - val_loss: 0.1321 - val_accuracy: 0.9829\n",
            "Epoch 40/50\n",
            "60000/60000 [==============================] - 5s 85us/step - loss: 0.0034 - accuracy: 0.9992 - val_loss: 0.1450 - val_accuracy: 0.9831\n",
            "Epoch 41/50\n",
            "60000/60000 [==============================] - 5s 86us/step - loss: 0.0083 - accuracy: 0.9980 - val_loss: 0.1644 - val_accuracy: 0.9817\n",
            "Epoch 42/50\n",
            "60000/60000 [==============================] - 5s 84us/step - loss: 0.0051 - accuracy: 0.9988 - val_loss: 0.1596 - val_accuracy: 0.9812\n",
            "Epoch 43/50\n",
            "60000/60000 [==============================] - 5s 85us/step - loss: 0.0054 - accuracy: 0.9986 - val_loss: 0.1665 - val_accuracy: 0.9806\n",
            "Epoch 44/50\n",
            "60000/60000 [==============================] - 5s 85us/step - loss: 0.0031 - accuracy: 0.9991 - val_loss: 0.1514 - val_accuracy: 0.9825\n",
            "Epoch 45/50\n",
            "60000/60000 [==============================] - 5s 87us/step - loss: 0.0074 - accuracy: 0.9983 - val_loss: 0.1354 - val_accuracy: 0.9839\n",
            "Epoch 46/50\n",
            "60000/60000 [==============================] - 5s 85us/step - loss: 0.0040 - accuracy: 0.9990 - val_loss: 0.1677 - val_accuracy: 0.9803\n",
            "Epoch 47/50\n",
            "60000/60000 [==============================] - 5s 86us/step - loss: 0.0069 - accuracy: 0.9983 - val_loss: 0.1590 - val_accuracy: 0.9820\n",
            "Epoch 48/50\n",
            "60000/60000 [==============================] - 5s 85us/step - loss: 0.0028 - accuracy: 0.9992 - val_loss: 0.1697 - val_accuracy: 0.9822\n",
            "Epoch 49/50\n",
            "60000/60000 [==============================] - 5s 86us/step - loss: 0.0056 - accuracy: 0.9991 - val_loss: 0.1962 - val_accuracy: 0.9795\n",
            "Epoch 50/50\n",
            "60000/60000 [==============================] - 5s 85us/step - loss: 0.0057 - accuracy: 0.9986 - val_loss: 0.1812 - val_accuracy: 0.9805\n",
            "CPU times: user 5min 2s, sys: 35.2 s, total: 5min 37s\n",
            "Wall time: 4min 19s\n"
          ],
          "name": "stdout"
        }
      ]
    },
    {
      "cell_type": "code",
      "metadata": {
        "id": "0I36hRz0AgVK",
        "colab_type": "code",
        "colab": {
          "base_uri": "https://localhost:8080/",
          "height": 53
        },
        "outputId": "da135287-95e7-4aeb-b2e8-3690f094f6d4"
      },
      "source": [
        "m.evaluate(X_test, Y_test)[1]"
      ],
      "execution_count": 27,
      "outputs": [
        {
          "output_type": "stream",
          "text": [
            "10000/10000 [==============================] - 1s 63us/step\n"
          ],
          "name": "stdout"
        },
        {
          "output_type": "execute_result",
          "data": {
            "text/plain": [
              "0.9804999828338623"
            ]
          },
          "metadata": {
            "tags": []
          },
          "execution_count": 27
        }
      ]
    },
    {
      "cell_type": "code",
      "metadata": {
        "id": "uiaSRCjyDLVc",
        "colab_type": "code",
        "colab": {}
      },
      "source": [
        ""
      ],
      "execution_count": 0,
      "outputs": []
    },
    {
      "cell_type": "code",
      "metadata": {
        "id": "Ul29RyTu-kLm",
        "colab_type": "code",
        "colab": {}
      },
      "source": [
        ""
      ],
      "execution_count": 0,
      "outputs": []
    }
  ]
}