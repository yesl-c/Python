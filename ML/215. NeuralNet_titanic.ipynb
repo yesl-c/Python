{
  "nbformat": 4,
  "nbformat_minor": 0,
  "metadata": {
    "colab": {
      "name": "02. NeuralNet_titanic.ipynb",
      "provenance": []
    },
    "kernelspec": {
      "name": "python3",
      "display_name": "Python 3"
    }
  },
  "cells": [
    {
      "cell_type": "code",
      "metadata": {
        "id": "skI-lCPzVlMi",
        "colab_type": "code",
        "colab": {
          "base_uri": "https://localhost:8080/",
          "height": 35
        },
        "outputId": "9c788e76-fbc3-4d65-8afc-c04b9cd40224"
      },
      "source": [
        "%tensorflow_version 1.x"
      ],
      "execution_count": 2,
      "outputs": [
        {
          "output_type": "stream",
          "text": [
            "TensorFlow 1.x selected.\n"
          ],
          "name": "stdout"
        }
      ]
    },
    {
      "cell_type": "code",
      "metadata": {
        "id": "FihtOU8rVWF1",
        "colab_type": "code",
        "colab": {
          "base_uri": "https://localhost:8080/",
          "height": 35
        },
        "outputId": "366858db-0bda-4377-e287-a05a919f7eb7"
      },
      "source": [
        "import numpy as np\n",
        "import matplotlib.pyplot as plt\n",
        "import matplotlib\n",
        "import pandas as pd\n",
        "import tensorflow as tf\n",
        "import keras"
      ],
      "execution_count": 3,
      "outputs": [
        {
          "output_type": "stream",
          "text": [
            "Using TensorFlow backend.\n"
          ],
          "name": "stderr"
        }
      ]
    },
    {
      "cell_type": "code",
      "metadata": {
        "id": "sC8RHQdcYVXm",
        "colab_type": "code",
        "colab": {}
      },
      "source": [
        "from keras.models import Sequential\n",
        "from keras.layers import Dense"
      ],
      "execution_count": 0,
      "outputs": []
    },
    {
      "cell_type": "code",
      "metadata": {
        "id": "mW8g06tuYeiI",
        "colab_type": "code",
        "colab": {
          "base_uri": "https://localhost:8080/",
          "height": 35
        },
        "outputId": "67b528bc-32fb-4103-e51c-3a776ed12696"
      },
      "source": [
        "train = pd.read_csv('train.csv')\n",
        "test = pd.read_csv('test.csv')\n",
        "print(train.shape, test.shape)"
      ],
      "execution_count": 6,
      "outputs": [
        {
          "output_type": "stream",
          "text": [
            "(891, 12) (418, 11)\n"
          ],
          "name": "stdout"
        }
      ]
    },
    {
      "cell_type": "code",
      "metadata": {
        "id": "gjiqfid6YmmL",
        "colab_type": "code",
        "colab": {
          "base_uri": "https://localhost:8080/",
          "height": 359
        },
        "outputId": "1d943ac7-0a23-4a22-f921-aa15b5a315d3"
      },
      "source": [
        "train.info()   # Age, Cabin, Embarked : 결측치 있어서 처리해줘야 하지만 신경망이 목적이기 때문에 결측치 없는 변수만 선택해서 진행"
      ],
      "execution_count": 7,
      "outputs": [
        {
          "output_type": "stream",
          "text": [
            "<class 'pandas.core.frame.DataFrame'>\n",
            "RangeIndex: 891 entries, 0 to 890\n",
            "Data columns (total 12 columns):\n",
            " #   Column       Non-Null Count  Dtype  \n",
            "---  ------       --------------  -----  \n",
            " 0   PassengerId  891 non-null    int64  \n",
            " 1   Survived     891 non-null    int64  \n",
            " 2   Pclass       891 non-null    int64  \n",
            " 3   Name         891 non-null    object \n",
            " 4   Sex          891 non-null    object \n",
            " 5   Age          714 non-null    float64\n",
            " 6   SibSp        891 non-null    int64  \n",
            " 7   Parch        891 non-null    int64  \n",
            " 8   Ticket       891 non-null    object \n",
            " 9   Fare         891 non-null    float64\n",
            " 10  Cabin        204 non-null    object \n",
            " 11  Embarked     889 non-null    object \n",
            "dtypes: float64(2), int64(5), object(5)\n",
            "memory usage: 83.7+ KB\n"
          ],
          "name": "stdout"
        }
      ]
    },
    {
      "cell_type": "code",
      "metadata": {
        "id": "C39m24n9YoHd",
        "colab_type": "code",
        "colab": {}
      },
      "source": [
        "input_col = ['Pclass','SibSp','Parch']\n",
        "labeled_col = ['Survived']"
      ],
      "execution_count": 0,
      "outputs": []
    },
    {
      "cell_type": "code",
      "metadata": {
        "id": "uivsRXUKZD0Y",
        "colab_type": "code",
        "colab": {}
      },
      "source": [
        "X = train[input_col]\n",
        "y = train[labeled_col]\n",
        "X_val = test[input_col]"
      ],
      "execution_count": 0,
      "outputs": []
    },
    {
      "cell_type": "code",
      "metadata": {
        "id": "0Gu3TuMeZGUd",
        "colab_type": "code",
        "colab": {}
      },
      "source": [
        "seed = 0\n",
        "np.random.seed(seed)\n",
        "tf.set_random_seed(seed)"
      ],
      "execution_count": 0,
      "outputs": []
    },
    {
      "cell_type": "code",
      "metadata": {
        "id": "Ivx6l1z3ZS6d",
        "colab_type": "code",
        "colab": {}
      },
      "source": [
        "from sklearn.model_selection import train_test_split"
      ],
      "execution_count": 0,
      "outputs": []
    },
    {
      "cell_type": "code",
      "metadata": {
        "id": "9uf9Qcf6ZVw1",
        "colab_type": "code",
        "colab": {}
      },
      "source": [
        "X_train, X_test, y_train, y_test = train_test_split(X, y, random_state=0)"
      ],
      "execution_count": 0,
      "outputs": []
    },
    {
      "cell_type": "markdown",
      "metadata": {
        "id": "m1EccA1TZvWv",
        "colab_type": "text"
      },
      "source": [
        "## **딥러닝 구조 만들기**"
      ]
    },
    {
      "cell_type": "markdown",
      "metadata": {
        "id": "4pIISG2naQqv",
        "colab_type": "text"
      },
      "source": [
        "**모델 설정**"
      ]
    },
    {
      "cell_type": "code",
      "metadata": {
        "id": "5J0HvEM3ZvEP",
        "colab_type": "code",
        "colab": {
          "base_uri": "https://localhost:8080/",
          "height": 91
        },
        "outputId": "107b8fca-f900-416f-85c9-5f452f4ef2c8"
      },
      "source": [
        "model = Sequential()\n",
        "model.add(Dense(30, input_dim=3, activation='relu'))\n",
        "model.add(Dense(15, activation='relu'))\n",
        "model.add(Dense(1, activation='sigmoid'))   # sigmoid함수는 0~1 사이의 값으로 예측해줌"
      ],
      "execution_count": 15,
      "outputs": [
        {
          "output_type": "stream",
          "text": [
            "WARNING:tensorflow:From /tensorflow-1.15.2/python3.6/tensorflow_core/python/ops/resource_variable_ops.py:1630: calling BaseResourceVariable.__init__ (from tensorflow.python.ops.resource_variable_ops) with constraint is deprecated and will be removed in a future version.\n",
            "Instructions for updating:\n",
            "If using Keras pass *_constraint arguments to layers.\n"
          ],
          "name": "stdout"
        }
      ]
    },
    {
      "cell_type": "markdown",
      "metadata": {
        "id": "uh5xMhD8aT9H",
        "colab_type": "text"
      },
      "source": [
        "**학습**"
      ]
    },
    {
      "cell_type": "code",
      "metadata": {
        "id": "S-XpdL0CaKJh",
        "colab_type": "code",
        "colab": {
          "base_uri": "https://localhost:8080/",
          "height": 1000
        },
        "outputId": "20c773e0-c8d9-4137-fef0-53b5bda98c94"
      },
      "source": [
        "model.compile(loss='binary_crossentropy', optimizer='adam', metrics=['accuracy'])\n",
        "model.fit(X_train, y_train, epochs=100, batch_size=10)"
      ],
      "execution_count": 16,
      "outputs": [
        {
          "output_type": "stream",
          "text": [
            "WARNING:tensorflow:From /tensorflow-1.15.2/python3.6/tensorflow_core/python/ops/nn_impl.py:183: where (from tensorflow.python.ops.array_ops) is deprecated and will be removed in a future version.\n",
            "Instructions for updating:\n",
            "Use tf.where in 2.0, which has the same broadcast rule as np.where\n",
            "WARNING:tensorflow:From /usr/local/lib/python3.6/dist-packages/keras/backend/tensorflow_backend.py:422: The name tf.global_variables is deprecated. Please use tf.compat.v1.global_variables instead.\n",
            "\n",
            "Epoch 1/100\n",
            "668/668 [==============================] - 0s 589us/step - loss: 0.6540 - accuracy: 0.6003\n",
            "Epoch 2/100\n",
            "668/668 [==============================] - 0s 114us/step - loss: 0.6343 - accuracy: 0.6138\n",
            "Epoch 3/100\n",
            "668/668 [==============================] - 0s 135us/step - loss: 0.6294 - accuracy: 0.6138\n",
            "Epoch 4/100\n",
            "668/668 [==============================] - 0s 117us/step - loss: 0.6244 - accuracy: 0.6138\n",
            "Epoch 5/100\n",
            "668/668 [==============================] - 0s 117us/step - loss: 0.6212 - accuracy: 0.6287\n",
            "Epoch 6/100\n",
            "668/668 [==============================] - 0s 124us/step - loss: 0.6171 - accuracy: 0.6317\n",
            "Epoch 7/100\n",
            "668/668 [==============================] - 0s 126us/step - loss: 0.6141 - accuracy: 0.6512\n",
            "Epoch 8/100\n",
            "668/668 [==============================] - 0s 119us/step - loss: 0.6117 - accuracy: 0.6527\n",
            "Epoch 9/100\n",
            "668/668 [==============================] - 0s 120us/step - loss: 0.6094 - accuracy: 0.6602\n",
            "Epoch 10/100\n",
            "668/668 [==============================] - 0s 118us/step - loss: 0.6077 - accuracy: 0.6856\n",
            "Epoch 11/100\n",
            "668/668 [==============================] - 0s 119us/step - loss: 0.6049 - accuracy: 0.6841\n",
            "Epoch 12/100\n",
            "668/668 [==============================] - 0s 122us/step - loss: 0.6027 - accuracy: 0.6856\n",
            "Epoch 13/100\n",
            "668/668 [==============================] - 0s 114us/step - loss: 0.6007 - accuracy: 0.6856\n",
            "Epoch 14/100\n",
            "668/668 [==============================] - 0s 116us/step - loss: 0.5977 - accuracy: 0.6751\n",
            "Epoch 15/100\n",
            "668/668 [==============================] - 0s 120us/step - loss: 0.5990 - accuracy: 0.6871\n",
            "Epoch 16/100\n",
            "668/668 [==============================] - 0s 117us/step - loss: 0.5950 - accuracy: 0.6946\n",
            "Epoch 17/100\n",
            "668/668 [==============================] - 0s 118us/step - loss: 0.5938 - accuracy: 0.6916\n",
            "Epoch 18/100\n",
            "668/668 [==============================] - 0s 123us/step - loss: 0.5921 - accuracy: 0.6961\n",
            "Epoch 19/100\n",
            "668/668 [==============================] - 0s 127us/step - loss: 0.5911 - accuracy: 0.6886\n",
            "Epoch 20/100\n",
            "668/668 [==============================] - 0s 120us/step - loss: 0.5916 - accuracy: 0.6946\n",
            "Epoch 21/100\n",
            "668/668 [==============================] - 0s 118us/step - loss: 0.5915 - accuracy: 0.6916\n",
            "Epoch 22/100\n",
            "668/668 [==============================] - 0s 154us/step - loss: 0.5918 - accuracy: 0.7036\n",
            "Epoch 23/100\n",
            "668/668 [==============================] - 0s 118us/step - loss: 0.5881 - accuracy: 0.6976\n",
            "Epoch 24/100\n",
            "668/668 [==============================] - 0s 116us/step - loss: 0.5878 - accuracy: 0.7051\n",
            "Epoch 25/100\n",
            "668/668 [==============================] - 0s 122us/step - loss: 0.5890 - accuracy: 0.6961\n",
            "Epoch 26/100\n",
            "668/668 [==============================] - 0s 124us/step - loss: 0.5859 - accuracy: 0.6976\n",
            "Epoch 27/100\n",
            "668/668 [==============================] - 0s 119us/step - loss: 0.5873 - accuracy: 0.6931\n",
            "Epoch 28/100\n",
            "668/668 [==============================] - 0s 116us/step - loss: 0.5852 - accuracy: 0.7006\n",
            "Epoch 29/100\n",
            "668/668 [==============================] - 0s 126us/step - loss: 0.5850 - accuracy: 0.7036\n",
            "Epoch 30/100\n",
            "668/668 [==============================] - 0s 117us/step - loss: 0.5836 - accuracy: 0.6991\n",
            "Epoch 31/100\n",
            "668/668 [==============================] - 0s 127us/step - loss: 0.5833 - accuracy: 0.7066\n",
            "Epoch 32/100\n",
            "668/668 [==============================] - 0s 123us/step - loss: 0.5828 - accuracy: 0.7036\n",
            "Epoch 33/100\n",
            "668/668 [==============================] - 0s 118us/step - loss: 0.5829 - accuracy: 0.7006\n",
            "Epoch 34/100\n",
            "668/668 [==============================] - 0s 117us/step - loss: 0.5821 - accuracy: 0.7051\n",
            "Epoch 35/100\n",
            "668/668 [==============================] - 0s 119us/step - loss: 0.5816 - accuracy: 0.6991\n",
            "Epoch 36/100\n",
            "668/668 [==============================] - 0s 123us/step - loss: 0.5831 - accuracy: 0.7021\n",
            "Epoch 37/100\n",
            "668/668 [==============================] - 0s 119us/step - loss: 0.5825 - accuracy: 0.7006\n",
            "Epoch 38/100\n",
            "668/668 [==============================] - 0s 118us/step - loss: 0.5808 - accuracy: 0.6931\n",
            "Epoch 39/100\n",
            "668/668 [==============================] - 0s 117us/step - loss: 0.5788 - accuracy: 0.7021\n",
            "Epoch 40/100\n",
            "668/668 [==============================] - 0s 118us/step - loss: 0.5807 - accuracy: 0.6961\n",
            "Epoch 41/100\n",
            "668/668 [==============================] - 0s 117us/step - loss: 0.5809 - accuracy: 0.7036\n",
            "Epoch 42/100\n",
            "668/668 [==============================] - 0s 133us/step - loss: 0.5807 - accuracy: 0.7051\n",
            "Epoch 43/100\n",
            "668/668 [==============================] - 0s 124us/step - loss: 0.5795 - accuracy: 0.6976\n",
            "Epoch 44/100\n",
            "668/668 [==============================] - 0s 126us/step - loss: 0.5799 - accuracy: 0.6976\n",
            "Epoch 45/100\n",
            "668/668 [==============================] - 0s 122us/step - loss: 0.5787 - accuracy: 0.7006\n",
            "Epoch 46/100\n",
            "668/668 [==============================] - 0s 118us/step - loss: 0.5785 - accuracy: 0.7021\n",
            "Epoch 47/100\n",
            "668/668 [==============================] - 0s 119us/step - loss: 0.5783 - accuracy: 0.7066\n",
            "Epoch 48/100\n",
            "668/668 [==============================] - 0s 119us/step - loss: 0.5780 - accuracy: 0.7066\n",
            "Epoch 49/100\n",
            "668/668 [==============================] - 0s 117us/step - loss: 0.5771 - accuracy: 0.7051\n",
            "Epoch 50/100\n",
            "668/668 [==============================] - 0s 117us/step - loss: 0.5780 - accuracy: 0.6991\n",
            "Epoch 51/100\n",
            "668/668 [==============================] - 0s 126us/step - loss: 0.5780 - accuracy: 0.7066\n",
            "Epoch 52/100\n",
            "668/668 [==============================] - 0s 121us/step - loss: 0.5783 - accuracy: 0.6976\n",
            "Epoch 53/100\n",
            "668/668 [==============================] - 0s 119us/step - loss: 0.5763 - accuracy: 0.7081\n",
            "Epoch 54/100\n",
            "668/668 [==============================] - 0s 122us/step - loss: 0.5791 - accuracy: 0.7051\n",
            "Epoch 55/100\n",
            "668/668 [==============================] - 0s 131us/step - loss: 0.5778 - accuracy: 0.7096\n",
            "Epoch 56/100\n",
            "668/668 [==============================] - 0s 127us/step - loss: 0.5779 - accuracy: 0.7051\n",
            "Epoch 57/100\n",
            "668/668 [==============================] - 0s 123us/step - loss: 0.5764 - accuracy: 0.6991\n",
            "Epoch 58/100\n",
            "668/668 [==============================] - 0s 121us/step - loss: 0.5787 - accuracy: 0.6901\n",
            "Epoch 59/100\n",
            "668/668 [==============================] - 0s 115us/step - loss: 0.5770 - accuracy: 0.6991\n",
            "Epoch 60/100\n",
            "668/668 [==============================] - 0s 118us/step - loss: 0.5781 - accuracy: 0.7051\n",
            "Epoch 61/100\n",
            "668/668 [==============================] - 0s 126us/step - loss: 0.5761 - accuracy: 0.7096\n",
            "Epoch 62/100\n",
            "668/668 [==============================] - 0s 118us/step - loss: 0.5781 - accuracy: 0.7066\n",
            "Epoch 63/100\n",
            "668/668 [==============================] - 0s 122us/step - loss: 0.5771 - accuracy: 0.6886\n",
            "Epoch 64/100\n",
            "668/668 [==============================] - 0s 128us/step - loss: 0.5760 - accuracy: 0.7096\n",
            "Epoch 65/100\n",
            "668/668 [==============================] - 0s 119us/step - loss: 0.5755 - accuracy: 0.7081\n",
            "Epoch 66/100\n",
            "668/668 [==============================] - 0s 118us/step - loss: 0.5752 - accuracy: 0.7171\n",
            "Epoch 67/100\n",
            "668/668 [==============================] - 0s 133us/step - loss: 0.5752 - accuracy: 0.7081\n",
            "Epoch 68/100\n",
            "668/668 [==============================] - 0s 118us/step - loss: 0.5745 - accuracy: 0.6991\n",
            "Epoch 69/100\n",
            "668/668 [==============================] - 0s 118us/step - loss: 0.5763 - accuracy: 0.7096\n",
            "Epoch 70/100\n",
            "668/668 [==============================] - 0s 131us/step - loss: 0.5752 - accuracy: 0.7066\n",
            "Epoch 71/100\n",
            "668/668 [==============================] - 0s 119us/step - loss: 0.5753 - accuracy: 0.7096\n",
            "Epoch 72/100\n",
            "668/668 [==============================] - 0s 116us/step - loss: 0.5761 - accuracy: 0.6961\n",
            "Epoch 73/100\n",
            "668/668 [==============================] - 0s 120us/step - loss: 0.5766 - accuracy: 0.7051\n",
            "Epoch 74/100\n",
            "668/668 [==============================] - 0s 115us/step - loss: 0.5764 - accuracy: 0.7081\n",
            "Epoch 75/100\n",
            "668/668 [==============================] - 0s 120us/step - loss: 0.5753 - accuracy: 0.7051\n",
            "Epoch 76/100\n",
            "668/668 [==============================] - 0s 123us/step - loss: 0.5742 - accuracy: 0.7051\n",
            "Epoch 77/100\n",
            "668/668 [==============================] - 0s 114us/step - loss: 0.5750 - accuracy: 0.7036\n",
            "Epoch 78/100\n",
            "668/668 [==============================] - 0s 132us/step - loss: 0.5755 - accuracy: 0.6916\n",
            "Epoch 79/100\n",
            "668/668 [==============================] - 0s 145us/step - loss: 0.5745 - accuracy: 0.6976\n",
            "Epoch 80/100\n",
            "668/668 [==============================] - 0s 119us/step - loss: 0.5741 - accuracy: 0.7066\n",
            "Epoch 81/100\n",
            "668/668 [==============================] - 0s 121us/step - loss: 0.5739 - accuracy: 0.7036\n",
            "Epoch 82/100\n",
            "668/668 [==============================] - 0s 117us/step - loss: 0.5739 - accuracy: 0.7051\n",
            "Epoch 83/100\n",
            "668/668 [==============================] - 0s 119us/step - loss: 0.5737 - accuracy: 0.7036\n",
            "Epoch 84/100\n",
            "668/668 [==============================] - 0s 121us/step - loss: 0.5754 - accuracy: 0.6916\n",
            "Epoch 85/100\n",
            "668/668 [==============================] - 0s 119us/step - loss: 0.5754 - accuracy: 0.7096\n",
            "Epoch 86/100\n",
            "668/668 [==============================] - 0s 120us/step - loss: 0.5743 - accuracy: 0.6916\n",
            "Epoch 87/100\n",
            "668/668 [==============================] - 0s 119us/step - loss: 0.5746 - accuracy: 0.7066\n",
            "Epoch 88/100\n",
            "668/668 [==============================] - 0s 119us/step - loss: 0.5746 - accuracy: 0.7096\n",
            "Epoch 89/100\n",
            "668/668 [==============================] - 0s 118us/step - loss: 0.5737 - accuracy: 0.7096\n",
            "Epoch 90/100\n",
            "668/668 [==============================] - 0s 119us/step - loss: 0.5746 - accuracy: 0.7081\n",
            "Epoch 91/100\n",
            "668/668 [==============================] - 0s 125us/step - loss: 0.5740 - accuracy: 0.7006\n",
            "Epoch 92/100\n",
            "668/668 [==============================] - 0s 118us/step - loss: 0.5743 - accuracy: 0.7066\n",
            "Epoch 93/100\n",
            "668/668 [==============================] - 0s 125us/step - loss: 0.5737 - accuracy: 0.7111\n",
            "Epoch 94/100\n",
            "668/668 [==============================] - 0s 120us/step - loss: 0.5741 - accuracy: 0.7126\n",
            "Epoch 95/100\n",
            "668/668 [==============================] - 0s 121us/step - loss: 0.5741 - accuracy: 0.6991\n",
            "Epoch 96/100\n",
            "668/668 [==============================] - 0s 124us/step - loss: 0.5729 - accuracy: 0.7111\n",
            "Epoch 97/100\n",
            "668/668 [==============================] - 0s 120us/step - loss: 0.5735 - accuracy: 0.6946\n",
            "Epoch 98/100\n",
            "668/668 [==============================] - 0s 119us/step - loss: 0.5729 - accuracy: 0.7081\n",
            "Epoch 99/100\n",
            "668/668 [==============================] - 0s 128us/step - loss: 0.5718 - accuracy: 0.7051\n",
            "Epoch 100/100\n",
            "668/668 [==============================] - 0s 119us/step - loss: 0.5740 - accuracy: 0.7021\n"
          ],
          "name": "stdout"
        },
        {
          "output_type": "execute_result",
          "data": {
            "text/plain": [
              "<keras.callbacks.callbacks.History at 0x7f9bebe31c18>"
            ]
          },
          "metadata": {
            "tags": []
          },
          "execution_count": 16
        }
      ]
    },
    {
      "cell_type": "markdown",
      "metadata": {
        "id": "rePxMTVoaq6n",
        "colab_type": "text"
      },
      "source": [
        "**예측**"
      ]
    },
    {
      "cell_type": "code",
      "metadata": {
        "id": "8j3NnwAXajLv",
        "colab_type": "code",
        "colab": {
          "base_uri": "https://localhost:8080/",
          "height": 107
        },
        "outputId": "2ba33595-957d-419b-eff2-50f1f53a7333"
      },
      "source": [
        "pred = model.predict(X_val)\n",
        "pred[0:5]"
      ],
      "execution_count": 17,
      "outputs": [
        {
          "output_type": "execute_result",
          "data": {
            "text/plain": [
              "array([[0.22093228],\n",
              "       [0.26516956],\n",
              "       [0.3525183 ],\n",
              "       [0.22093228],\n",
              "       [0.38087678]], dtype=float32)"
            ]
          },
          "metadata": {
            "tags": []
          },
          "execution_count": 17
        }
      ]
    },
    {
      "cell_type": "code",
      "metadata": {
        "id": "N38HUatXa_L_",
        "colab_type": "code",
        "colab": {
          "base_uri": "https://localhost:8080/",
          "height": 35
        },
        "outputId": "b5c8ccdc-13a2-474a-d598-6660c92f4493"
      },
      "source": [
        "np.max(pred), np.min(pred)"
      ],
      "execution_count": 18,
      "outputs": [
        {
          "output_type": "execute_result",
          "data": {
            "text/plain": [
              "(0.936411, 0.0013149083)"
            ]
          },
          "metadata": {
            "tags": []
          },
          "execution_count": 18
        }
      ]
    },
    {
      "cell_type": "markdown",
      "metadata": {
        "id": "XqI8vJPtbFTv",
        "colab_type": "text"
      },
      "source": [
        "### **답안지 작성**"
      ]
    },
    {
      "cell_type": "code",
      "metadata": {
        "id": "J_SDhz7_ZdB3",
        "colab_type": "code",
        "colab": {
          "base_uri": "https://localhost:8080/",
          "height": 204
        },
        "outputId": "22d66978-f995-40b2-f801-530749d052ba"
      },
      "source": [
        "sub = pd.read_csv('gender_submission.csv')\n",
        "sub.head()"
      ],
      "execution_count": 19,
      "outputs": [
        {
          "output_type": "execute_result",
          "data": {
            "text/html": [
              "<div>\n",
              "<style scoped>\n",
              "    .dataframe tbody tr th:only-of-type {\n",
              "        vertical-align: middle;\n",
              "    }\n",
              "\n",
              "    .dataframe tbody tr th {\n",
              "        vertical-align: top;\n",
              "    }\n",
              "\n",
              "    .dataframe thead th {\n",
              "        text-align: right;\n",
              "    }\n",
              "</style>\n",
              "<table border=\"1\" class=\"dataframe\">\n",
              "  <thead>\n",
              "    <tr style=\"text-align: right;\">\n",
              "      <th></th>\n",
              "      <th>PassengerId</th>\n",
              "      <th>Survived</th>\n",
              "    </tr>\n",
              "  </thead>\n",
              "  <tbody>\n",
              "    <tr>\n",
              "      <th>0</th>\n",
              "      <td>892</td>\n",
              "      <td>0</td>\n",
              "    </tr>\n",
              "    <tr>\n",
              "      <th>1</th>\n",
              "      <td>893</td>\n",
              "      <td>1</td>\n",
              "    </tr>\n",
              "    <tr>\n",
              "      <th>2</th>\n",
              "      <td>894</td>\n",
              "      <td>0</td>\n",
              "    </tr>\n",
              "    <tr>\n",
              "      <th>3</th>\n",
              "      <td>895</td>\n",
              "      <td>0</td>\n",
              "    </tr>\n",
              "    <tr>\n",
              "      <th>4</th>\n",
              "      <td>896</td>\n",
              "      <td>1</td>\n",
              "    </tr>\n",
              "  </tbody>\n",
              "</table>\n",
              "</div>"
            ],
            "text/plain": [
              "   PassengerId  Survived\n",
              "0          892         0\n",
              "1          893         1\n",
              "2          894         0\n",
              "3          895         0\n",
              "4          896         1"
            ]
          },
          "metadata": {
            "tags": []
          },
          "execution_count": 19
        }
      ]
    },
    {
      "cell_type": "code",
      "metadata": {
        "id": "qSto3T13bN9L",
        "colab_type": "code",
        "colab": {
          "base_uri": "https://localhost:8080/",
          "height": 419
        },
        "outputId": "1af85bc5-2900-4da0-ad31-9c93acfd6975"
      },
      "source": [
        "sub['Survived'] = pred[:,0] > 0.5\n",
        "sub"
      ],
      "execution_count": 32,
      "outputs": [
        {
          "output_type": "execute_result",
          "data": {
            "text/html": [
              "<div>\n",
              "<style scoped>\n",
              "    .dataframe tbody tr th:only-of-type {\n",
              "        vertical-align: middle;\n",
              "    }\n",
              "\n",
              "    .dataframe tbody tr th {\n",
              "        vertical-align: top;\n",
              "    }\n",
              "\n",
              "    .dataframe thead th {\n",
              "        text-align: right;\n",
              "    }\n",
              "</style>\n",
              "<table border=\"1\" class=\"dataframe\">\n",
              "  <thead>\n",
              "    <tr style=\"text-align: right;\">\n",
              "      <th></th>\n",
              "      <th>PassengerId</th>\n",
              "      <th>Survived</th>\n",
              "    </tr>\n",
              "  </thead>\n",
              "  <tbody>\n",
              "    <tr>\n",
              "      <th>0</th>\n",
              "      <td>892</td>\n",
              "      <td>False</td>\n",
              "    </tr>\n",
              "    <tr>\n",
              "      <th>1</th>\n",
              "      <td>893</td>\n",
              "      <td>False</td>\n",
              "    </tr>\n",
              "    <tr>\n",
              "      <th>2</th>\n",
              "      <td>894</td>\n",
              "      <td>False</td>\n",
              "    </tr>\n",
              "    <tr>\n",
              "      <th>3</th>\n",
              "      <td>895</td>\n",
              "      <td>False</td>\n",
              "    </tr>\n",
              "    <tr>\n",
              "      <th>4</th>\n",
              "      <td>896</td>\n",
              "      <td>False</td>\n",
              "    </tr>\n",
              "    <tr>\n",
              "      <th>...</th>\n",
              "      <td>...</td>\n",
              "      <td>...</td>\n",
              "    </tr>\n",
              "    <tr>\n",
              "      <th>413</th>\n",
              "      <td>1305</td>\n",
              "      <td>False</td>\n",
              "    </tr>\n",
              "    <tr>\n",
              "      <th>414</th>\n",
              "      <td>1306</td>\n",
              "      <td>True</td>\n",
              "    </tr>\n",
              "    <tr>\n",
              "      <th>415</th>\n",
              "      <td>1307</td>\n",
              "      <td>False</td>\n",
              "    </tr>\n",
              "    <tr>\n",
              "      <th>416</th>\n",
              "      <td>1308</td>\n",
              "      <td>False</td>\n",
              "    </tr>\n",
              "    <tr>\n",
              "      <th>417</th>\n",
              "      <td>1309</td>\n",
              "      <td>False</td>\n",
              "    </tr>\n",
              "  </tbody>\n",
              "</table>\n",
              "<p>418 rows × 2 columns</p>\n",
              "</div>"
            ],
            "text/plain": [
              "     PassengerId  Survived\n",
              "0            892     False\n",
              "1            893     False\n",
              "2            894     False\n",
              "3            895     False\n",
              "4            896     False\n",
              "..           ...       ...\n",
              "413         1305     False\n",
              "414         1306      True\n",
              "415         1307     False\n",
              "416         1308     False\n",
              "417         1309     False\n",
              "\n",
              "[418 rows x 2 columns]"
            ]
          },
          "metadata": {
            "tags": []
          },
          "execution_count": 32
        }
      ]
    },
    {
      "cell_type": "code",
      "metadata": {
        "id": "nUDq-OhNYjYN",
        "colab_type": "code",
        "colab": {
          "base_uri": "https://localhost:8080/",
          "height": 419
        },
        "outputId": "a19343d7-a044-4dc1-b4b3-9c14a5ab00df"
      },
      "source": [
        "sub.Survived = sub.Survived.astype('int')\n",
        "sub"
      ],
      "execution_count": 47,
      "outputs": [
        {
          "output_type": "execute_result",
          "data": {
            "text/html": [
              "<div>\n",
              "<style scoped>\n",
              "    .dataframe tbody tr th:only-of-type {\n",
              "        vertical-align: middle;\n",
              "    }\n",
              "\n",
              "    .dataframe tbody tr th {\n",
              "        vertical-align: top;\n",
              "    }\n",
              "\n",
              "    .dataframe thead th {\n",
              "        text-align: right;\n",
              "    }\n",
              "</style>\n",
              "<table border=\"1\" class=\"dataframe\">\n",
              "  <thead>\n",
              "    <tr style=\"text-align: right;\">\n",
              "      <th></th>\n",
              "      <th>PassengerId</th>\n",
              "      <th>Survived</th>\n",
              "    </tr>\n",
              "  </thead>\n",
              "  <tbody>\n",
              "    <tr>\n",
              "      <th>0</th>\n",
              "      <td>892</td>\n",
              "      <td>0</td>\n",
              "    </tr>\n",
              "    <tr>\n",
              "      <th>1</th>\n",
              "      <td>893</td>\n",
              "      <td>0</td>\n",
              "    </tr>\n",
              "    <tr>\n",
              "      <th>2</th>\n",
              "      <td>894</td>\n",
              "      <td>0</td>\n",
              "    </tr>\n",
              "    <tr>\n",
              "      <th>3</th>\n",
              "      <td>895</td>\n",
              "      <td>0</td>\n",
              "    </tr>\n",
              "    <tr>\n",
              "      <th>4</th>\n",
              "      <td>896</td>\n",
              "      <td>0</td>\n",
              "    </tr>\n",
              "    <tr>\n",
              "      <th>...</th>\n",
              "      <td>...</td>\n",
              "      <td>...</td>\n",
              "    </tr>\n",
              "    <tr>\n",
              "      <th>413</th>\n",
              "      <td>1305</td>\n",
              "      <td>0</td>\n",
              "    </tr>\n",
              "    <tr>\n",
              "      <th>414</th>\n",
              "      <td>1306</td>\n",
              "      <td>1</td>\n",
              "    </tr>\n",
              "    <tr>\n",
              "      <th>415</th>\n",
              "      <td>1307</td>\n",
              "      <td>0</td>\n",
              "    </tr>\n",
              "    <tr>\n",
              "      <th>416</th>\n",
              "      <td>1308</td>\n",
              "      <td>0</td>\n",
              "    </tr>\n",
              "    <tr>\n",
              "      <th>417</th>\n",
              "      <td>1309</td>\n",
              "      <td>0</td>\n",
              "    </tr>\n",
              "  </tbody>\n",
              "</table>\n",
              "<p>418 rows × 2 columns</p>\n",
              "</div>"
            ],
            "text/plain": [
              "     PassengerId  Survived\n",
              "0            892         0\n",
              "1            893         0\n",
              "2            894         0\n",
              "3            895         0\n",
              "4            896         0\n",
              "..           ...       ...\n",
              "413         1305         0\n",
              "414         1306         1\n",
              "415         1307         0\n",
              "416         1308         0\n",
              "417         1309         0\n",
              "\n",
              "[418 rows x 2 columns]"
            ]
          },
          "metadata": {
            "tags": []
          },
          "execution_count": 47
        }
      ]
    },
    {
      "cell_type": "code",
      "metadata": {
        "id": "waqho0KOb_Q2",
        "colab_type": "code",
        "colab": {}
      },
      "source": [
        "sub.to_csv('titanic_sub_200529.csv', index=False)"
      ],
      "execution_count": 0,
      "outputs": []
    },
    {
      "cell_type": "code",
      "metadata": {
        "id": "0TJ7z9wDgH2i",
        "colab_type": "code",
        "colab": {}
      },
      "source": [
        ""
      ],
      "execution_count": 0,
      "outputs": []
    }
  ]
}