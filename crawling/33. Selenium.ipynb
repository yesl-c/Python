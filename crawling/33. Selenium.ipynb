{
 "cells": [
  {
   "cell_type": "markdown",
   "metadata": {},
   "source": [
    "### 기본 함수\n",
    " * 참조 URL : https://selenium-python.readthedocs.io/locating-elements.html\n",
    " * 하나의 정보를 가져오는 함수\n",
    "    * find_**element**_by_[id/name/xpath..]\n",
    " * 여러개의 정보를 가져오는 함수\n",
    "    * find_**elements**_by_[id/name/xpath..]"
   ]
  },
  {
   "cell_type": "markdown",
   "metadata": {},
   "source": [
    "```\n",
    "find_element_by_id\n",
    "find_element_by_name\n",
    "find_element_by_xpath\n",
    "find_element_by_link_text\n",
    "find_element_by_partial_link_text\n",
    "find_element_by_tag_name\n",
    "find_element_by_class_name\n",
    "find_element_by_css_selector\n",
    "```"
   ]
  },
  {
   "cell_type": "markdown",
   "metadata": {},
   "source": [
    "```\n",
    "find_elements_by_name\n",
    "find_elements_by_xpath\n",
    "find_elements_by_link_text\n",
    "find_elements_by_partial_link_text\n",
    "find_elements_by_tag_name\n",
    "find_elements_by_class_name\n",
    "find_elements_by_css_selector\n",
    "```"
   ]
  },
  {
   "cell_type": "code",
   "execution_count": 1,
   "metadata": {},
   "outputs": [],
   "source": [
    "from selenium import webdriver"
   ]
  },
  {
   "cell_type": "markdown",
   "metadata": {},
   "source": [
    "#### 드라이버 설정"
   ]
  },
  {
   "cell_type": "code",
   "execution_count": 2,
   "metadata": {},
   "outputs": [],
   "source": [
    "driver = webdriver.Chrome('chromedriver.exe')"
   ]
  },
  {
   "cell_type": "markdown",
   "metadata": {},
   "source": [
    "#### 웹 페이지 접속"
   ]
  },
  {
   "cell_type": "code",
   "execution_count": 3,
   "metadata": {},
   "outputs": [],
   "source": [
    "driver.get('https://www.naver.com/')"
   ]
  },
  {
   "cell_type": "markdown",
   "metadata": {},
   "source": [
    "#### 검색창에 검색어 입력하기\n",
    "* 검색창의 객체(정보)를 가져오기\n",
    "    * driver.find_element_by_xpath('xpath 정보')\n",
    "* 가져온 객체에 명령\n",
    "* xpath : //*[@id=\"query\"]"
   ]
  },
  {
   "cell_type": "code",
   "execution_count": 4,
   "metadata": {},
   "outputs": [],
   "source": [
    "search = driver.find_element_by_xpath('//*[@id=\"query\"]')"
   ]
  },
  {
   "cell_type": "code",
   "execution_count": 5,
   "metadata": {},
   "outputs": [],
   "source": [
    "search.send_keys('미세먼지')"
   ]
  },
  {
   "cell_type": "markdown",
   "metadata": {},
   "source": [
    "#### 검색 버튼 클릭\n",
    "* xpath : //*[@id=\"search_btn\"]"
   ]
  },
  {
   "cell_type": "code",
   "execution_count": 6,
   "metadata": {},
   "outputs": [],
   "source": [
    "search_btn = driver.find_element_by_xpath('//*[@id=\"search_btn\"]')"
   ]
  },
  {
   "cell_type": "code",
   "execution_count": 7,
   "metadata": {},
   "outputs": [],
   "source": [
    "search_btn.click()"
   ]
  },
  {
   "cell_type": "markdown",
   "metadata": {},
   "source": [
    "#### 연관검색어 가져오기"
   ]
  },
  {
   "cell_type": "code",
   "execution_count": 8,
   "metadata": {},
   "outputs": [],
   "source": [
    "from bs4 import BeautifulSoup"
   ]
  },
  {
   "cell_type": "code",
   "execution_count": 9,
   "metadata": {},
   "outputs": [
    {
     "data": {
      "text/plain": [
       "<title>미세먼지 : 네이버 통합검색</title>"
      ]
     },
     "execution_count": 9,
     "metadata": {},
     "output_type": "execute_result"
    }
   ],
   "source": [
    "page = driver.page_source\n",
    "soup = BeautifulSoup(page,'lxml')\n",
    "soup.title"
   ]
  },
  {
   "cell_type": "code",
   "execution_count": 10,
   "metadata": {},
   "outputs": [],
   "source": [
    "r_word = soup.find('ul', class_='_related_keyword_ul')\n",
    "word = r_word.find_all('a')\n",
    "\n",
    "keyword = []\n",
    "for one in word : \n",
    "    #print(one.text)\n",
    "    keyword.append(one.text)\n",
    "\n",
    "import pandas as pd\n",
    "key = pd.DataFrame({'keyword':keyword})\n",
    "\n",
    "key.to_excel('keyword.xlsx', index=False)"
   ]
  },
  {
   "cell_type": "markdown",
   "metadata": {},
   "source": [
    "### 실습 : https://pythonstart.github.io/web/ "
   ]
  },
  {
   "cell_type": "code",
   "execution_count": 16,
   "metadata": {},
   "outputs": [],
   "source": [
    "from selenium import webdriver\n",
    "\n",
    "driver = webdriver.Chrome('chromedriver')"
   ]
  },
  {
   "cell_type": "code",
   "execution_count": 17,
   "metadata": {},
   "outputs": [],
   "source": [
    "url = 'https://pythonstart.github.io/web/'\n",
    "driver.get(url)"
   ]
  },
  {
   "cell_type": "markdown",
   "metadata": {},
   "source": [
    "#### id를 이용한 접근\n",
    "* find_element_by_id('id명')"
   ]
  },
  {
   "cell_type": "code",
   "execution_count": 18,
   "metadata": {},
   "outputs": [
    {
     "data": {
      "text/plain": [
       "<selenium.webdriver.remote.webelement.WebElement (session=\"685b12c4785a247037a48e312ca56b4d\", element=\"9c0587f4-c71a-49ea-abaf-6c348fe2bfb8\")>"
      ]
     },
     "execution_count": 18,
     "metadata": {},
     "output_type": "execute_result"
    }
   ],
   "source": [
    "sel_id = driver.find_element_by_id('rank')\n",
    "sel_id"
   ]
  },
  {
   "cell_type": "code",
   "execution_count": 20,
   "metadata": {},
   "outputs": [
    {
     "name": "stdout",
     "output_type": "stream",
     "text": [
      "가져온 객체의 텍스트 : 10. 랭킹 정보 가져오기(웹 크롤링)\n",
      "태그명 : a\n"
     ]
    }
   ],
   "source": [
    "print('가져온 객체의 텍스트 :', sel_id.text)\n",
    "print('태그명 :', sel_id.tag_name)"
   ]
  },
  {
   "cell_type": "markdown",
   "metadata": {},
   "source": [
    "#### 태그 이름을 이용한 접근\n",
    "* find_element_by_tag_name\n",
    "* find_elements_by_tag_name"
   ]
  },
  {
   "cell_type": "code",
   "execution_count": 23,
   "metadata": {},
   "outputs": [
    {
     "data": {
      "text/plain": [
       "<selenium.webdriver.remote.webelement.WebElement (session=\"685b12c4785a247037a48e312ca56b4d\", element=\"c9c04666-1c86-4dd6-af73-07c45936310b\")>"
      ]
     },
     "execution_count": 23,
     "metadata": {},
     "output_type": "execute_result"
    }
   ],
   "source": [
    "sel_tag = driver.find_element_by_tag_name('h1')\n",
    "sel_tag"
   ]
  },
  {
   "cell_type": "code",
   "execution_count": 24,
   "metadata": {},
   "outputs": [
    {
     "name": "stdout",
     "output_type": "stream",
     "text": [
      "가져온 객체의 텍스트 : my web page\n",
      "태그명 : h1\n"
     ]
    }
   ],
   "source": [
    "print('가져온 객체의 텍스트 :', sel_tag.text)\n",
    "print('태그명 :', sel_tag.tag_name)"
   ]
  },
  {
   "cell_type": "markdown",
   "metadata": {},
   "source": [
    "#### a태그 전체 가져오기"
   ]
  },
  {
   "cell_type": "code",
   "execution_count": 25,
   "metadata": {},
   "outputs": [
    {
     "data": {
      "text/plain": [
       "[<selenium.webdriver.remote.webelement.WebElement (session=\"685b12c4785a247037a48e312ca56b4d\", element=\"89ebad9b-b7f7-45eb-83f3-80c46f22dc03\")>,\n",
       " <selenium.webdriver.remote.webelement.WebElement (session=\"685b12c4785a247037a48e312ca56b4d\", element=\"4f429aad-1110-4e69-a68e-4d7c8e9983c7\")>,\n",
       " <selenium.webdriver.remote.webelement.WebElement (session=\"685b12c4785a247037a48e312ca56b4d\", element=\"307dcab5-3f94-4b0f-a2ee-689520a89fb3\")>,\n",
       " <selenium.webdriver.remote.webelement.WebElement (session=\"685b12c4785a247037a48e312ca56b4d\", element=\"63a32aca-c309-4b0d-8b33-abec533e3ae6\")>,\n",
       " <selenium.webdriver.remote.webelement.WebElement (session=\"685b12c4785a247037a48e312ca56b4d\", element=\"4a9312d3-14c0-44f2-8836-672a8049fdac\")>,\n",
       " <selenium.webdriver.remote.webelement.WebElement (session=\"685b12c4785a247037a48e312ca56b4d\", element=\"6dfca613-7af6-41a7-8668-debc42a9d13b\")>,\n",
       " <selenium.webdriver.remote.webelement.WebElement (session=\"685b12c4785a247037a48e312ca56b4d\", element=\"42ca70da-d7b2-4b2e-99b0-2513a2faad7b\")>,\n",
       " <selenium.webdriver.remote.webelement.WebElement (session=\"685b12c4785a247037a48e312ca56b4d\", element=\"f1b27925-8265-4d40-a4cf-b29985dd265b\")>,\n",
       " <selenium.webdriver.remote.webelement.WebElement (session=\"685b12c4785a247037a48e312ca56b4d\", element=\"c41950bb-19e1-4703-a65b-8f3e373ff191\")>,\n",
       " <selenium.webdriver.remote.webelement.WebElement (session=\"685b12c4785a247037a48e312ca56b4d\", element=\"9c0587f4-c71a-49ea-abaf-6c348fe2bfb8\")>]"
      ]
     },
     "execution_count": 25,
     "metadata": {},
     "output_type": "execute_result"
    }
   ],
   "source": [
    "sel_a = driver.find_elements_by_tag_name('a')\n",
    "sel_a   # list 형태로 정보를 받아옴"
   ]
  },
  {
   "cell_type": "code",
   "execution_count": 30,
   "metadata": {},
   "outputs": [
    {
     "name": "stdout",
     "output_type": "stream",
     "text": [
      "01. 제목 가져오기(title)\n",
      "02. 텍스트 가져오기(p)\n",
      "03. 링크 가져오기(a)\n",
      "04. 이미지 정보 가져오기(img)\n",
      "05. 리스트 정보 가져오기(ul,ol)\n",
      "06. id를 활용한 정보 획득\n",
      "07. class를 활용한 정보 획득\n",
      "08. 하나의 이미지 다운로드\n",
      "09. 여러개의 이미지 다운로드\n",
      "10. 랭킹 정보 가져오기(웹 크롤링)\n"
     ]
    }
   ],
   "source": [
    "for a in sel_a:\n",
    "    print(a.text)"
   ]
  },
  {
   "cell_type": "markdown",
   "metadata": {},
   "source": [
    "#### name 속성을 이용한 접근"
   ]
  },
  {
   "cell_type": "code",
   "execution_count": 31,
   "metadata": {},
   "outputs": [
    {
     "data": {
      "text/plain": [
       "'02. 텍스트 가져오기(p)'"
      ]
     },
     "execution_count": 31,
     "metadata": {},
     "output_type": "execute_result"
    }
   ],
   "source": [
    "sel_name = driver.find_element_by_name('text_get')\n",
    "sel_name.text"
   ]
  },
  {
   "cell_type": "code",
   "execution_count": 34,
   "metadata": {},
   "outputs": [
    {
     "name": "stdout",
     "output_type": "stream",
     "text": [
      "01. 제목 가져오기(title)\n",
      "03. 링크 가져오기(a)\n"
     ]
    }
   ],
   "source": [
    "sel_names = driver.find_elements_by_name('link_get')\n",
    "for one in sel_names:\n",
    "    print(one.text)"
   ]
  },
  {
   "cell_type": "markdown",
   "metadata": {},
   "source": [
    "#### class 이름을 이용한 접근\n",
    "* find_element_by_class_name\n",
    "* find_elements_by_class_name"
   ]
  },
  {
   "cell_type": "markdown",
   "metadata": {},
   "source": [
    "#### selector를 이용한 접근\n",
    "* find_elements_by_css_selector"
   ]
  },
  {
   "cell_type": "markdown",
   "metadata": {},
   "source": [
    "```\n",
    "<style>\n",
    "   h1 {color:'blue'}\n",
    "   #rank {color:'blue'}\n",
    "   .class_n {color:'blue'}\n",
    "   a#rank {}\n",
    "</style>\n",
    "```"
   ]
  },
  {
   "cell_type": "markdown",
   "metadata": {},
   "source": [
    "```\n",
    "<html>\n",
    "<body>\n",
    "    <p class='content'>Content 부분</p>\n",
    "</body>\n",
    "</html>\n",
    "```"
   ]
  },
  {
   "cell_type": "code",
   "execution_count": 36,
   "metadata": {},
   "outputs": [
    {
     "data": {
      "text/plain": [
       "'10. 랭킹 정보 가져오기(웹 크롤링)'"
      ]
     },
     "execution_count": 36,
     "metadata": {},
     "output_type": "execute_result"
    }
   ],
   "source": [
    "sel_css = driver.find_element_by_css_selector('a#rank')\n",
    "sel_css.text"
   ]
  },
  {
   "cell_type": "code",
   "execution_count": 37,
   "metadata": {},
   "outputs": [
    {
     "data": {
      "text/plain": [
       "'01. 제목 가져오기(title)'"
      ]
     },
     "execution_count": 37,
     "metadata": {},
     "output_type": "execute_result"
    }
   ],
   "source": [
    "sel_css = driver.find_element_by_css_selector('ul a')\n",
    "sel_css.text"
   ]
  },
  {
   "cell_type": "code",
   "execution_count": 38,
   "metadata": {},
   "outputs": [
    {
     "name": "stdout",
     "output_type": "stream",
     "text": [
      "01. 제목 가져오기(title)\n",
      "02. 텍스트 가져오기(p)\n",
      "03. 링크 가져오기(a)\n",
      "04. 이미지 정보 가져오기(img)\n",
      "05. 리스트 정보 가져오기(ul,ol)\n",
      "06. id를 활용한 정보 획득\n",
      "07. class를 활용한 정보 획득\n",
      "08. 하나의 이미지 다운로드\n",
      "09. 여러개의 이미지 다운로드\n",
      "10. 랭킹 정보 가져오기(웹 크롤링)\n"
     ]
    }
   ],
   "source": [
    "sel_css = driver.find_elements_by_css_selector('ul a')\n",
    "\n",
    "for one in sel_css:\n",
    "    print(one.text)"
   ]
  },
  {
   "cell_type": "code",
   "execution_count": 39,
   "metadata": {},
   "outputs": [
    {
     "data": {
      "text/plain": [
       "'10. 랭킹 정보 가져오기(웹 크롤링)'"
      ]
     },
     "execution_count": 39,
     "metadata": {},
     "output_type": "execute_result"
    }
   ],
   "source": [
    "sel_css = driver.find_element_by_css_selector('body ul a#rank')\n",
    "sel_css.text"
   ]
  },
  {
   "cell_type": "markdown",
   "metadata": {},
   "source": [
    "#### 마우스 제어"
   ]
  },
  {
   "cell_type": "code",
   "execution_count": 41,
   "metadata": {},
   "outputs": [],
   "source": [
    "# 클릭해서 해당 페이지로 이동\n",
    "sel_3 = driver.find_element_by_xpath('/html/body/ul/a[3]')\n",
    "sel_3.click()"
   ]
  },
  {
   "cell_type": "code",
   "execution_count": 42,
   "metadata": {},
   "outputs": [
    {
     "data": {
      "text/plain": [
       "<html><head>\n",
       "<title>나의 웹 페이지</title>\n",
       "</head>\n",
       "<body>\n",
       "<h1> my web page </h1>\n",
       "<ul>\n",
       "<a href=\"./01.html\" name=\"link_get\" target=\"_blank\"> 01. 제목 가져오기(title) </a> <br/>\n",
       "<a href=\"./02.html\" name=\"text_get\" target=\"_blank\"> 02. 텍스트 가져오기(p) </a> <br/>\n",
       "<a href=\"./03.html\" name=\"link_get\" target=\"_blank\"> 03. 링크 가져오기(a) </a> <br/>\n",
       "<a href=\"https://pythonstart.github.io/web/04.html\" target=\"_blank\"> 04. 이미지 정보 가져오기(img) </a> <br/>\n",
       "<a href=\"./05.html\" target=\"_blank\"> 05. 리스트 정보 가져오기(ul,ol) </a> <br/>\n",
       "<a href=\"./06.html\" target=\"_blank\"> 06. id를 활용한 정보 획득 </a> <br/>\n",
       "<a href=\"./07.html\" target=\"_blank\"> 07. class를 활용한 정보 획득 </a> <br/>\n",
       "<a href=\"./08.html\" target=\"_blank\"> 08. 하나의 이미지 다운로드 </a> <br/>\n",
       "<a href=\"https://pythonstart.github.io/web/09.html\" target=\"_blank\"> 09. 여러개의 이미지 다운로드 </a> <br/>\n",
       "<a href=\"./10.html\" id=\"rank\" target=\"_blank\"> 10. 랭킹 정보 가져오기(웹 크롤링) </a> <br/>\n",
       "</ul>\n",
       "</body></html>"
      ]
     },
     "execution_count": 42,
     "metadata": {},
     "output_type": "execute_result"
    }
   ],
   "source": [
    "page = driver.page_source\n",
    "soup = BeautifulSoup(page,'lxml')\n",
    "soup"
   ]
  },
  {
   "cell_type": "code",
   "execution_count": null,
   "metadata": {},
   "outputs": [],
   "source": []
  }
 ],
 "metadata": {
  "kernelspec": {
   "display_name": "Python 3",
   "language": "python",
   "name": "python3"
  },
  "language_info": {
   "codemirror_mode": {
    "name": "ipython",
    "version": 3
   },
   "file_extension": ".py",
   "mimetype": "text/x-python",
   "name": "python",
   "nbconvert_exporter": "python",
   "pygments_lexer": "ipython3",
   "version": "3.7.1"
  }
 },
 "nbformat": 4,
 "nbformat_minor": 2
}
