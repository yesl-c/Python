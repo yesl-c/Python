{
  "nbformat": 4,
  "nbformat_minor": 0,
  "metadata": {
    "colab": {
      "name": "01. konlpy_with_colab.ipynb",
      "provenance": []
    },
    "kernelspec": {
      "name": "python3",
      "display_name": "Python 3"
    }
  },
  "cells": [
    {
      "cell_type": "markdown",
      "metadata": {
        "id": "YCtN4Ljz5ZUQ",
        "colab_type": "text"
      },
      "source": [
        "### Colab 환경에서의 자연어 처리 시작하기\n",
        "\n",
        "#### 1-1 한글 폰트 설정\n",
        "#### 1-2 한글 적용 확인\n",
        "#### 1-3 konlpy 설치\n",
        "#### 1-4 한글 엔진을 이용한 간단한 예제"
      ]
    },
    {
      "cell_type": "code",
      "metadata": {
        "id": "y2_lki0W_bkA",
        "colab_type": "code",
        "colab": {}
      },
      "source": [
        "# Commented out IPython magic to ensure Python compatibility.\n",
        "# %matplotlib inline\n",
        "import matplotlib as mpl             # 기본 설정 만지는 용도\n",
        "import matplotlib.pyplot as plt      # 그래프 그리는 용도\n",
        "import matplotlib.font_manager as fm # 폰트 관련 용도"
      ],
      "execution_count": 0,
      "outputs": []
    },
    {
      "cell_type": "markdown",
      "metadata": {
        "id": "MUwUIc749-m_",
        "colab_type": "text"
      },
      "source": [
        "### colab 환경에서 한글 적용을 위한 나눔 고딕 설치"
      ]
    },
    {
      "cell_type": "code",
      "metadata": {
        "id": "-IfCCQeR-M5Q",
        "colab_type": "code",
        "colab": {
          "base_uri": "https://localhost:8080/",
          "height": 341
        },
        "outputId": "99c71d72-d9ba-4311-fcc9-dc7f12aa261a"
      },
      "source": [
        "### 나눔 고딕 설치  \n",
        "!apt-get update -qq   # 설치를 업데이트   -qq  : 로그를 최소한으로\n",
        "!apt-get install fonts-nanum* -qq # 설치한다. fonts-nanum*   =>  ttf-nanum, ttf-nanum-coding, ttf-nanum-extra ]"
      ],
      "execution_count": 2,
      "outputs": [
        {
          "output_type": "stream",
          "text": [
            "Selecting previously unselected package fonts-nanum.\n",
            "(Reading database ... \r(Reading database ... 5%\r(Reading database ... 10%\r(Reading database ... 15%\r(Reading database ... 20%\r(Reading database ... 25%\r(Reading database ... 30%\r(Reading database ... 35%\r(Reading database ... 40%\r(Reading database ... 45%\r(Reading database ... 50%\r(Reading database ... 55%\r(Reading database ... 60%\r(Reading database ... 65%\r(Reading database ... 70%\r(Reading database ... 75%\r(Reading database ... 80%\r(Reading database ... 85%\r(Reading database ... 90%\r(Reading database ... 95%\r(Reading database ... 100%\r(Reading database ... 144429 files and directories currently installed.)\n",
            "Preparing to unpack .../fonts-nanum_20170925-1_all.deb ...\n",
            "Unpacking fonts-nanum (20170925-1) ...\n",
            "Selecting previously unselected package fonts-nanum-eco.\n",
            "Preparing to unpack .../fonts-nanum-eco_1.000-6_all.deb ...\n",
            "Unpacking fonts-nanum-eco (1.000-6) ...\n",
            "Selecting previously unselected package fonts-nanum-extra.\n",
            "Preparing to unpack .../fonts-nanum-extra_20170925-1_all.deb ...\n",
            "Unpacking fonts-nanum-extra (20170925-1) ...\n",
            "Selecting previously unselected package fonts-nanum-coding.\n",
            "Preparing to unpack .../fonts-nanum-coding_2.5-1_all.deb ...\n",
            "Unpacking fonts-nanum-coding (2.5-1) ...\n",
            "Setting up fonts-nanum-extra (20170925-1) ...\n",
            "Setting up fonts-nanum (20170925-1) ...\n",
            "Setting up fonts-nanum-coding (2.5-1) ...\n",
            "Setting up fonts-nanum-eco (1.000-6) ...\n",
            "Processing triggers for fontconfig (2.12.6-0ubuntu2) ...\n"
          ],
          "name": "stdout"
        }
      ]
    },
    {
      "cell_type": "code",
      "metadata": {
        "id": "iW5ouSgD_Cww",
        "colab_type": "code",
        "colab": {
          "base_uri": "https://localhost:8080/",
          "height": 35
        },
        "outputId": "cc949ff5-6b3b-4755-b0e7-3ccbf7a6ba7a"
      },
      "source": [
        "path = '/usr/share/fonts/truetype/nanum/NanumGothicEco.ttf' # 설치된 나눔 글꼴중 원하는 녀석의 전체\n",
        "font_name = fm.FontProperties(fname=path, size=10).get_name()\n",
        "print(font_name)\n",
        "plt.rc('font', family=font_name)"
      ],
      "execution_count": 6,
      "outputs": [
        {
          "output_type": "stream",
          "text": [
            "NanumGothic Eco\n"
          ],
          "name": "stdout"
        }
      ]
    },
    {
      "cell_type": "code",
      "metadata": {
        "id": "cKjHa2Kh_Dd9",
        "colab_type": "code",
        "colab": {}
      },
      "source": [
        "# 우선 fm._rebuild() 를 해주고 # 폰트 매니저 재빌드가 필요하다.\n",
        "fm._rebuild()"
      ],
      "execution_count": 0,
      "outputs": []
    },
    {
      "cell_type": "markdown",
      "metadata": {
        "id": "qos88ebl_2uw",
        "colab_type": "text"
      },
      "source": [
        "### 런타임 재기동 후, \n",
        " * (방법 1) CTRL + M . 을 실행 \n",
        " * (방법 2) 메뉴의 런타임 선택 후, 런타임 다시 시작 선택\n",
        " * 데이터 준비\n",
        " * 라이브러리 import \n",
        " * 폰트 설정 후, 확인"
      ]
    },
    {
      "cell_type": "code",
      "metadata": {
        "id": "GNsBjl4E_LWv",
        "colab_type": "code",
        "colab": {}
      },
      "source": [
        "# Commented out IPython magic to ensure Python compatibility.\n",
        "# %matplotlib inline\n",
        "import matplotlib as mpl # 기본 설정 만지는 용도\n",
        "import matplotlib.pyplot as plt # 그래프 그리는 용도\n",
        "import matplotlib.font_manager as fm # 폰트 관련 용도\n",
        "import numpy as np"
      ],
      "execution_count": 0,
      "outputs": []
    },
    {
      "cell_type": "code",
      "metadata": {
        "id": "M5V2xt_i_i1w",
        "colab_type": "code",
        "colab": {
          "base_uri": "https://localhost:8080/",
          "height": 35
        },
        "outputId": "8395074b-1115-48ba-d875-55e9f7c71d54"
      },
      "source": [
        "path = '/usr/share/fonts/truetype/nanum/NanumGothicEco.ttf' # 설치된 나눔글꼴중 원하는 녀석의 전체\n",
        "font_name = fm.FontProperties(fname=path, size=10).get_name()\n",
        "print(font_name)\n",
        "plt.rc('font', family=font_name)\n",
        "\n",
        "# 음수 표시되도록 설정\n",
        "mpl.rcParams['axes.unicode_minus'] = False\n"
      ],
      "execution_count": 2,
      "outputs": [
        {
          "output_type": "stream",
          "text": [
            "NanumGothic Eco\n"
          ],
          "name": "stdout"
        }
      ]
    },
    {
      "cell_type": "code",
      "metadata": {
        "id": "FD2liFvJ_kd9",
        "colab_type": "code",
        "colab": {
          "base_uri": "https://localhost:8080/",
          "height": 293
        },
        "outputId": "de3eeca7-2742-4e3a-db71-9ab056bb0ba2"
      },
      "source": [
        "# 데이터 준비\n",
        "data = np.random.randint(-200, 100, 50).cumsum()\n",
        "data\n",
        "\n",
        "# 그래프를 그려보자. 이번에는 정상\n",
        "plt.plot(range(50), data, 'r')\n",
        "plt.title('시간별 가격 추이')\n",
        "plt.ylabel('주식 가격')\n",
        "plt.xlabel('시간(분)')\n",
        "plt.style.use('seaborn-pastel')\n",
        "plt.show()"
      ],
      "execution_count": 3,
      "outputs": [
        {
          "output_type": "display_data",
          "data": {
            "image/png": "[encoded data removed]",
            "text/plain": [
              "<Figure size 432x288 with 1 Axes>"
            ]
          },
          "metadata": {
            "tags": [],
            "needs_background": "light"
          }
        }
      ]
    },
    {
      "cell_type": "markdown",
      "metadata": {
        "id": "pb2iaJb1ATud",
        "colab_type": "text"
      },
      "source": [
        "### 1-3 konlpy 설치\n",
        "  * pip install konlpy"
      ]
    },
    {
      "cell_type": "code",
      "metadata": {
        "id": "TICBcRSvAjb4",
        "colab_type": "code",
        "colab": {
          "base_uri": "https://localhost:8080/",
          "height": 593
        },
        "outputId": "06b04850-bb40-4ccf-bb1b-8e30f75f3aac"
      },
      "source": [
        "!pip install konlpy"
      ],
      "execution_count": 4,
      "outputs": [
        {
          "output_type": "stream",
          "text": [
            "Collecting konlpy\n",
            "\u001b[?25l  Downloading https://files.pythonhosted.org/packages/85/0e/f385566fec837c0b83f216b2da65db9997b35dd675e107752005b7d392b1/konlpy-0.5.2-py2.py3-none-any.whl (19.4MB)\n",
            "\u001b[K     |████████████████████████████████| 19.4MB 1.2MB/s \n",
            "\u001b[?25hCollecting beautifulsoup4==4.6.0\n",
            "\u001b[?25l  Downloading https://files.pythonhosted.org/packages/9e/d4/10f46e5cfac773e22707237bfcd51bbffeaf0a576b0a847ec7ab15bd7ace/beautifulsoup4-4.6.0-py3-none-any.whl (86kB)\n",
            "\u001b[K     |████████████████████████████████| 92kB 12.5MB/s \n",
            "\u001b[?25hCollecting tweepy>=3.7.0\n",
            "  Downloading https://files.pythonhosted.org/packages/36/1b/2bd38043d22ade352fc3d3902cf30ce0e2f4bf285be3b304a2782a767aec/tweepy-3.8.0-py2.py3-none-any.whl\n",
            "Collecting colorama\n",
            "  Downloading https://files.pythonhosted.org/packages/c9/dc/45cdef1b4d119eb96316b3117e6d5708a08029992b2fee2c143c7a0a5cc5/colorama-0.4.3-py2.py3-none-any.whl\n",
            "Requirement already satisfied: numpy>=1.6 in /usr/local/lib/python3.6/dist-packages (from konlpy) (1.18.4)\n",
            "Collecting JPype1>=0.7.0\n",
            "\u001b[?25l  Downloading https://files.pythonhosted.org/packages/ee/99/7c79cb6801b57fc6dfc7033d9c4c00e0d2892df3b903ff6c269fb76c8442/JPype1-0.7.4-cp36-cp36m-manylinux1_x86_64.whl (2.9MB)\n",
            "\u001b[K     |████████████████████████████████| 2.9MB 45.3MB/s \n",
            "\u001b[?25hRequirement already satisfied: lxml>=4.1.0 in /usr/local/lib/python3.6/dist-packages (from konlpy) (4.2.6)\n",
            "Requirement already satisfied: PySocks>=1.5.7 in /usr/local/lib/python3.6/dist-packages (from tweepy>=3.7.0->konlpy) (1.7.1)\n",
            "Requirement already satisfied: requests-oauthlib>=0.7.0 in /usr/local/lib/python3.6/dist-packages (from tweepy>=3.7.0->konlpy) (1.3.0)\n",
            "Requirement already satisfied: six>=1.10.0 in /usr/local/lib/python3.6/dist-packages (from tweepy>=3.7.0->konlpy) (1.12.0)\n",
            "Requirement already satisfied: requests>=2.11.1 in /usr/local/lib/python3.6/dist-packages (from tweepy>=3.7.0->konlpy) (2.23.0)\n",
            "Requirement already satisfied: oauthlib>=3.0.0 in /usr/local/lib/python3.6/dist-packages (from requests-oauthlib>=0.7.0->tweepy>=3.7.0->konlpy) (3.1.0)\n",
            "Requirement already satisfied: chardet<4,>=3.0.2 in /usr/local/lib/python3.6/dist-packages (from requests>=2.11.1->tweepy>=3.7.0->konlpy) (3.0.4)\n",
            "Requirement already satisfied: urllib3!=1.25.0,!=1.25.1,<1.26,>=1.21.1 in /usr/local/lib/python3.6/dist-packages (from requests>=2.11.1->tweepy>=3.7.0->konlpy) (1.24.3)\n",
            "Requirement already satisfied: idna<3,>=2.5 in /usr/local/lib/python3.6/dist-packages (from requests>=2.11.1->tweepy>=3.7.0->konlpy) (2.9)\n",
            "Requirement already satisfied: certifi>=2017.4.17 in /usr/local/lib/python3.6/dist-packages (from requests>=2.11.1->tweepy>=3.7.0->konlpy) (2020.4.5.1)\n",
            "Installing collected packages: beautifulsoup4, tweepy, colorama, JPype1, konlpy\n",
            "  Found existing installation: beautifulsoup4 4.6.3\n",
            "    Uninstalling beautifulsoup4-4.6.3:\n",
            "      Successfully uninstalled beautifulsoup4-4.6.3\n",
            "  Found existing installation: tweepy 3.6.0\n",
            "    Uninstalling tweepy-3.6.0:\n",
            "      Successfully uninstalled tweepy-3.6.0\n",
            "Successfully installed JPype1-0.7.4 beautifulsoup4-4.6.0 colorama-0.4.3 konlpy-0.5.2 tweepy-3.8.0\n"
          ],
          "name": "stdout"
        }
      ]
    },
    {
      "cell_type": "code",
      "metadata": {
        "id": "GPp0HuXCAr99",
        "colab_type": "code",
        "colab": {}
      },
      "source": [
        "import nltk   # 자연어 처리"
      ],
      "execution_count": 0,
      "outputs": []
    },
    {
      "cell_type": "markdown",
      "metadata": {
        "id": "xDUKvaa_BOvf",
        "colab_type": "text"
      },
      "source": [
        "### 꼬꼬마를 이용한 분석 \n",
        "  * 문장 분석\n",
        "  * 명사 분석\n",
        "  * 형태소 분석"
      ]
    },
    {
      "cell_type": "code",
      "metadata": {
        "id": "hv2g3r9hBTDP",
        "colab_type": "code",
        "colab": {
          "base_uri": "https://localhost:8080/",
          "height": 53
        },
        "outputId": "c0814d40-976e-45cf-c216-4d1aa197a816"
      },
      "source": [
        "%%time\n",
        "\n",
        "from konlpy.tag import Kkma\n",
        "k = Kkma()\n",
        "\n",
        "# 문장분석\n",
        "k.sentences('안녕하세요! 오늘은 한글 분석을 해 볼게요.')"
      ],
      "execution_count": 15,
      "outputs": [
        {
          "output_type": "stream",
          "text": [
            "CPU times: user 92.8 ms, sys: 6.94 ms, total: 99.8 ms\n",
            "Wall time: 66.7 ms\n"
          ],
          "name": "stdout"
        }
      ]
    },
    {
      "cell_type": "code",
      "metadata": {
        "id": "mvoOS5gfBpkr",
        "colab_type": "code",
        "colab": {
          "base_uri": "https://localhost:8080/",
          "height": 35
        },
        "outputId": "0f750027-260d-47ec-99ba-7370ff03df79"
      },
      "source": [
        "# 명사분석\n",
        "k.nouns('안녕하세요! 오늘은 한글 분석을 해 볼게요.')"
      ],
      "execution_count": 7,
      "outputs": [
        {
          "output_type": "execute_result",
          "data": {
            "text/plain": [
              "['안녕', '오늘', '한글', '분석']"
            ]
          },
          "metadata": {
            "tags": []
          },
          "execution_count": 7
        }
      ]
    },
    {
      "cell_type": "code",
      "metadata": {
        "id": "cgb3S-oZB8XV",
        "colab_type": "code",
        "colab": {
          "base_uri": "https://localhost:8080/",
          "height": 269
        },
        "outputId": "efd80772-3fcf-4cda-abc3-dbfbacf77607"
      },
      "source": [
        "# 형태소분석\n",
        "k.pos('안녕하세요! 오늘은 한글 분석을 해 볼게요.')"
      ],
      "execution_count": 8,
      "outputs": [
        {
          "output_type": "execute_result",
          "data": {
            "text/plain": [
              "[('안녕', 'NNG'),\n",
              " ('하', 'XSV'),\n",
              " ('세요', 'EFN'),\n",
              " ('!', 'SF'),\n",
              " ('오늘', 'NNG'),\n",
              " ('은', 'JX'),\n",
              " ('한글', 'NNG'),\n",
              " ('분석', 'NNG'),\n",
              " ('을', 'JKO'),\n",
              " ('하', 'VV'),\n",
              " ('어', 'ECS'),\n",
              " ('보', 'VXV'),\n",
              " ('ㄹ게요', 'EFN'),\n",
              " ('.', 'SF')]"
            ]
          },
          "metadata": {
            "tags": []
          },
          "execution_count": 8
        }
      ]
    },
    {
      "cell_type": "markdown",
      "metadata": {
        "id": "zsUx-JKGCDZj",
        "colab_type": "text"
      },
      "source": [
        "* http://kkma.snu.ac.kr/documents/index.jsp?doc=postag : 한글 형태소 분석기 품사 태그표\n",
        "* (예) NNG : 일반 명사, XSV : 동사 파생 접미사, EFN : 평서형 종결 어미"
      ]
    },
    {
      "cell_type": "markdown",
      "metadata": {
        "id": "zE6Kc3muCONP",
        "colab_type": "text"
      },
      "source": [
        "### 또 다른 한글 엔진 사용해 보기\n",
        " * 한나눔 한글 엔진 사용해 보기\n",
        " * Okt 엔진 사용해 보기"
      ]
    },
    {
      "cell_type": "code",
      "metadata": {
        "id": "pPV2ASPmCgC3",
        "colab_type": "code",
        "colab": {}
      },
      "source": [
        "from konlpy.tag import Hannanum"
      ],
      "execution_count": 0,
      "outputs": []
    },
    {
      "cell_type": "code",
      "metadata": {
        "id": "nyB1R_H_CkU5",
        "colab_type": "code",
        "colab": {
          "base_uri": "https://localhost:8080/",
          "height": 35
        },
        "outputId": "ff270ce0-083c-462d-b4e5-33ad0c7c21b2"
      },
      "source": [
        "han = Hannanum()\n",
        "han.nouns('안녕하세요! 오늘은 한글 분석을 해 볼게요.')"
      ],
      "execution_count": 10,
      "outputs": [
        {
          "output_type": "execute_result",
          "data": {
            "text/plain": [
              "['안녕', '오늘', '한글', '분석', '볼게요']"
            ]
          },
          "metadata": {
            "tags": []
          },
          "execution_count": 10
        }
      ]
    },
    {
      "cell_type": "code",
      "metadata": {
        "id": "9TsTnrUxCtmW",
        "colab_type": "code",
        "colab": {
          "base_uri": "https://localhost:8080/",
          "height": 377
        },
        "outputId": "dbc77af2-6851-482c-cf7c-762e683a6f2b"
      },
      "source": [
        "han.analyze('안녕하세요! 오늘은 한글 분석을 해 볼게요.')"
      ],
      "execution_count": 11,
      "outputs": [
        {
          "output_type": "execute_result",
          "data": {
            "text/plain": [
              "[[[('안녕', 'ncps'), ('하세', 'ncpa'), ('요', 'ncn')],\n",
              "  [('안녕', 'ncps'), ('하', 'xsms'), ('세요', 'ef')],\n",
              "  [('안녕', 'ncps'), ('하', 'xsms'), ('세', 'ef'), ('요', 'jxf')]],\n",
              " [[('!', 'sf')]],\n",
              " [],\n",
              " [[('오늘', 'ncn'), ('은', 'jxc')], [('오늘', 'ncn'), ('은', 'ncn')]],\n",
              " [[('한글', 'ncn')], [('한글', 'nqq')]],\n",
              " [[('분석', 'ncpa'), ('을', 'jco')]],\n",
              " [[('하', 'pvg'), ('어', 'ecx')],\n",
              "  [('하', 'pvg'), ('어', 'ecc')],\n",
              "  [('하', 'pvg'), ('어', 'ecs')],\n",
              "  [('하', 'pvg'), ('어', 'ef')],\n",
              "  [('하', 'px'), ('어', 'ecx')],\n",
              "  [('하', 'px'), ('어', 'ecc')],\n",
              "  [('하', 'px'), ('어', 'ecs')],\n",
              "  [('하', 'px'), ('어', 'ef')],\n",
              "  [('해', 'nbu')],\n",
              "  [('해', 'ncn')]],\n",
              " [[('볼게요', 'ncn')], [('볼게요', 'nqq')]],\n",
              " [[('.', 'sf')], [('.', 'sy')]]]"
            ]
          },
          "metadata": {
            "tags": []
          },
          "execution_count": 11
        }
      ]
    },
    {
      "cell_type": "code",
      "metadata": {
        "id": "634F_SwvC2Hn",
        "colab_type": "code",
        "colab": {
          "base_uri": "https://localhost:8080/",
          "height": 35
        },
        "outputId": "60118613-d6c0-48bc-efa1-be811446b2ba"
      },
      "source": [
        "han.morphs('안녕하세요! 오늘은 한글 분석을 해 볼게요.')"
      ],
      "execution_count": 12,
      "outputs": [
        {
          "output_type": "execute_result",
          "data": {
            "text/plain": [
              "['안녕', '하', '세', '요', '!', '오늘', '은', '한글', '분석', '을', '하', '어', '볼게요', '.']"
            ]
          },
          "metadata": {
            "tags": []
          },
          "execution_count": 12
        }
      ]
    },
    {
      "cell_type": "code",
      "metadata": {
        "id": "SwRRU47wC83F",
        "colab_type": "code",
        "colab": {
          "base_uri": "https://localhost:8080/",
          "height": 269
        },
        "outputId": "e22ff3ac-450f-4094-cb2d-bc0d8d7dd20f"
      },
      "source": [
        "han.pos('안녕하세요! 오늘은 한글 분석을 해 볼게요.')"
      ],
      "execution_count": 13,
      "outputs": [
        {
          "output_type": "execute_result",
          "data": {
            "text/plain": [
              "[('안녕', 'N'),\n",
              " ('하', 'X'),\n",
              " ('세', 'E'),\n",
              " ('요', 'J'),\n",
              " ('!', 'S'),\n",
              " ('오늘', 'N'),\n",
              " ('은', 'J'),\n",
              " ('한글', 'N'),\n",
              " ('분석', 'N'),\n",
              " ('을', 'J'),\n",
              " ('하', 'P'),\n",
              " ('어', 'E'),\n",
              " ('볼게요', 'N'),\n",
              " ('.', 'S')]"
            ]
          },
          "metadata": {
            "tags": []
          },
          "execution_count": 13
        }
      ]
    },
    {
      "cell_type": "markdown",
      "metadata": {
        "id": "Rm8MMz2AEAvv",
        "colab_type": "text"
      },
      "source": [
        "### 한글 엔진별 가동시간"
      ]
    },
    {
      "cell_type": "code",
      "metadata": {
        "id": "EPpGzWzoDAOg",
        "colab_type": "code",
        "colab": {
          "base_uri": "https://localhost:8080/",
          "height": 53
        },
        "outputId": "fcaa32aa-9951-4286-c95f-0353978aa9e7"
      },
      "source": [
        "%%time\n",
        "\n",
        "from konlpy.tag import Kkma\n",
        "k = Kkma()\n",
        "k.sentences('안녕하세요! 오늘은 한글 분석을 해 볼게요.')\n",
        "k.nouns('안녕하세요! 오늘은 한글 분석을 해 볼게요.')\n",
        "k.pos('안녕하세요! 오늘은 한글 분석을 해 볼게요.')"
      ],
      "execution_count": 17,
      "outputs": [
        {
          "output_type": "stream",
          "text": [
            "CPU times: user 227 ms, sys: 28.9 ms, total: 256 ms\n",
            "Wall time: 143 ms\n"
          ],
          "name": "stdout"
        }
      ]
    },
    {
      "cell_type": "code",
      "metadata": {
        "id": "nvghCVSWDzmu",
        "colab_type": "code",
        "colab": {
          "base_uri": "https://localhost:8080/",
          "height": 107
        },
        "outputId": "560aeaf7-e32d-4820-c586-4a5cb330862a"
      },
      "source": [
        "%%time\n",
        "\n",
        "from konlpy.tag import Komoran\n",
        "komo = Komoran()\n",
        "print(komo.nouns('안녕하세요! 오늘은 한글 분석을 해 볼게요.'))    # 명사분석\n",
        "print(komo.pos('안녕하세요! 오늘은 한글 분석을 해 볼게요.'))      # 품사태깅\n",
        "print(komo.morphs('안녕하세요! 오늘은 한글 분석을 해 볼게요.'))   # 형태소분석"
      ],
      "execution_count": 27,
      "outputs": [
        {
          "output_type": "stream",
          "text": [
            "['안녕하세요', '오늘', '한글', '분석']\n",
            "[('안녕하세요', 'NNP'), ('!', 'SF'), ('오늘', 'NNG'), ('은', 'JX'), ('한글', 'NNP'), ('분석', 'NNG'), ('을', 'JKO'), ('하', 'VV'), ('아', 'EC'), ('보', 'VX'), ('ㄹ게요', 'EF'), ('.', 'SF')]\n",
            "['안녕하세요', '!', '오늘', '은', '한글', '분석', '을', '하', '아', '보', 'ㄹ게요', '.']\n",
            "CPU times: user 19.9 s, sys: 39.3 ms, total: 20 s\n",
            "Wall time: 10.2 s\n"
          ],
          "name": "stdout"
        }
      ]
    },
    {
      "cell_type": "code",
      "metadata": {
        "id": "Y8_KFRPgEJ--",
        "colab_type": "code",
        "colab": {
          "base_uri": "https://localhost:8080/",
          "height": 107
        },
        "outputId": "7eccec3e-5761-496a-f4e9-b42550afb29b"
      },
      "source": [
        "%%time\n",
        "\n",
        "# Open korean text\n",
        "# http://github.com/open-korean-text/open-korean-text\n",
        "from konlpy.tag import Okt\n",
        "okt = Okt()\n",
        "print(okt.nouns('안녕하세요! 오늘은 한글 분석을 해 볼게요.'))\n",
        "print(okt.pos('안녕하세요! 오늘은 한글 분석을 해 볼게요.'))\n",
        "print(okt.morphs('안녕하세요! 오늘은 한글 분석을 해 볼게요.'))"
      ],
      "execution_count": 28,
      "outputs": [
        {
          "output_type": "stream",
          "text": [
            "['오늘', '한글', '분석', '해']\n",
            "[('안녕하세요', 'Adjective'), ('!', 'Punctuation'), ('오늘', 'Noun'), ('은', 'Josa'), ('한글', 'Noun'), ('분석', 'Noun'), ('을', 'Josa'), ('해', 'Noun'), ('볼게요', 'Verb'), ('.', 'Punctuation')]\n",
            "['안녕하세요', '!', '오늘', '은', '한글', '분석', '을', '해', '볼게요', '.']\n",
            "CPU times: user 94.3 ms, sys: 2.99 ms, total: 97.3 ms\n",
            "Wall time: 59 ms\n"
          ],
          "name": "stdout"
        }
      ]
    },
    {
      "cell_type": "code",
      "metadata": {
        "id": "fgkziiqOEqhF",
        "colab_type": "code",
        "colab": {}
      },
      "source": [
        ""
      ],
      "execution_count": 0,
      "outputs": []
    },
    {
      "cell_type": "code",
      "metadata": {
        "id": "jCS20TIqEna_",
        "colab_type": "code",
        "colab": {}
      },
      "source": [
        ""
      ],
      "execution_count": 0,
      "outputs": []
    },
    {
      "cell_type": "code",
      "metadata": {
        "id": "nMaNG_4SEgDv",
        "colab_type": "code",
        "colab": {}
      },
      "source": [
        ""
      ],
      "execution_count": 0,
      "outputs": []
    },
    {
      "cell_type": "code",
      "metadata": {
        "id": "jHdGwbSiEZx_",
        "colab_type": "code",
        "colab": {}
      },
      "source": [
        ""
      ],
      "execution_count": 0,
      "outputs": []
    }
  ]
}